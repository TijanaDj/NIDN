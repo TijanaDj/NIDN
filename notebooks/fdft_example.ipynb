{
 "cells": [
  {
   "cell_type": "code",
   "execution_count": null,
   "metadata": {},
   "outputs": [],
   "source": [
    "import matplotlib.pyplot as plt\n",
    "import sys\n",
    "sys.path.append(r\"C:\\Users\\to-bo\\OneDrive\\Documents\\ESA\\NIDN\\Developer\\nidn\")\n",
    "\n",
    "import nidn\n",
    "import fdtd\n",
    "import fdtd.backend as bd\n",
    "from nidn.trcwa.init_trcwa import _init_trcwa"
   ]
  },
  {
   "cell_type": "code",
   "execution_count": null,
   "metadata": {},
   "outputs": [],
   "source": [
    "fdtd.set_backend(\"torch\")"
   ]
  },
  {
   "cell_type": "code",
   "execution_count": null,
   "metadata": {},
   "outputs": [],
   "source": [
    "cfg = nidn.load_default_cfg()\n",
    "\n",
    "WAVELENGTH = 5.35e-06\n",
    "\n",
    "GRID_SPACING = cfg.physical_wavelength_range[0]*0.1\n",
    "GRID_SIZE_X = 6e-6\n",
    "GRID_SIZE_Y = GRID_SPACING * 50 # optimal value to be investigated \n",
    "TRANSMISSION_DETECTOR_X = int(3.6*10**(-6)/(GRID_SPACING))\n",
    "REFLECTION_DETECTOR_X = int(2.4*10**(-6)/(GRID_SPACING))\n",
    "SOURCE_X = int(1.6*10**(-6)/(GRID_SPACING))\n",
    "SOURCE_Y = GRID_SIZE_Y/2\n",
    "PML_THICKNESS = int(1.5*10**(-6)/(GRID_SPACING))\n",
    "OBJECT_START_X = int(2.5*10**(-6)/(GRID_SPACING))\n",
    "OBJECT_END_X = int(3.5*10**(-6)/(GRID_SPACING))\n",
    "PULSE_SOURCE = False\n",
    "SPEED_LIGHT: float = 299_792_458.0  # [m/s] speed of light"
   ]
  },
  {
   "cell_type": "code",
   "execution_count": null,
   "metadata": {},
   "outputs": [],
   "source": [
    "grid = fdtd.Grid(\n",
    "    (GRID_SIZE_X, GRID_SIZE_Y, 1),\n",
    "    grid_spacing=GRID_SPACING,\n",
    "    permittivity=1.0,\n",
    "    permeability=1.0\n",
    ")\n",
    "\n",
    "# grid[0, :, :] = fdtd.PeriodicBoundary(name=\"xbounds\")\n",
    "grid[0:PML_THICKNESS, :, :] = fdtd.PML(name=\"pml_xlow\")\n",
    "grid[-PML_THICKNESS:, :, :] = fdtd.PML(name=\"pml_xhigh\")\n",
    "\n",
    "grid[:, 0, :] = fdtd.PeriodicBoundary(name=\"ybounds\")\n",
    "#grid[:, 0:10, :] = fdtd.PML(name=\"pml_ylow\")\n",
    "#grid[:, -10:, :] = fdtd.PML(name=\"pml_yhigh\")\n",
    "\n",
    "point = True\n",
    "\n",
    "if(point):\n",
    "    grid[SOURCE_X,SOURCE_Y, 0] = fdtd.PointSource(\n",
    "    period=WAVELENGTH / SPEED_LIGHT, name=\"linesource\",\n",
    "    pulse =PULSE_SOURCE,\n",
    "    cycle=1,\n",
    "    hanning_dt=1e-15)\n",
    "else:\n",
    "        grid[SOURCE_X,:, 0] = fdtd.LineSource(\n",
    "    period=WAVELENGTH / SPEED_LIGHT, name=\"linesource\")\n",
    "\n",
    "\n",
    "\n",
    "transmisssion_detector = fdtd.LineDetector(name=\"t_detector\")\n",
    "reflection_detector = fdtd.LineDetector(name=\"r_detector\")\n",
    "grid[TRANSMISSION_DETECTOR_X, :, 0] =transmisssion_detector\n",
    "grid[REFLECTION_DETECTOR_X,:,0] = reflection_detector\n",
    "\n",
    "#grid[20:30,:, 0:1] = fdtd.AnisotropicObject(permittivity=2.5, name=\"object\")\n",
    "\n",
    "grid.run(300, progress_bar=False)"
   ]
  },
  {
   "cell_type": "code",
   "execution_count": null,
   "metadata": {},
   "outputs": [],
   "source": [
    "plt.figure()\n",
    "grid.visualize(z=0, animate = True)"
   ]
  },
  {
   "cell_type": "code",
   "execution_count": null,
   "metadata": {},
   "outputs": [],
   "source": [
    "transmission_output = transmisssion_detector.detector_values()\n",
    "reflection_output = reflection_detector.detector_values()\n",
    "z_vals_t = [e[int(SOURCE_Y)][2] for e in transmission_output['E']]\n",
    "z_vals_r = [e[int(SOURCE_Y)][2] for e in reflection_output['E']]\n",
    "t = [i for i in range(len(z_vals_t))]\n",
    "plt.plot(t,z_vals_t)\n",
    "plt.plot(t,z_vals_r)\n",
    "plt.show()\n",
    "\n",
    "intensity1 = 0\n",
    "for i in z_vals_t:\n",
    "    intensity1 += i**2\n",
    "intensity1 = intensity1/len(z_vals_t)\n"
   ]
  },
  {
   "cell_type": "code",
   "execution_count": null,
   "metadata": {},
   "outputs": [],
   "source": [
    "grid2 = fdtd.Grid(\n",
    "    (GRID_SIZE_X, GRID_SIZE_Y, 1),\n",
    "    grid_spacing=GRID_SPACING,\n",
    "    permittivity=1.0,\n",
    "    permeability=1.0\n",
    ")\n",
    "\n",
    "# grid[0, :, :] = fdtd.PeriodicBoundary(name=\"xbounds\")\n",
    "grid2[0:PML_THICKNESS, :, :] = fdtd.PML(name=\"pml_xlow\")\n",
    "grid2[-PML_THICKNESS:, :, :] = fdtd.PML(name=\"pml_xhigh\")\n",
    "\n",
    "grid2[:, 0, :] = fdtd.PeriodicBoundary(name=\"ybounds\")\n",
    "#grid2[:, 0:10, :] = fdtd.PML(name=\"pml_ylow\")\n",
    "#grid2[:, -10:, :] = fdtd.PML(name=\"pml_yhigh\")\n",
    "\n",
    "point = True\n",
    "\n",
    "if(point):\n",
    "    grid2[SOURCE_X,SOURCE_Y, 0] = fdtd.PointSource(\n",
    "    period=WAVELENGTH / SPEED_LIGHT, name=\"linesource\",\n",
    "    pulse = PULSE_SOURCE,\n",
    "    cycle=1,\n",
    "    hanning_dt=1e-15)\n",
    "else:\n",
    "    grid2[SOURCE_X,:, 0] = fdtd.LineSource(\n",
    "    period=WAVELENGTH / SPEED_LIGHT, name=\"linesource\")\n",
    "\n",
    "\n",
    "\n",
    "transmisssion_detector2 = fdtd.LineDetector(name=\"t_detector\")\n",
    "reflection_detector2 = fdtd.LineDetector(name=\"r_detector\")\n",
    "grid2[TRANSMISSION_DETECTOR_X, :, 0] =transmisssion_detector2\n",
    "grid2[REFLECTION_DETECTOR_X,:,0] = reflection_detector2\n",
    "\n",
    "grid2[OBJECT_START_X:OBJECT_END_X,:, :] = fdtd.AnisotropicObject(permittivity=5.1984, name=\"object\")\n",
    "\n",
    "grid2.run(300, progress_bar=False)"
   ]
  },
  {
   "cell_type": "code",
   "execution_count": null,
   "metadata": {},
   "outputs": [],
   "source": [
    "plt.figure()\n",
    "grid2.visualize(z=0, animate = True)\n"
   ]
  },
  {
   "cell_type": "code",
   "execution_count": null,
   "metadata": {},
   "outputs": [],
   "source": [
    "transmission_output2 = transmisssion_detector2.detector_values()\n",
    "reflection_output2 = reflection_detector2.detector_values()\n",
    "z_vals_t2 = [e[int(SOURCE_Y)][2] for e in transmission_output2['E']]\n",
    "z_vals_r2 = [e[int(SOURCE_Y)][2] for e in reflection_output2['E']]\n",
    "t = [i for i in range(len(z_vals_t2))]\n",
    "plt.plot(t,z_vals_t2)\n",
    "#plt.plot(t,z_vals_r2)\n",
    "plt.show()\n",
    "hx_trans2 = [e[int(SOURCE_Y)][0] for e in transmission_output2['H']]\n",
    "hy_trans2 = [e[int(SOURCE_Y)][1] for e in transmission_output2['H']]\n",
    "\n",
    "plt.plot(t,z_vals_t2)\n",
    "plt.plot(t,z_vals_t)\n",
    "plt.legend([\"Transmitted signal whith object\",\"Transmitted signal free space\"])\n",
    "plt.show()\n",
    "intensity2 = 0.00\n",
    "for i in z_vals_t2:\n",
    "    intensity2 += i**2\n",
    "intensity2 = intensity2/len(z_vals_t2)"
   ]
  },
  {
   "cell_type": "code",
   "execution_count": null,
   "metadata": {},
   "outputs": [],
   "source": [
    "intensity2 = 0.00\n",
    "for i in z_vals_t2:\n",
    "    intensity2 += i**2\n",
    "intensity2 = intensity2/len(z_vals_t2)"
   ]
  },
  {
   "cell_type": "code",
   "execution_count": null,
   "metadata": {},
   "outputs": [],
   "source": [
    "transmission = intensity2/intensity1\n",
    "transmission"
   ]
  },
  {
   "cell_type": "code",
   "execution_count": null,
   "metadata": {},
   "outputs": [],
   "source": [
    "plt.plot(t,z_vals_t)\n",
    "plt.plot(t,z_vals_t2)\n"
   ]
  },
  {
   "cell_type": "code",
   "execution_count": null,
   "metadata": {},
   "outputs": [],
   "source": [
    "import numpy"
   ]
  },
  {
   "cell_type": "markdown",
   "metadata": {},
   "source": [
    "Correct phase shift"
   ]
  },
  {
   "cell_type": "code",
   "execution_count": null,
   "metadata": {},
   "outputs": [],
   "source": [
    "signal1 = z_vals_t\n",
    "signal2 = z_vals_t2\n",
    "max_phase_offset = 180\n",
    "max_corr = 0\n",
    "best_offset = 0\n",
    "for offset in range(max_phase_offset):\n",
    "    offset_sig = signal1[offset:] + signal1[:offset] # phase shift signal with concat  \n",
    "    correlation = sum(sum(numpy.corrcoef(offset_sig,signal2)))\n",
    "    if correlation > max_corr:\n",
    "      max_corr = correlation \n",
    "      best_offset = offset \n",
    "#phasedshifted_sig = signal1[best_offset :] + signal1[:best_offset ] # phase shift signal with concat\n",
    "phasedshifted_sig = [0  for i in range(200-best_offset)] + signal1[:best_offset ]"
   ]
  },
  {
   "cell_type": "code",
   "execution_count": null,
   "metadata": {},
   "outputs": [],
   "source": [
    "plt.plot(t,phasedshifted_sig)\n",
    "plt.plot(t,signal2)"
   ]
  },
  {
   "cell_type": "code",
   "execution_count": null,
   "metadata": {},
   "outputs": [],
   "source": [
    "intensity1 = 0\n",
    "for i in signal2:\n",
    "    intensity1 += i**2\n",
    "intensity1 = intensity1/len(phasedshifted_sig)\n",
    "intensity2 = 0\n",
    "for i in phasedshifted_sig:\n",
    "    intensity2 += i**2\n",
    "intensity2 = intensity2/len(signal2)\n",
    "\n",
    "transmission = intensity1/intensity2\n",
    "transmission"
   ]
  },
  {
   "cell_type": "code",
   "execution_count": null,
   "metadata": {},
   "outputs": [],
   "source": [
    "from scipy.fft import rfft, rfftfreq"
   ]
  },
  {
   "cell_type": "code",
   "execution_count": null,
   "metadata": {},
   "outputs": [],
   "source": [
    "signal1 = phasedshifted_sig\n",
    "sample_rate = int((numpy.sqrt(2)*SPEED_LIGHT)/GRID_SPACING)\n",
    "\n",
    "yf1 = rfft(signal1)\n",
    "yf2 = rfft(signal2)\n",
    "xf = rfftfreq(200, sample_rate)\n",
    "plt.plot(xf, numpy.abs(yf1))\n",
    "plt.plot(xf, numpy.abs(yf2))\n",
    "plt.show()"
   ]
  }
 ],
 "metadata": {
  "interpreter": {
   "hash": "cd0991b29d7d690bc5e205a01d9268c3e1c540c626acb4d966155a50f21eac25"
  },
  "kernelspec": {
   "display_name": "Python 3.9.10 64-bit ('nidn': conda)",
   "language": "python",
   "name": "python3"
  },
  "language_info": {
   "codemirror_mode": {
    "name": "ipython",
    "version": 3
   },
   "file_extension": ".py",
   "mimetype": "text/x-python",
   "name": "python",
   "nbconvert_exporter": "python",
   "pygments_lexer": "ipython3",
   "version": "3.9.10"
  },
  "orig_nbformat": 4
 },
 "nbformat": 4,
 "nbformat_minor": 2
}
