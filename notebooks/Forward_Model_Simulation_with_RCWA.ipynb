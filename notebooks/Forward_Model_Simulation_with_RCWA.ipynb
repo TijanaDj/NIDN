{
 "cells": [
  {
   "cell_type": "markdown",
   "id": "93c66efa",
   "metadata": {},
   "source": [
    "## TRCWA\n",
    "\n",
    "TODO explain what this is and where it comes from"
   ]
  },
  {
   "cell_type": "code",
   "execution_count": null,
   "id": "58f11ef5",
   "metadata": {},
   "outputs": [],
   "source": [
    "### Imports\n",
    "%load_ext autoreload\n",
    "%autoreload 2\n",
    "\n",
    "# Append main folder\n",
    "import sys\n",
    "sys.path.append(\"..\")\n",
    "\n",
    "import nidn\n",
    "import torch"
   ]
  },
  {
   "cell_type": "code",
   "execution_count": null,
   "id": "d9aa62c8",
   "metadata": {},
   "outputs": [],
   "source": [
    "# Start with the default config\n",
    "cfg = nidn.load_default_cfg()"
   ]
  },
  {
   "cell_type": "code",
   "execution_count": null,
   "id": "15dbc61e",
   "metadata": {},
   "outputs": [],
   "source": [
    "# Titanium Oxide Uniform\n",
    "# Set grid specifics\n",
    "cfg.Nx = 15\n",
    "cfg.Ny = 15\n",
    "cfg.N_layers = 1\n",
    "cfg.N_freq = 32\n",
    "cfg.TRCWA_L_grid = [[0.1,0.0],[0.0,0.1]]\n",
    "cfg.TRCWA_NG = 11\n",
    "cfg.TRCWA_PER_LAYER_THICKNESS = [1.0]\n",
    "cfg.freq_distribution = \"linear\"\n",
    "\n",
    "# Specify your desired range of wavelengths\n",
    "cfg.physical_wavelength_range[0] = 1e-6\n",
    "cfg.physical_wavelength_range[1] = 1e-5\n",
    "\n",
    "# Determine target frequencies (in TRCWA units)\n",
    "cfg.target_frequencies = nidn.compute_target_frequencies(\n",
    "    cfg.physical_wavelength_range[0],\n",
    "    cfg.physical_wavelength_range[1],\n",
    "    cfg.N_freq,\n",
    "    cfg.freq_distribution\n",
    ")"
   ]
  },
  {
   "cell_type": "code",
   "execution_count": null,
   "id": "dea2d797",
   "metadata": {},
   "outputs": [],
   "source": [
    "# Init eps_grid\n",
    "eps_grid = torch.zeros(cfg.Nx,cfg.Ny,cfg.N_layers,cfg.N_freq,dtype=torch.cfloat)\n",
    "\n",
    "layer_builder = nidn.LayerBuilder(cfg)"
   ]
  },
  {
   "cell_type": "code",
   "execution_count": null,
   "id": "51cb8542",
   "metadata": {},
   "outputs": [],
   "source": [
    "# Uniform Titanium oxide\n",
    "eps_grid[:,:,0,:] = layer_builder.build_uniform_layer(\"titanium_oxide\")\n",
    "eps_grid[:,:,1,:] = layer_builder.build_uniform_layer(\"germanium\")\n",
    "eps_grid[:,:,2,:] = layer_builder.build_uniform_layer(\"tantalum_pentoxide\")\n",
    "# eps_grid[:,:,0,:] = layer_builder.build_circle_layer(\"tantalum_pentoxide\",\"titanium_oxide\")"
   ]
  },
  {
   "cell_type": "code",
   "execution_count": null,
   "id": "171ffae2",
   "metadata": {},
   "outputs": [],
   "source": [
    "# Plot the abs values of the produced grid\n",
    "nidn.plot_epsilon_grid(eps_grid,cfg)"
   ]
  },
  {
   "cell_type": "code",
   "execution_count": null,
   "id": "2a3fbd51",
   "metadata": {},
   "outputs": [],
   "source": [
    "# Print run config\n",
    "nidn.print_cfg(cfg)"
   ]
  },
  {
   "cell_type": "code",
   "execution_count": null,
   "id": "0e34694f",
   "metadata": {},
   "outputs": [],
   "source": [
    "# Compute spectrum for this configuration\n",
    "R,T = nidn.compute_spectrum(eps_grid,cfg)"
   ]
  },
  {
   "cell_type": "code",
   "execution_count": null,
   "id": "d73f3987",
   "metadata": {},
   "outputs": [],
   "source": [
    "nidn.plot_spectrum(cfg,R,T)"
   ]
  },
  {
   "cell_type": "code",
   "execution_count": null,
   "id": "c6201787",
   "metadata": {},
   "outputs": [],
   "source": [
    "print(\"R = [\")\n",
    "[print(f\"{r.item():.8f}\",end=\",\") for r in R]\n",
    "print(\"]\")\n",
    "print(\"T = [\")\n",
    "[print(f\"{t.item():.8f}\",end=\",\") for t in T]\n",
    "print(\"]\")"
   ]
  },
  {
   "cell_type": "code",
   "execution_count": null,
   "id": "c5799f8d",
   "metadata": {},
   "outputs": [],
   "source": [
    "# Set grid specifics\n",
    "cfg.Nx = 1\n",
    "cfg.Ny = 1\n",
    "cfg.N_layers = 25\n",
    "cfg.N_freq = 40\n",
    "cfg.TRCWA_L_grid = [[1.,0.0],[0.0,1.]]\n",
    "cfg.TRCWA_NG = 11\n",
    "\n",
    "# Specify your desired range of wavelengths\n",
    "cfg.physical_wavelength_range[0] = (1.3)*1e-6\n",
    "cfg.physical_wavelength_range[1] = (1.7)*1e-6\n",
    "\n",
    "# Determine target frequencies (in TRCWA units)\n",
    "cfg.target_frequencies = nidn.compute_target_frequencies(\n",
    "    cfg.physical_wavelength_range[0],\n",
    "    cfg.physical_wavelength_range[1],\n",
    "    cfg.N_freq,\n",
    "    cfg.freq_distribution\n",
    ")"
   ]
  },
  {
   "cell_type": "code",
   "execution_count": null,
   "id": "cf04c733",
   "metadata": {},
   "outputs": [],
   "source": [
    "# Init eps_grid\n",
    "eps_grid = torch.zeros(cfg.Nx,cfg.Ny,cfg.N_layers,cfg.N_freq,dtype=torch.cfloat)\n",
    "\n",
    "layer_builder = nidn.LayerBuilder(cfg)"
   ]
  },
  {
   "cell_type": "code",
   "execution_count": null,
   "id": "3d9a6cdf",
   "metadata": {},
   "outputs": [],
   "source": [
    "thicknesses = []\n",
    "\n",
    "n_2 = 2.2\n",
    "n_1 = 1.5\n",
    "eps_1 = n_1**2\n",
    "eps_2 = n_2**2\n",
    "\n",
    "lam0 = 1.50\n",
    "d_1 = lam0/(4*n_1)\n",
    "d_2 = lam0/(4*n_2)\n",
    "d_defect = lam0/(2*n_1)\n",
    "\n",
    "# Top DBR\n",
    "for i in range(6):\n",
    "    eps_grid[:,:,2*i,:] = eps_1\n",
    "    thicknesses.append(d_1)\n",
    "    eps_grid[:,:,2*i+1,:] = eps_2\n",
    "    thicknesses.append(d_2)\n",
    "    \n",
    "# Defect \n",
    "eps_grid[:,:,12,:] = eps_1\n",
    "thicknesses.append(d_defect)\n",
    "\n",
    "# Bottom DBR\n",
    "for i in range(6,12):\n",
    "    eps_grid[:,:,2*i+1,:] = eps_2\n",
    "    thicknesses.append(d_2)\n",
    "    eps_grid[:,:,2*i+2,:] = eps_1\n",
    "    thicknesses.append(d_1)\n",
    "\n",
    "thicknesses.reverse()\n",
    "cfg.TRCWA_PER_LAYER_THICKNESS = thicknesses\n",
    "    \n",
    "# eps_grid[:,:,0,:] = layer_builder.build_uniform_layer(\"titanium_oxide\")\n",
    "# eps_grid[:,:,0,:] = layer_builder.build_squared_layer(\"germanium\",\"tantalum_pentoxide\")\n",
    "#eps_grid[:,:,1,:] = layer_builder.build_uniform_layer(\"aluminium_nitride\")\n",
    "#eps_grid[:,:,2,:] = layer_builder.build_squared_layer(\"titanium_oxide\",\"germanium\")"
   ]
  },
  {
   "cell_type": "code",
   "execution_count": null,
   "id": "dbac2e63",
   "metadata": {},
   "outputs": [],
   "source": [
    "d_1"
   ]
  },
  {
   "cell_type": "code",
   "execution_count": null,
   "id": "e9e1e5f6",
   "metadata": {},
   "outputs": [],
   "source": [
    "d_2"
   ]
  },
  {
   "cell_type": "code",
   "execution_count": null,
   "id": "bf467d0d",
   "metadata": {},
   "outputs": [],
   "source": [
    "d_defect"
   ]
  },
  {
   "cell_type": "code",
   "execution_count": null,
   "id": "2a503788",
   "metadata": {},
   "outputs": [],
   "source": [
    "# Plot the abs values of the produced grid\n",
    "nidn.plot_epsilon_grid(eps_grid,cfg)"
   ]
  },
  {
   "cell_type": "code",
   "execution_count": null,
   "id": "8fdeb119",
   "metadata": {},
   "outputs": [],
   "source": [
    "# Compute spectrum for this configuration\n",
    "R,T = nidn.compute_spectrum(eps_grid,cfg)"
   ]
  },
  {
   "cell_type": "code",
   "execution_count": null,
   "id": "26b1f85f",
   "metadata": {},
   "outputs": [],
   "source": [
    "nidn.plot_spectrum(cfg,R,T)"
   ]
  },
  {
   "cell_type": "code",
   "execution_count": null,
   "id": "4e1c12b3",
   "metadata": {},
   "outputs": [],
   "source": [
    "print(\"R = [\")\n",
    "[print(f\"{r.item():.8f}\",end=\",\") for r in R]\n",
    "print(\"]\")\n",
    "print(\"T = [\")\n",
    "[print(f\"{t.item():.8f}\",end=\",\") for t in T]\n",
    "print(\"]\")"
   ]
  },
  {
   "cell_type": "code",
   "execution_count": null,
   "id": "ff06a683",
   "metadata": {},
   "outputs": [],
   "source": []
  }
 ],
 "metadata": {
  "kernelspec": {
   "display_name": "Python 3 (ipykernel)",
   "language": "python",
   "name": "python3"
  },
  "language_info": {
   "codemirror_mode": {
    "name": "ipython",
    "version": 3
   },
   "file_extension": ".py",
   "mimetype": "text/x-python",
   "name": "python",
   "nbconvert_exporter": "python",
   "pygments_lexer": "ipython3",
   "version": "3.9.6"
  }
 },
 "nbformat": 4,
 "nbformat_minor": 5
}
