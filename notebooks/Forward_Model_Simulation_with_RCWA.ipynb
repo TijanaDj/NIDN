{
 "cells": [
  {
   "cell_type": "markdown",
   "id": "93c66efa",
   "metadata": {},
   "source": [
    "## TRCWA\n",
    "\n",
    "TODO explain what this is and where it comes from"
   ]
  },
  {
   "cell_type": "code",
   "execution_count": null,
   "id": "58f11ef5",
   "metadata": {},
   "outputs": [],
   "source": [
    "### Imports\n",
    "%load_ext autoreload\n",
    "%autoreload 2\n",
    "\n",
    "# Append main folder\n",
    "import sys\n",
    "sys.path.append(\"..\")\n",
    "\n",
    "import nidn\n",
    "import torch"
   ]
  },
  {
   "cell_type": "code",
   "execution_count": null,
   "id": "d9aa62c8",
   "metadata": {},
   "outputs": [],
   "source": [
    "# Start with the default config\n",
    "cfg = nidn.load_default_cfg()"
   ]
  },
  {
   "cell_type": "code",
   "execution_count": null,
   "id": "15dbc61e",
   "metadata": {},
   "outputs": [],
   "source": [
    "# Titanium Oxide Uniform\n",
    "# Set grid specifics\n",
    "cfg.Nx = 1\n",
    "cfg.Ny = 1\n",
    "cfg.N_layers = 1\n",
    "cfg.N_freq = 64\n",
    "cfg.TRCWA_L_grid = [[0.1,0.0],[0.0,0.1]]\n",
    "cfg.TRCWA_NG = 11\n",
    "cfg.PER_LAYER_THICKNESS = [1.0]\n",
    "cfg.freq_distribution = \"linear\"\n",
    "\n",
    "# Specify your desired range of wavelengths\n",
    "cfg.physical_wavelength_range[0] = 1e-6\n",
    "cfg.physical_wavelength_range[1] = 1e-5\n",
    "\n",
    "# Determine target frequencies (in TRCWA units)\n",
    "cfg.target_frequencies = nidn.compute_target_frequencies(\n",
    "    cfg.physical_wavelength_range[0],\n",
    "    cfg.physical_wavelength_range[1],\n",
    "    cfg.N_freq,\n",
    "    cfg.freq_distribution\n",
    ")"
   ]
  },
  {
   "cell_type": "code",
   "execution_count": null,
   "id": "dea2d797",
   "metadata": {},
   "outputs": [],
   "source": [
    "# Init eps_grid\n",
    "eps_grid = torch.zeros(cfg.Nx,cfg.Ny,cfg.N_layers,cfg.N_freq,dtype=torch.cfloat)\n",
    "\n",
    "layer_builder = nidn.LayerBuilder(cfg)"
   ]
  },
  {
   "cell_type": "code",
   "execution_count": null,
   "id": "51cb8542",
   "metadata": {},
   "outputs": [],
   "source": [
    "# Uniform Titanium oxide\n",
    "eps_grid[:,:,0,:] = layer_builder.build_uniform_layer(\"titanium_oxide\")"
   ]
  },
  {
   "cell_type": "code",
   "execution_count": null,
   "id": "171ffae2",
   "metadata": {},
   "outputs": [],
   "source": [
    "# Plot the abs values of the produced grid\n",
    "nidn.plot_epsilon_grid(eps_grid,cfg)"
   ]
  },
  {
   "cell_type": "code",
   "execution_count": null,
   "id": "2a3fbd51",
   "metadata": {},
   "outputs": [],
   "source": [
    "# Print run config\n",
    "nidn.print_cfg(cfg)"
   ]
  },
  {
   "cell_type": "code",
   "execution_count": null,
   "id": "0e34694f",
   "metadata": {},
   "outputs": [],
   "source": [
    "# Compute spectrum for this configuration\n",
    "R,T = nidn.compute_spectrum(eps_grid,cfg)"
   ]
  },
  {
   "cell_type": "code",
   "execution_count": null,
   "id": "d73f3987",
   "metadata": {},
   "outputs": [],
   "source": [
    "nidn.plot_spectrum(cfg,R,T)"
   ]
  },
  {
   "cell_type": "code",
   "execution_count": null,
   "id": "c6201787",
   "metadata": {},
   "outputs": [],
   "source": [
    "print(\"R = [\")\n",
    "[print(f\"{r.item():.8f}\",end=\",\") for r in R]\n",
    "print(\"]\")\n",
    "print(\"T = [\")\n",
    "[print(f\"{t.item():.8f}\",end=\",\") for t in T]\n",
    "print(\"]\")"
   ]
  }
 ],
 "metadata": {
  "kernelspec": {
   "display_name": "Python 3 (ipykernel)",
   "language": "python",
   "name": "python3"
  },
  "language_info": {
   "codemirror_mode": {
    "name": "ipython",
    "version": 3
   },
   "file_extension": ".py",
   "mimetype": "text/x-python",
   "name": "python",
   "nbconvert_exporter": "python",
   "pygments_lexer": "ipython3",
   "version": "3.10.10"
  },
  "vscode": {
   "interpreter": {
    "hash": "1ec5cfae9b828f8ab7e7cdcd8237afffb09b0704a5815a216abf273e6fa91aea"
   }
  }
 },
 "nbformat": 4,
 "nbformat_minor": 5
}
