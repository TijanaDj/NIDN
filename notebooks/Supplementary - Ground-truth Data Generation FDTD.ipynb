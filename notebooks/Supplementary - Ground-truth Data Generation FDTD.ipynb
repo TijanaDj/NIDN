{
 "cells": [
  {
   "cell_type": "code",
   "execution_count": null,
   "id": "58f11ef5",
   "metadata": {},
   "outputs": [],
   "source": [
    "import sys\n",
    "sys.path.append(\"..\")\n",
    "\n",
    "import nidn\n",
    "import torch"
   ]
  },
  {
   "cell_type": "code",
   "execution_count": null,
   "id": "d9aa62c8",
   "metadata": {},
   "outputs": [],
   "source": [
    "cfg = nidn.load_default_cfg()\n",
    "# Set the number of frequencies to simulate for\n",
    "cfg.N_freq = 50\n",
    "#Number of layers with materials\n",
    "cfg.N_layers = 1\n",
    "# Define the thickness of each layer\n",
    "cfg.PER_LAYER_THICKNESS=[0.38]\n",
    "#Smallest wavelength\n",
    "cfg.physical_wavelength_range[0]=3e-7\n",
    "#Largest wavelength\n",
    "cfg.physical_wavelength_range[1]=9e-7\n",
    "# Choose FDTD method, TRCWA other option\n",
    "cfg.solver = \"FDTD\"\n",
    "# Set number of time steps in FDTD\n",
    "cfg.FDTD_niter = 400\n",
    "# Choose pulse type (continuous, hanning or ricker)\n",
    "cfg.FDTD_pulse_type = 'continuous'\n",
    "# Choose source type (line or point)\n",
    "cfg.FDTD_source_type = 'line'"
   ]
  },
  {
   "cell_type": "markdown",
   "id": "4b9f830a",
   "metadata": {},
   "source": [
    "## Uniform Titanium-Oxide Ground Truth"
   ]
  },
  {
   "cell_type": "code",
   "execution_count": null,
   "id": "15dbc61e",
   "metadata": {},
   "outputs": [],
   "source": [
    "# Specify your desired range of wavelengths\n",
    "cfg.physical_wavelength_range[0] = 3e-7\n",
    "cfg.physical_wavelength_range[1] = 9e-7\n",
    "\n",
    "# Determine target frequencies (in TRCWA units)\n",
    "cfg.target_frequencies = nidn.compute_target_frequencies(\n",
    "    cfg.physical_wavelength_range[0],\n",
    "    cfg.physical_wavelength_range[1],\n",
    "    cfg.N_freq,\n",
    "    cfg.freq_distribution\n",
    ")"
   ]
  },
  {
   "cell_type": "code",
   "execution_count": null,
   "id": "dea2d797",
   "metadata": {},
   "outputs": [],
   "source": [
    "# Init eps_grid\n",
    "eps_grid = torch.zeros(cfg.Nx,cfg.Ny,cfg.N_layers,cfg.N_freq,dtype=torch.cfloat)\n",
    "\n",
    "layer_builder = nidn.LayerBuilder(cfg)\n",
    "eps_grid[:,:,0,:] = layer_builder.build_uniform_layer(\"titanium_oxide\")\n",
    "cfg.solver = \"FDTD\""
   ]
  },
  {
   "cell_type": "code",
   "execution_count": null,
   "id": "0e34694f",
   "metadata": {},
   "outputs": [],
   "source": [
    "# Compute spectrum for this configuration\n",
    "R,T = nidn.compute_spectrum(eps_grid,cfg)\n",
    "nidn.plot_spectrum(cfg,R,T)"
   ]
  },
  {
   "cell_type": "code",
   "execution_count": null,
   "id": "c6201787",
   "metadata": {},
   "outputs": [],
   "source": [
    "print(\"cfg.target_reflectance_spectrum = [\", end=\"\")\n",
    "[print(f\"{r.item():.8f}\",end=\",\") for r in R]\n",
    "print(\"]\")\n",
    "print(\"cfg.target_transmittance_spectrum = [\",end=\"\")\n",
    "[print(f\"{t.item():.8f}\",end=\",\") for t in T]\n",
    "print(\"]\")"
   ]
  },
  {
   "cell_type": "markdown",
   "id": "51c6fb7a",
   "metadata": {},
   "source": [
    "## Uniform 3-Layer Ground-truth "
   ]
  },
  {
   "cell_type": "code",
   "execution_count": null,
   "id": "0d3f9ca5",
   "metadata": {},
   "outputs": [],
   "source": [
    "# Start with the default config\n",
    "cfg = nidn.load_default_cfg()\n",
    "\n",
    "# Set grid specifics\n",
    "cfg.Nx = 1\n",
    "cfg.Ny = 1\n",
    "cfg.N_layers = 3\n",
    "cfg.N_freq = 32\n",
    "cfg.TRCWA_PER_LAYER_THICKNESS = [1.0]\n",
    "cfg.freq_distribution = \"linear\"\n",
    "\n",
    "# Specify your desired range of wavelengths\n",
    "cfg.physical_wavelength_range[0] = 7e-7\n",
    "cfg.physical_wavelength_range[1] = 7e-6\n",
    "\n",
    "# Determine target frequencies (in TRCWA units)\n",
    "cfg.target_frequencies = nidn.compute_target_frequencies(\n",
    "    cfg.physical_wavelength_range[0],\n",
    "    cfg.physical_wavelength_range[1],\n",
    "    cfg.N_freq,\n",
    "    cfg.freq_distribution\n",
    ")"
   ]
  },
  {
   "cell_type": "code",
   "execution_count": null,
   "id": "cbd0e2b9",
   "metadata": {},
   "outputs": [],
   "source": [
    "# Init eps_grid\n",
    "eps_grid = torch.zeros(cfg.Nx,cfg.Ny,cfg.N_layers,cfg.N_freq,dtype=torch.cfloat)\n",
    "\n",
    "layer_builder = nidn.LayerBuilder(cfg)\n",
    "eps_grid[:,:,0,:] = layer_builder.build_uniform_layer(\"titanium_oxide\")\n",
    "eps_grid[:,:,1,:] = layer_builder.build_uniform_layer(\"germanium\")\n",
    "eps_grid[:,:,2,:] = layer_builder.build_uniform_layer(\"tantalum_pentoxide\")\n",
    "cfg.FDTD_niter = 800"
   ]
  },
  {
   "cell_type": "code",
   "execution_count": null,
   "id": "2228a416",
   "metadata": {},
   "outputs": [],
   "source": [
    "# Compute spectrum for this configuration\n",
    "R,T = nidn.compute_spectrum(eps_grid,cfg)\n",
    "nidn.plot_spectrum(cfg,R,T)"
   ]
  },
  {
   "cell_type": "code",
   "execution_count": null,
   "id": "bfccb990",
   "metadata": {},
   "outputs": [],
   "source": [
    "print(\"cfg.target_reflectance_spectrum = [\", end=\"\")\n",
    "[print(f\"{r.item():.8f}\",end=\",\") for r in R]\n",
    "print(\"]\")\n",
    "print(\"cfg.target_transmittance_spectrum = [\",end=\"\")\n",
    "[print(f\"{t.item():.8f}\",end=\",\") for t in T]\n",
    "print(\"]\")"
   ]
  },
  {
   "cell_type": "markdown",
   "id": "4ba131bd",
   "metadata": {},
   "source": [
    "# Extract time signal for comparison"
   ]
  },
  {
   "cell_type": "markdown",
   "id": "044a91d1",
   "metadata": {},
   "source": [
    "### Our implementation"
   ]
  },
  {
   "cell_type": "code",
   "execution_count": null,
   "id": "99d1aecf",
   "metadata": {},
   "outputs": [],
   "source": [
    "from nidn.fdtd_integration.init_fdtd import init_fdtd\n",
    "from nidn.fdtd_integration.compute_spectrum_fdtd import _get_detector_values\n",
    "import matplotlib.pyplot as plt"
   ]
  },
  {
   "cell_type": "code",
   "execution_count": null,
   "id": "4ccc045e",
   "metadata": {},
   "outputs": [],
   "source": [
    "cfg = nidn.load_default_cfg()\n",
    "# Set the number of frequencies to simulate for\n",
    "cfg.N_freq = 1\n",
    "#Number of layers with materials\n",
    "cfg.N_layers = 1\n",
    "# Define the thickness of each layer\n",
    "cfg.PER_LAYER_THICKNESS=[0.3]\n",
    "#Smallest wavelength\n",
    "cfg.physical_wavelength_range[0]=10e-7\n",
    "#Largest wavelength\n",
    "cfg.physical_wavelength_range[1]=10e-7\n",
    "# Choose FDTD method, TRCWA other option\n",
    "cfg.solver = \"FDTD\"\n",
    "# Set number of time steps in FDTD\n",
    "cfg.FDTD_niter = 400\n",
    "# Choose pulse type (continuous, hanning or ricker)\n",
    "cfg.FDTD_pulse_type = 'continuous'\n",
    "# Choose source type (line or point)\n",
    "cfg.FDTD_source_type = 'line'"
   ]
  },
  {
   "cell_type": "code",
   "execution_count": null,
   "id": "96d0afaa",
   "metadata": {},
   "outputs": [],
   "source": [
    "# Determine target frequencies (in TRCWA units)\n",
    "cfg.target_frequencies = nidn.compute_target_frequencies(\n",
    "    cfg.physical_wavelength_range[0],\n",
    "    cfg.physical_wavelength_range[1],\n",
    "    cfg.N_freq,\n",
    "    cfg.freq_distribution\n",
    ")"
   ]
  },
  {
   "cell_type": "code",
   "execution_count": null,
   "id": "ee0d5532",
   "metadata": {},
   "outputs": [],
   "source": [
    "# Init eps_grid\n",
    "eps_grid = torch.zeros(cfg.Nx,cfg.Ny,cfg.N_layers,cfg.N_freq,dtype=torch.cfloat)\n",
    "\n",
    "layer_builder = nidn.LayerBuilder(cfg)\n",
    "eps_grid[:,:,0,:] = layer_builder.build_uniform_layer(\"titanium_oxide\")\n",
    "cfg.solver = \"FDTD\""
   ]
  },
  {
   "cell_type": "code",
   "execution_count": null,
   "id": "2d242343",
   "metadata": {},
   "outputs": [],
   "source": [
    "grid, t_detector_material, _  = init_fdtd(cfg,include_object = True, wavelength = cfg.physical_wavelength_range[0],permittivity = eps_grid[:,:,0,:])\n",
    "grid.run(cfg.FDTD_niter)"
   ]
  },
  {
   "cell_type": "code",
   "execution_count": null,
   "id": "fc599cf0",
   "metadata": {},
   "outputs": [],
   "source": [
    "t_signal_material, r_ = _get_detector_values(t_detector_material,_)"
   ]
  },
  {
   "cell_type": "code",
   "execution_count": null,
   "id": "ca8e25f9",
   "metadata": {},
   "outputs": [],
   "source": [
    "plt.figure()\n",
    "grid.visualize(z=0)"
   ]
  },
  {
   "cell_type": "markdown",
   "id": "06995850",
   "metadata": {},
   "source": [
    "### Original FDTD"
   ]
  },
  {
   "cell_type": "code",
   "execution_count": null,
   "id": "e48fa77d",
   "metadata": {},
   "outputs": [],
   "source": [
    "import fdtd\n",
    "from nidn.utils.global_constants import EPS_0, PI\n",
    "\n",
    "fdtd.set_backend(\"torch\")\n",
    "\n",
    "WAVELENGTH = 10e-7\n",
    "SPEED_LIGHT: float = 299_792_458.0 \n",
    "TIMESTEPS = 400"
   ]
  },
  {
   "cell_type": "markdown",
   "id": "4a0338eb",
   "metadata": {},
   "source": [
    "Set up the grid in the same way"
   ]
  },
  {
   "cell_type": "code",
   "execution_count": null,
   "id": "0f780f74",
   "metadata": {},
   "outputs": [],
   "source": [
    "# create FDTD Grid\n",
    "grid_spacing = 0.1 * WAVELENGTH\n",
    "grid = fdtd.Grid(\n",
    "    (5.3e-6,3, 1),  # 2D grid\n",
    "    grid_spacing=grid_spacing,\n",
    "    permittivity=1.0,  # Relative permittivity of 1  vacuum\n",
    ")\n",
    "\n",
    "# sources\n",
    "grid[int(1.5e-6/grid_spacing), :] = fdtd.LineSource(period=WAVELENGTH / SPEED_LIGHT, name=\"source\")\n",
    "\n",
    "# detectors\n",
    "t_detector_material = fdtd.LineDetector(name=\"detector\")\n",
    "grid[int(2.8e-6/grid_spacing)+2, :, 0] = t_detector_material\n",
    "\n",
    "# x boundaries\n",
    "grid[0:int(1.5e-6/grid_spacing), :, :] = fdtd.PML(name=\"pml_xlow\")\n",
    "grid[-int(1.5e-6/grid_spacing):, :, :] = fdtd.PML(name=\"pml_xhigh\")\n",
    "\n",
    "# y boundaries\n",
    "grid[:, 0, :] = fdtd.PeriodicBoundary(name=\"ybounds\")\n",
    "\n",
    "# Calculate correct permittivity\n",
    "cfg.physical_wavelength_range[0]=10e-7\n",
    "cfg.physical_wavelength_range[1]=10e-7\n",
    "cfg.target_frequencies = nidn.compute_target_frequencies(\n",
    "    cfg.physical_wavelength_range[0],\n",
    "    cfg.physical_wavelength_range[1],\n",
    "    cfg.N_freq,\n",
    "    cfg.freq_distribution)\n",
    "eps_grid = torch.zeros(cfg.Nx,cfg.Ny,cfg.N_layers,cfg.N_freq,dtype=torch.cfloat)\n",
    "layer_builder = nidn.LayerBuilder(cfg)\n",
    "eps_grid[:,:,0,:] = layer_builder.build_uniform_layer(\"titanium_oxide\")\n",
    "\n",
    "\n",
    "# The absorbing object fills the whole grid\n",
    "grid[int(2.5e-6/grid_spacing):int(2.8e-6/grid_spacing),:, :] = fdtd.AbsorbingObject(\n",
    "    permittivity=eps_grid[:,:,0,0].real, conductivity=eps_grid[:,:,0,0].imag*SPEED_LIGHT/WAVELENGTH*2*PI*EPS_0, name=\"absorbin_object\"\n",
    ")\n",
    "plt.figure()\n",
    "grid.visualize(z=0)"
   ]
  },
  {
   "cell_type": "markdown",
   "id": "2591c62b",
   "metadata": {},
   "source": [
    "Run the simulation"
   ]
  },
  {
   "cell_type": "code",
   "execution_count": null,
   "id": "22f7fd18",
   "metadata": {},
   "outputs": [],
   "source": [
    "grid.run(TIMESTEPS, progress_bar= False)"
   ]
  },
  {
   "cell_type": "markdown",
   "id": "81e218bd",
   "metadata": {},
   "source": [
    "Extract time domain signal from detector"
   ]
  },
  {
   "cell_type": "code",
   "execution_count": null,
   "id": "16598006",
   "metadata": {},
   "outputs": [],
   "source": [
    "raw_signal = []\n",
    "t = []\n",
    "for i in range(TIMESTEPS):\n",
    "    #Add only the z component of the E field from the center point of the detector, as there is only z polarized waves\n",
    "    raw_signal.append(t_detector_material.detector_values()['E'][i][1][2])\n",
    "    t.append(i)\n",
    "#raw_signal, r_ = _get_detector_values(t_detector_material,t_detector_material)"
   ]
  },
  {
   "cell_type": "markdown",
   "id": "3a4cafb6",
   "metadata": {},
   "source": [
    "Plot the signal through the material for both cases, to see that thay match"
   ]
  },
  {
   "cell_type": "code",
   "execution_count": null,
   "id": "3005b05a",
   "metadata": {},
   "outputs": [],
   "source": [
    "plt.figure()\n",
    "plt.plot(t,raw_signal)\n",
    "plt.plot(t,t_signal_material)\n",
    "plt.legend([\"Original FDTD\", \"Modified FDTD\"])"
   ]
  }
 ],
 "metadata": {
  "kernelspec": {
   "display_name": "Python 3 (ipykernel)",
   "language": "python",
   "name": "python3"
  },
  "language_info": {
   "codemirror_mode": {
    "name": "ipython",
    "version": 3
   },
   "file_extension": ".py",
   "mimetype": "text/x-python",
   "name": "python",
   "nbconvert_exporter": "python",
   "pygments_lexer": "ipython3",
   "version": "3.9.10"
  }
 },
 "nbformat": 4,
 "nbformat_minor": 5
}
