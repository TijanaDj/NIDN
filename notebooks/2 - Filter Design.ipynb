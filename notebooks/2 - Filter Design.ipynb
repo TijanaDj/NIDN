{
 "cells": [
  {
   "cell_type": "code",
   "execution_count": null,
   "id": "e5c11861",
   "metadata": {},
   "outputs": [],
   "source": [
    "### Imports (TODO remove this when finished)\n",
    "%load_ext autoreload\n",
    "%autoreload 2\n",
    "\n",
    "# Append root folder in case you haven't installed NIDN\n",
    "import sys\n",
    "sys.path.append(\"../\")\n",
    "\n",
    "import nidn"
   ]
  },
  {
   "cell_type": "markdown",
   "id": "7a922d82",
   "metadata": {},
   "source": [
    "### Define filter target"
   ]
  },
  {
   "cell_type": "code",
   "execution_count": null,
   "id": "579aae8b",
   "metadata": {},
   "outputs": [],
   "source": [
    "cfg = nidn.load_default_cfg() # Load default cfg as starting point\n",
    "\n",
    "\n",
    "# 1550 Filter\n",
    "cfg.target_reflectance_spectrum =   19*[1.0] + 4*[0.0] + 9*[1.0]\n",
    "cfg.target_transmittance_spectrum = 19*[0.0] + 4*[1.0] + 9*[0.0]\n",
    "cfg.TRCWA_PER_LAYER_THICKNESS = [1.]\n",
    "cfg.TRCWA_L_grid = [[1.0,0.0],[0.0,1.0]]\n",
    "cfg.physical_wavelength_range[0] = 1e-6\n",
    "cfg.physical_wavelength_range[1] = 1e-5\n",
    "cfg.freq_distribution = \"linear\"\n",
    "\n",
    "cfg.siren_omega = 1.\n",
    "\n",
    "cfg.N_freq = 32\n",
    "\n",
    "nidn.plot_spectrum(cfg,\n",
    "                   cfg.target_reflectance_spectrum,\n",
    "                   cfg.target_transmittance_spectrum)\n",
    "\n",
    "physical_wls, normalized_freqs = nidn.get_frequency_points(cfg)\n",
    "print(\"Physical wavelengths are (in meters):\")\n",
    "print(physical_wls)"
   ]
  },
  {
   "cell_type": "code",
   "execution_count": null,
   "id": "970b965a",
   "metadata": {},
   "outputs": [],
   "source": [
    "cfg.pop(\"model\",None); # Forget the old model\n",
    "\n",
    "cfg.Nx = 1 # Set layer size  to 1x1 (interpreted as uniform)\n",
    "cfg.Ny = 1\n",
    "cfg.eps_oversampling = 1\n",
    "cfg.learning_rate = 8e-5\n",
    "cfg.N_layers = 10 # Choose number of layers\n",
    "\n",
    "# Allowed range of epsilon values\n",
    "cfg.real_min_eps = 0.0\n",
    "cfg.real_max_eps = 20.0\n",
    "cfg.imag_min_eps = 0.0\n",
    "cfg.imag_max_eps = 1.0\n",
    "\n",
    "cfg.type = \"regression\" # Choose type as described above\n",
    "cfg.iterations = 5000 # Set number of training iterations (that is forward model evaluations) to perform"
   ]
  },
  {
   "cell_type": "code",
   "execution_count": null,
   "id": "3b8c547a",
   "metadata": {
    "scrolled": false
   },
   "outputs": [],
   "source": [
    "nidn.run_training(cfg);"
   ]
  },
  {
   "cell_type": "code",
   "execution_count": null,
   "id": "73799e6d",
   "metadata": {
    "scrolled": false
   },
   "outputs": [],
   "source": [
    "# The other plots\n",
    "nidn.plot_spectra(cfg)\n",
    "nidn.plot_eps_per_point(cfg,legend=False)\n",
    "nidn.plot_model_grid(cfg)"
   ]
  },
  {
   "cell_type": "markdown",
   "id": "39bbcb00",
   "metadata": {},
   "source": [
    "# Classification"
   ]
  },
  {
   "cell_type": "code",
   "execution_count": null,
   "id": "b3cd229a",
   "metadata": {},
   "outputs": [],
   "source": [
    "cfg.pop(\"model\",None); # Forget the old model\n",
    "\n",
    "cfg.type = \"classification\" # Choose type as described above\n",
    "cfg.iterations = 3000 # Set number of training iterations (that is forward model evaluations) to perform"
   ]
  },
  {
   "cell_type": "code",
   "execution_count": null,
   "id": "9b58e8ee",
   "metadata": {
    "scrolled": false
   },
   "outputs": [],
   "source": [
    "nidn.run_training(cfg);"
   ]
  },
  {
   "cell_type": "code",
   "execution_count": null,
   "id": "ab553cf3",
   "metadata": {},
   "outputs": [],
   "source": [
    "# The other plots\n",
    "nidn.plot_spectra(cfg)\n",
    "nidn.plot_eps_per_point(cfg,legend=False)\n",
    "nidn.plot_model_grid(cfg)"
   ]
  },
  {
   "cell_type": "code",
   "execution_count": null,
   "id": "ae4af0a7",
   "metadata": {},
   "outputs": [],
   "source": [
    "# In case you want to save results you can use this handy function\n",
    "# to save it to the results folder with a current timestamp\n",
    "nidn.save_run(cfg)\n",
    "\n",
    "# You can save all available plots to a single folder using this function\n",
    "nidn.save_all_plots(cfg,save_path=\"/results/example/\")"
   ]
  }
 ],
 "metadata": {
  "kernelspec": {
   "display_name": "Python 3 (ipykernel)",
   "language": "python",
   "name": "python3"
  },
  "language_info": {
   "codemirror_mode": {
    "name": "ipython",
    "version": 3
   },
   "file_extension": ".py",
   "mimetype": "text/x-python",
   "name": "python",
   "nbconvert_exporter": "python",
   "pygments_lexer": "ipython3",
   "version": "3.9.6"
  }
 },
 "nbformat": 4,
 "nbformat_minor": 5
}
