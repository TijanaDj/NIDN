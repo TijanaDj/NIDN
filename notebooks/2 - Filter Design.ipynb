{
 "cells": [
  {
   "cell_type": "markdown",
   "id": "fe50eb09",
   "metadata": {},
   "source": [
    "## Introduction to Neural Inverse Design of Nanostructures (NIDN)\n",
    "\n",
    "### TODO"
   ]
  },
  {
   "cell_type": "code",
   "execution_count": null,
   "id": "e5c11861",
   "metadata": {},
   "outputs": [],
   "source": [
    "### Imports (TODO remove this when finished)\n",
    "%load_ext autoreload\n",
    "%autoreload 2\n",
    "\n",
    "# Append root folder in case you haven't installed NIDN\n",
    "import sys\n",
    "sys.path.append(\"../\")\n",
    "\n",
    "import nidn"
   ]
  },
  {
   "cell_type": "markdown",
   "id": "7a922d82",
   "metadata": {},
   "source": [
    "## Choosing your design target\n",
    "\n",
    "### TODO (some filter spectrum?\n",
    "\n",
    "### Reference to Running_TRCWA notebook\n",
    "\n",
    "### Mention of nidn.get_frequency_points(cfg) to get target frequencies"
   ]
  },
  {
   "cell_type": "code",
   "execution_count": null,
   "id": "579aae8b",
   "metadata": {},
   "outputs": [],
   "source": [
    "cfg = nidn.load_default_cfg() # Load default cfg as starting point\n",
    "\n",
    "cfg.N_freq = 20               # Let's investigate 20 frequency points\n",
    "#OSR\n",
    "# cfg.target_reflectance_spectrum =   10*[0.0] + 10*[1.0]\n",
    "# cfg.target_transmittance_spectrum = 10*[0.0] + 10*[0.0]\n",
    "# cfg.physical_wavelength_range[0] = 2.5e-7\n",
    "# cfg.physical_wavelength_range[1] = 3e-5\n",
    "# cfg.freq_distribution = \"log\"\n",
    "\n",
    "# 1550 Filter\n",
    "cfg.target_reflectance_spectrum =   12*[1.0] + [0.0] + 7*[1.0]\n",
    "cfg.target_transmittance_spectrum = 12*[0.0] + [1.0] + 7*[0.0]\n",
    "cfg.physical_wavelength_range[0] = 1e-6\n",
    "cfg.physical_wavelength_range[1] = 1e-5\n",
    "cfg.freq_distribution = \"linear\"\n",
    "\n",
    "cfg.L = 1.\n",
    "\n",
    "nidn.plot_spectrum(cfg,\n",
    "                   cfg.target_reflectance_spectrum,\n",
    "                   cfg.target_transmittance_spectrum)\n",
    "\n",
    "physical_freqs, normalized_freqs = nidn.get_frequency_points(cfg)\n",
    "print(\"Physical frequencies are:\")\n",
    "print(physical_freqs)"
   ]
  },
  {
   "cell_type": "markdown",
   "id": "e16e1947",
   "metadata": {},
   "source": [
    "## Core settings in NIDN and available layers\n",
    "\n",
    "TODO: Link to doc page where all config parameters are explained.\n",
    "\n",
    "### TRCWA and its layers\n",
    "\n",
    "#### Uniform Layers\n",
    "\n",
    "#### Heterogeneous Layers\n",
    "\n",
    "### Neural Inverse Design\n",
    "\n",
    "#### Our inverse design setup maybe figure from website?\n",
    "\n",
    "#### Direct epsilon estimation (regression)\n",
    "\n",
    "#### Utilizing real materials (classification)\n",
    "TODO: Mention problem of differentiability of argmax\n",
    "\n",
    "TODO: Material collection\n",
    "\n",
    "### Example 1 - Five uniform layers with unbound epsilon"
   ]
  },
  {
   "cell_type": "code",
   "execution_count": null,
   "id": "970b965a",
   "metadata": {},
   "outputs": [],
   "source": [
    "cfg.Nx = 9 # Set layer size  to 1x1 (interpreted as uniform)\n",
    "cfg.Ny = 9\n",
    "cfg.eps_oversampling = 3\n",
    "cfg.learning_rate = 8e-5\n",
    "cfg.N_layers = 3 # Choose number of layers\n",
    "cfg.type = \"classification\" # Choose type as described above\n",
    "cfg.iterations = 3000 # Set number of training iterations (that is forward model evaluations) to perform"
   ]
  },
  {
   "cell_type": "code",
   "execution_count": null,
   "id": "898462e4",
   "metadata": {},
   "outputs": [],
   "source": [
    "#Show all used settings\n",
    "nidn.print_cfg(cfg)"
   ]
  },
  {
   "cell_type": "code",
   "execution_count": null,
   "id": "3b8c547a",
   "metadata": {
    "scrolled": false
   },
   "outputs": [],
   "source": [
    "nidn.run_training(cfg);"
   ]
  },
  {
   "cell_type": "markdown",
   "id": "e238f525",
   "metadata": {},
   "source": [
    "### Result interpretation\n",
    "#### Loss plot\n",
    "TODO Explain"
   ]
  },
  {
   "cell_type": "code",
   "execution_count": null,
   "id": "73799e6d",
   "metadata": {},
   "outputs": [],
   "source": [
    "nidn.plot_losses(cfg)"
   ]
  },
  {
   "cell_type": "markdown",
   "id": "d36f34ee",
   "metadata": {},
   "source": [
    "#### Spectra plot\n",
    "TODO Explain"
   ]
  },
  {
   "cell_type": "code",
   "execution_count": null,
   "id": "578b6bdc",
   "metadata": {},
   "outputs": [],
   "source": [
    "nidn.plot_spectra(cfg)"
   ]
  },
  {
   "cell_type": "markdown",
   "id": "93afdb24",
   "metadata": {},
   "source": [
    "#### Absolute grid values plot\n",
    "TODO Explain\n",
    "TODO Explain layers"
   ]
  },
  {
   "cell_type": "code",
   "execution_count": null,
   "id": "7abcbe69",
   "metadata": {},
   "outputs": [],
   "source": [
    "nidn.plot_model_grid(cfg)"
   ]
  },
  {
   "cell_type": "markdown",
   "id": "38124f29",
   "metadata": {},
   "source": [
    "#### Epsilon vs frequency and real materials\n",
    "TODO Explain"
   ]
  },
  {
   "cell_type": "code",
   "execution_count": null,
   "id": "66748550",
   "metadata": {},
   "outputs": [],
   "source": [
    "# nidn.plot_eps_per_point(cfg,\"titanium_oxide\")\n",
    "nidn.plot_eps_per_point(cfg)"
   ]
  },
  {
   "cell_type": "code",
   "execution_count": null,
   "id": "18b2b75b",
   "metadata": {},
   "outputs": [],
   "source": [
    "eps,_ = nidn.model_to_eps_grid(cfg.model,cfg)\n",
    "R,T = nidn.compute_spectrum(eps,cfg)"
   ]
  },
  {
   "cell_type": "code",
   "execution_count": null,
   "id": "0f177cc7",
   "metadata": {},
   "outputs": [],
   "source": [
    "import torch\n",
    "absorp_spectrum = torch.tensor(1.) - torch.tensor(R) - torch.tensor(T)"
   ]
  },
  {
   "cell_type": "code",
   "execution_count": null,
   "id": "e82d7432",
   "metadata": {},
   "outputs": [],
   "source": [
    "absorp_spectrum"
   ]
  },
  {
   "cell_type": "code",
   "execution_count": null,
   "id": "a4cd301d",
   "metadata": {},
   "outputs": [],
   "source": [
    "absorption_of_sun = torch.mean(absorp_spectrum[:10])\n",
    "emiss_IR = torch.mean(absorp_spectrum[10:])\n",
    "print(\"emiss_IR = \",emiss_IR.item())\n",
    "print(\"absorption_of_sun = \",absorption_of_sun.item())\n",
    "print(\"absorption_of_sun / emiss_IR =\",(absorption_of_sun / emiss_IR).item())"
   ]
  },
  {
   "cell_type": "markdown",
   "id": "6c0b0854",
   "metadata": {},
   "source": [
    "### Example 2 - 2 patterned layers with unbound epsilon\n",
    "\n",
    "TODO"
   ]
  },
  {
   "cell_type": "code",
   "execution_count": null,
   "id": "09bb33f5",
   "metadata": {},
   "outputs": [],
   "source": [
    "cfg.pop(\"model\",None); # Forget the old model\n",
    "cfg.Nx = 16 # Set layer size  to 16x16 (each of the grid points has its own epsilon now)\n",
    "cfg.Ny = 16\n",
    "cfg.eps_oversampling = 4\n",
    "cfg.N_layers = 2 # Less layer to keep compute managable\n",
    "cfg.type = \"regression\" # Choose type as described above (for now still regression)\n",
    "cfg.iterations = 250 # Set number of training iterations (that is forward model evaluations) to perform"
   ]
  },
  {
   "cell_type": "code",
   "execution_count": null,
   "id": "481b28f2",
   "metadata": {},
   "outputs": [],
   "source": [
    "nidn.run_training(cfg);"
   ]
  },
  {
   "cell_type": "code",
   "execution_count": null,
   "id": "0bc16df3",
   "metadata": {
    "scrolled": false
   },
   "outputs": [],
   "source": [
    "nidn.plot_losses(cfg)\n",
    "nidn.plot_spectra(cfg)\n",
    "nidn.plot_model_grid(cfg)\n",
    "nidn.plot_eps_per_point(cfg)"
   ]
  },
  {
   "cell_type": "markdown",
   "id": "c1708f18",
   "metadata": {},
   "source": [
    "### Example 3 - Patterned layer with bound epsilon\n",
    "\n",
    "TODO"
   ]
  },
  {
   "cell_type": "code",
   "execution_count": null,
   "id": "579f8ada",
   "metadata": {},
   "outputs": [],
   "source": [
    "cfg.pop(\"model\",None); # Forget the old model\n",
    "cfg.Nx = 16 # Set layer size  to 16x16 (each of the grid points has its own epsilon now)\n",
    "cfg.Ny = 16\n",
    "cfg.eps_oversampling = 8\n",
    "cfg.N_layers = 2 # Less layer to keep compute managable\n",
    "cfg.type = \"classification\" # Choose type as described above (for now still regression)\n",
    "cfg.iterations = 250 # Set number of training iterations (that is forward model evaluations) to perform"
   ]
  },
  {
   "cell_type": "code",
   "execution_count": null,
   "id": "7a834af6",
   "metadata": {},
   "outputs": [],
   "source": [
    "nidn.run_training(cfg);"
   ]
  },
  {
   "cell_type": "markdown",
   "id": "f0834d24",
   "metadata": {},
   "source": [
    "#### Material ID plot\n",
    "TODO"
   ]
  },
  {
   "cell_type": "code",
   "execution_count": null,
   "id": "833f27ec",
   "metadata": {},
   "outputs": [],
   "source": [
    "nidn.plot_material_grid(cfg)"
   ]
  },
  {
   "cell_type": "code",
   "execution_count": null,
   "id": "a647a1ae",
   "metadata": {
    "scrolled": false
   },
   "outputs": [],
   "source": [
    "# The other plots\n",
    "nidn.plot_losses(cfg)\n",
    "nidn.plot_spectra(cfg)\n",
    "nidn.plot_model_grid(cfg)\n",
    "nidn.plot_eps_per_point(cfg)"
   ]
  },
  {
   "cell_type": "code",
   "execution_count": null,
   "id": "ae4af0a7",
   "metadata": {},
   "outputs": [],
   "source": [
    "# In case you want to save results you can use this handy function\n",
    "# to save it to the results folder with a current timestamp\n",
    "nidn.save_run(cfg)\n",
    "\n",
    "# You can save all available plots to a single folder using this function\n",
    "nidn.save_all_plots(cfg,save_path=\"/results/example/\")"
   ]
  }
 ],
 "metadata": {
  "kernelspec": {
   "display_name": "Python 3 (ipykernel)",
   "language": "python",
   "name": "python3"
  },
  "language_info": {
   "codemirror_mode": {
    "name": "ipython",
    "version": 3
   },
   "file_extension": ".py",
   "mimetype": "text/x-python",
   "name": "python",
   "nbconvert_exporter": "python",
   "pygments_lexer": "ipython3",
   "version": "3.9.6"
  }
 },
 "nbformat": 4,
 "nbformat_minor": 5
}
