{
 "cells": [
  {
   "cell_type": "markdown",
   "id": "54d4c801",
   "metadata": {},
   "source": [
    "# Using the NIDN with FDTD simulations\n",
    "\n",
    "This notebook gives explanatory examples on how to use NIDN with FDTD simulations. For more on how FDTD simulations work, see Running_FDTD notebook or the FDTD section in the NIDN docs. "
   ]
  },
  {
   "cell_type": "markdown",
   "id": "2f4a6009",
   "metadata": {},
   "source": [
    "We start by importing the nidn, or if the nidn is not installed append the root folder to get acces to nidn "
   ]
  },
  {
   "cell_type": "code",
   "execution_count": null,
   "id": "40007a5d",
   "metadata": {},
   "outputs": [],
   "source": [
    "# Append root folder in case you haven't installed NIDN\n",
    "import sys\n",
    "sys.path.append(\"../\")\n",
    "\n",
    "import nidn"
   ]
  },
  {
   "cell_type": "markdown",
   "id": "9bd3165d",
   "metadata": {},
   "source": [
    "# Inverse Design of a uniform Titanium Dioxide Layer\n",
    "\n",
    "Here, we define the target spectrum as an already calculated spectrum from a uniform TiO2 layer, and test if NIDN is able to reconstruct the permittivity of the TiO2 layer."
   ]
  },
  {
   "cell_type": "code",
   "execution_count": null,
   "id": "579aae8b",
   "metadata": {
    "scrolled": false
   },
   "outputs": [],
   "source": [
    "# Load default cfg as starting point\n",
    "\n",
    "cfg = nidn.load_default_cfg()\n",
    "\n",
    "# Specify your desired range of wavelengths\n",
    "\n",
    "cfg.physical_wavelength_range[0] = 3e-7\n",
    "cfg.physical_wavelength_range[1] = 1e-6\n",
    "\n",
    "# Let's investigate 12 frequency points\n",
    "cfg.N_freq = 12\n",
    "\n",
    "# Currently, the target spectra is set manually as a list of numbers \n",
    "cfg.target_reflectance_spectrum = [0.27891510,0.23644109,0.15938656,0.13485510,0.17970238,0.29539180,0.24678705,0.28984702,0.34120250,0.50414005,0.65206676,0.64914470]\n",
    "cfg.target_transmittance_spectrum = [0.69567667,0.68589939,0.66614408,0.64175525,0.61354260,0.56891946,0.51561534,0.41896730,0.21201846,0.00011344,0.00000001,0.00000000]\n",
    "# Since R + T + A = 1, we only need to give the reflectance and transmittance (absorptance is implicit)\n",
    "\n",
    "nidn.plot_spectrum(cfg,\n",
    "                   cfg.target_reflectance_spectrum,\n",
    "                   cfg.target_transmittance_spectrum)\n",
    "\n",
    "physical_wls, normalized_freqs = nidn.get_frequency_points(cfg)\n",
    "print(\"Physical wavelengths are (in meters):\")\n",
    "print(physical_wls)"
   ]
  },
  {
   "cell_type": "markdown",
   "id": "8f1dc640",
   "metadata": {},
   "source": [
    "## Example 1 - Uniform single-layer with restricted epsilon\n",
    "\n",
    "Let's start with a uniform single-layer and see if NIDN can get sufficiently close to the ground truth."
   ]
  },
  {
   "cell_type": "code",
   "execution_count": null,
   "id": "970b965a",
   "metadata": {},
   "outputs": [],
   "source": [
    "cfg.Nx = 1 # Set layer size  to 1x1 (interpreted as uniform)\n",
    "cfg.Ny = 1\n",
    "cfg.N_layers = 1 # Choose number of layers\n",
    "\n",
    "# Allowed range of epsilon values\n",
    "cfg.real_min_eps = 0.0\n",
    "cfg.real_max_eps = 20.0\n",
    "cfg.imag_min_eps = 0.0\n",
    "cfg.imag_max_eps = 7.0\n",
    "\n",
    "# Choose model type, regresion or classification\n",
    "cfg.type = \"regression\" \n",
    "# Set number of training iterations (that is forward model evaluations) to perform\n",
    "cfg.iterations = 50 \n",
    "\n",
    "cfg.FDTD_niter = 400\n",
    "cfg.solver = \"FDTD\""
   ]
  },
  {
   "cell_type": "code",
   "execution_count": null,
   "id": "898462e4",
   "metadata": {},
   "outputs": [],
   "source": [
    "#Show all used settings\n",
    "nidn.print_cfg(cfg)"
   ]
  },
  {
   "cell_type": "markdown",
   "id": "0f313423",
   "metadata": {},
   "source": [
    "`print_cfg(cfg)` shows you more or less everything you want to know about the config.\n",
    "Using `run_training(cfg)`, we run the network until it reaches the number of iterations set above (or until you interrupt it)."
   ]
  },
  {
   "cell_type": "code",
   "execution_count": null,
   "id": "3b8c547a",
   "metadata": {
    "scrolled": false
   },
   "outputs": [],
   "source": [
    "nidn.run_training(cfg);"
   ]
  },
  {
   "cell_type": "markdown",
   "id": "e238f525",
   "metadata": {},
   "source": [
    "### Interpretation of results\n",
    "\n",
    "#### Loss plot\n",
    "\n",
    "The loss as a function of model evaluations is presented below. As the training evolves, the three losses here, [L1](https://afteracademy.com/blog/what-are-l1-and-l2-loss-functions), Loss, and Weighted Average Loss, can be seen to decrease. For this regression case, the L1 and Loss are the same."
   ]
  },
  {
   "cell_type": "code",
   "execution_count": null,
   "id": "73799e6d",
   "metadata": {},
   "outputs": [],
   "source": [
    "nidn.plot_losses(cfg)"
   ]
  },
  {
   "cell_type": "markdown",
   "id": "d36f34ee",
   "metadata": {},
   "source": [
    "#### Spectrum plots\n",
    "\n",
    "The produced RTA spectra are plotted together with the target spectra in the figure below."
   ]
  },
  {
   "cell_type": "code",
   "execution_count": null,
   "id": "578b6bdc",
   "metadata": {},
   "outputs": [],
   "source": [
    "nidn.plot_spectra(cfg)"
   ]
  },
  {
   "cell_type": "markdown",
   "id": "93afdb24",
   "metadata": {},
   "source": [
    "#### Absolute grid values plot\n",
    "\n",
    "The complex absolute value of the epsilon over all frequencies is presented here. This plot is in general more useful for patterned multilayers."
   ]
  },
  {
   "cell_type": "code",
   "execution_count": null,
   "id": "7abcbe69",
   "metadata": {},
   "outputs": [],
   "source": [
    "nidn.plot_model_grid(cfg)"
   ]
  },
  {
   "cell_type": "markdown",
   "id": "38124f29",
   "metadata": {},
   "source": [
    "#### Epsilon vs frequency and real materials\n",
    "\n",
    "The following function plots the epsilon values vs. frequency of grid points against real materials in our library. This plot is in general more useful for patterned multilayers."
   ]
  },
  {
   "cell_type": "code",
   "execution_count": null,
   "id": "66748550",
   "metadata": {},
   "outputs": [],
   "source": [
    "nidn.plot_eps_per_point(cfg)"
   ]
  },
  {
   "cell_type": "markdown",
   "id": "6c0b0854",
   "metadata": {},
   "source": [
    "## Example 2 - Uniform single-layer with materials classification\n",
    "\n",
    "Next up is the same example, a uniform single-layer of titanium oxide, but this time we check if NIDN can predict the correct material."
   ]
  },
  {
   "cell_type": "code",
   "execution_count": null,
   "id": "09bb33f5",
   "metadata": {},
   "outputs": [],
   "source": [
    "cfg.pop(\"model\",None); # Forget the old model\n",
    "cfg.Nx = 1 # Set layer size  to 1x1 (interpreted as uniform)\n",
    "cfg.Ny = 1\n",
    "cfg.N_layers = 1 # Choose number of layers\n",
    "\n",
    "cfg.type = \"classification\" # Choose type as described above\n",
    "cfg.iterations = 20 # Set number of training iterations (that is forward model evaluations) to perform"
   ]
  },
  {
   "cell_type": "code",
   "execution_count": null,
   "id": "481b28f2",
   "metadata": {},
   "outputs": [],
   "source": [
    "nidn.run_training(cfg);"
   ]
  },
  {
   "cell_type": "code",
   "execution_count": null,
   "id": "0bc16df3",
   "metadata": {
    "scrolled": false
   },
   "outputs": [],
   "source": [
    "nidn.plot_losses(cfg)\n",
    "nidn.plot_spectra(cfg)\n",
    "nidn.plot_model_grid(cfg)\n",
    "nidn.plot_eps_per_point(cfg)"
   ]
  },
  {
   "cell_type": "markdown",
   "id": "b5855a01",
   "metadata": {},
   "source": [
    "As can be seen from the plots, the prediction is correct and the loss is even lower."
   ]
  },
  {
   "cell_type": "markdown",
   "id": "5a30b861",
   "metadata": {},
   "source": [
    "# Classification of three uniform layers of TiO2/GaAs/SiN\n",
    "\n",
    "This examples shows how NIDN learns the material composition of three uniform layers, with a spectrum previously calculated target spectrum from a simulation with three uniform layers, all 1 um thick, where the first layer is TiO2, the second is GaAs and the third layer is SiN. Note since the total layer thickness is thicker, the number of time-steps is also increased, which makes each iteration in the neural network take more time\n",
    "\n"
   ]
  },
  {
   "cell_type": "code",
   "execution_count": null,
   "id": "7f7b01f9",
   "metadata": {},
   "outputs": [],
   "source": [
    "cfg = nidn.load_default_cfg()\n",
    "# Set the number of frequencies to simulate for\n",
    "cfg.N_freq = 12\n",
    "#Number of layers with materials\n",
    "cfg.N_layers = 3\n",
    "\n",
    "# Set layer size  to 1x1 (interpreted as uniform)\n",
    "cfg.Nx = 1 \n",
    "cfg.Ny = 1\n",
    " # Forget the old model\n",
    "cfg.pop(\"model\",None);\n",
    "cfg.type = \"classification\" # Choose type as described above\n",
    "# Define the thickness of each layer, in default units\n",
    "cfg.PER_LAYER_THICKNESS=[1.0, 1.0, 1.0]\n",
    "#Smallest wavelength\n",
    "cfg.physical_wavelength_range[0]=3e-7\n",
    "#Largest wavelength\n",
    "cfg.physical_wavelength_range[1]=15e-7\n",
    "#init epsiln values\n",
    "#Convert wavelengths to normalized frequencies used by the layer builder\n",
    "cfg.target_frequencies = nidn.compute_target_frequencies(\n",
    "    cfg.physical_wavelength_range[0],\n",
    "    cfg.physical_wavelength_range[1],\n",
    "    cfg.N_freq,\n",
    "    cfg.freq_distribution,\n",
    ")\n",
    "# Choose FDTD as simulation type\n",
    "cfg.solver = \"FDTD\"\n",
    "# Number of iterations has to be increased due to a thicker material, thus a further distance for the wave to travel\n",
    "cfg.FDTD_niter = 800\n",
    "# Choose pulse and source type\n",
    "cfg.FDTD_pulse_type = 'continuous'\n",
    "cfg.FDTD_source_type = 'line'\n",
    "\n",
    "# Set target spectrum, generated from a simulation with TiO2/GaAs/SiN triple uniform layer\n",
    "cfg.target_transmittance_spectrum = [0.59790906,0.56570349,0.23946883,0.02939799,0.00184458,0.00002115,0.00000011,0.00000000,0.00000000,0.00000000,0.00000000,0.00000000]\n",
    "cfg.target_reflectance_spectrum = [0.27799517,0.22808249,0.09394473,0.14923679,0.36340323,0.09872345,0.23317323,0.50220509,0.62269236,0.42524770,0.65769614,0.64963481]\n",
    "#Number of forward passes in NIDN\n",
    "cfg.iterations = 50"
   ]
  },
  {
   "cell_type": "code",
   "execution_count": null,
   "id": "666bd083",
   "metadata": {},
   "outputs": [],
   "source": [
    "# Run the NIDN\n",
    "nidn.run_training(cfg);"
   ]
  },
  {
   "cell_type": "code",
   "execution_count": null,
   "id": "f4efc1c8",
   "metadata": {},
   "outputs": [],
   "source": [
    "# Plot the losses, the best spectrum and the epsilon functions for each layer\n",
    "nidn.plot_losses(cfg)\n",
    "nidn.plot_spectra(cfg)\n",
    "nidn.plot_eps_per_point(cfg)"
   ]
  }
 ],
 "metadata": {
  "kernelspec": {
   "display_name": "Python 3 (ipykernel)",
   "language": "python",
   "name": "python3"
  },
  "language_info": {
   "codemirror_mode": {
    "name": "ipython",
    "version": 3
   },
   "file_extension": ".py",
   "mimetype": "text/x-python",
   "name": "python",
   "nbconvert_exporter": "python",
   "pygments_lexer": "ipython3",
   "version": "3.9.10"
  }
 },
 "nbformat": 4,
 "nbformat_minor": 5
}
