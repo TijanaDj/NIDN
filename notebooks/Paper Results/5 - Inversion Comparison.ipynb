{
 "cells": [
  {
   "cell_type": "markdown",
   "metadata": {},
   "source": [
    "# Comparison of GRCWA NLOPT Optimisation with NIDN Siren and NIDN Voxel.\n",
    "\n",
    "In the following we compare an optimisation using GRCWA with NIDN using a Siren network and NIDN when directly encoding permittivity as a voxel grid.\n",
    "\n",
    "The test case is the design of a material that is maximally reflective.\n",
    "\n",
    "1. GRCWA - Optimisation as described here https://github.com/weiliangjinca/grcwa/blob/master/example/ex3.py\n",
    "2. NIDN Siren - As in other notebooks\n",
    "3. NIDN Voxel - Weights are directly permittivities of the material.\n",
    "\n",
    "Let's start with imports"
   ]
  },
  {
   "cell_type": "code",
   "execution_count": null,
   "metadata": {},
   "outputs": [],
   "source": [
    "### Imports\n",
    "%load_ext autoreload\n",
    "%autoreload 2\n",
    "\n",
    "# Append main folder\n",
    "import sys\n",
    "sys.path.append(\"../..\")\n",
    "\n",
    "import nidn\n",
    "import nlopt\n",
    "import grcwa\n",
    "grcwa.set_backend('autograd')\n",
    "import torch\n",
    "import numpy as npf\n",
    "import autograd.numpy as np\n",
    "from autograd import grad\n",
    "\n",
    "# Start with the default config\n",
    "cfg = nidn.load_default_cfg()"
   ]
  },
  {
   "cell_type": "markdown",
   "metadata": {},
   "source": [
    "Let's define grid specifics etc. both for GRCWA and NIDN"
   ]
  },
  {
   "cell_type": "code",
   "execution_count": null,
   "metadata": {},
   "outputs": [],
   "source": [
    "# Set grid specifics\n",
    "# Change to 32 to generate grid plot with more than 1 element displayed\n",
    "cfg.Nx = 1\n",
    "cfg.Ny = 1\n",
    "cfg.N_layers = 5\n",
    "cfg.N_freq = 20\n",
    "cfg.TRCWA_L_grid = [[0.1,0.0],[0.0,0.1]]\n",
    "cfg.TRCWA_NG = 11\n",
    "cfg.PER_LAYER_THICKNESS = [1.0]\n",
    "cfg.freq_distribution = \"log\"\n",
    "\n",
    "# Specify your desired range of wavelengths\n",
    "cfg.physical_wavelength_range[0] = 2e-6\n",
    "cfg.physical_wavelength_range[1] = 1e-5\n",
    "\n",
    "# Determine target frequencies (in TRCWA units)\n",
    "cfg.target_frequencies = nidn.compute_target_frequencies(\n",
    "    cfg.physical_wavelength_range[0],\n",
    "    cfg.physical_wavelength_range[1],\n",
    "    cfg.N_freq,\n",
    "    cfg.freq_distribution\n",
    ")\n",
    "\n",
    "# Allowed range of epsilon values\n",
    "cfg.real_min_eps = 0.01\n",
    "cfg.real_max_eps = 20.0\n",
    "cfg.imag_min_eps = 0.0\n",
    "cfg.imag_max_eps = 0.0 # We only allow real permittivity values for easy comparison with GRCWA using NLOPT"
   ]
  },
  {
   "cell_type": "code",
   "execution_count": null,
   "metadata": {},
   "outputs": [],
   "source": [
    "# Truncation order (actual number might be smaller)\n",
    "nG = 11\n",
    "# lattice constants\n",
    "L1 = [0.1,0]\n",
    "L2 = [0,0.1]\n",
    "# frequency and angles\n",
    "\n",
    "theta = 0.\n",
    "phi = 0.\n",
    "\n",
    "# now consider 3 layers: vacuum + patterned + vacuum\n",
    "ep0 = 1. # dielectric for layer 1 (uniform)\n",
    "epN = 1.  # dielectric for layer N (uniform)\n",
    "\n",
    "thick0 = 1. # thickness for vacuum layer 1\n",
    "thickN = 1.\n",
    "\n",
    "# planewave excitation\n",
    "planewave={'p_amp':0,'s_amp':1,'p_phase':0,'s_phase':0}\n",
    "\n",
    "\n",
    "# Function to compute R,T with GRCWA\n",
    "def fun_reflection(x,Qabs,freq):\n",
    "    freqcmp = freq*(1+1j/2/Qabs)\n",
    "    ######### setting up RCWA\n",
    "    obj = grcwa.obj(nG,L1,L2,freqcmp,theta,phi,verbose=0)\n",
    "    # input layer information\n",
    "    obj.Add_LayerUniform(thick0,ep0)\n",
    "    obj.Add_LayerUniform(thick0,x[:,:,0][0])\n",
    "    obj.Add_LayerUniform(thick0,x[:,:,1][0])\n",
    "    obj.Add_LayerUniform(thick0,x[:,:,2][0])\n",
    "    obj.Add_LayerUniform(thick0,x[:,:,3][0])\n",
    "    obj.Add_LayerUniform(thick0,x[:,:,4][0])\n",
    "    obj.Add_LayerUniform(thickN,epN)\n",
    "    obj.Init_Setup()\n",
    "\n",
    "    obj.MakeExcitationPlanewave(planewave['p_amp'],planewave['p_phase'],planewave['s_amp'],planewave['s_phase'],order = 0)    \n",
    "    R,T= obj.RT_Solve(normalize=1)\n",
    "    return R,T\n",
    "\n",
    "# Function to compute summed reflection, we aim to maximise this.\n",
    "def fun_total_reflection(x,Qabs=1e5):\n",
    "    total_R = 0\n",
    "    x = x.reshape(1,1,cfg.N_layers,cfg.N_freq)\n",
    "    for idx,freq in enumerate(cfg.target_frequencies):\n",
    "        R,T = fun_reflection(x[:,:,:,idx],1e16,freq)\n",
    "        total_R += R\n",
    "    return total_R\n"
   ]
  },
  {
   "cell_type": "markdown",
   "metadata": {},
   "source": [
    "### Define optimisation problem for GRCWA with NLOPT"
   ]
  },
  {
   "cell_type": "code",
   "execution_count": null,
   "metadata": {},
   "outputs": [],
   "source": [
    "\n",
    "ctrl = 0\n",
    "fun = lambda x: fun_total_reflection(x)\n",
    "grad_fun = grad(fun)\n"
   ]
  },
  {
   "cell_type": "code",
   "execution_count": null,
   "metadata": {},
   "outputs": [],
   "source": [
    "def fun_nlopt(x,gradn):\n",
    "    global ctrl\n",
    "    gradn[:] = grad_fun(x)\n",
    "    y = fun(x)\n",
    "    \n",
    "    print('Step = ',ctrl,', R = ',y)\n",
    "    ctrl += 1\n",
    "    return fun(x)\n",
    "\n",
    "# set up NLOPT\n",
    "ndof = cfg.N_layers*cfg.N_freq*cfg.Nx*cfg.Ny\n",
    "\n",
    "# Sample randomly in 0 to 20 as for neural net range\n",
    "init = cfg.real_min_eps + (cfg.real_max_eps-cfg.real_min_eps)*np.random.random(ndof)\n",
    "lb=np.ones(ndof,dtype=float)*0.01\n",
    "ub=np.ones(ndof,dtype=float)*20.0\n",
    "\n",
    "opt = nlopt.opt(nlopt.LD_MMA, ndof)\n",
    "opt.set_lower_bounds(lb)\n",
    "opt.set_upper_bounds(ub)\n",
    "\n",
    "opt.set_xtol_rel(1e-16)\n",
    "opt.set_maxeval(2000)\n",
    "\n",
    "opt.set_max_objective(fun_nlopt)\n",
    "x = opt.optimize(init)"
   ]
  },
  {
   "cell_type": "markdown",
   "metadata": {},
   "source": [
    "### Plot achieved spectrum"
   ]
  },
  {
   "cell_type": "code",
   "execution_count": null,
   "metadata": {},
   "outputs": [],
   "source": [
    "x = x.reshape(1,1,cfg.N_layers,cfg.N_freq)\n",
    "Rs,Ts = [],[]\n",
    "for idx,freq in enumerate(cfg.target_frequencies):\n",
    "    R,T = fun_reflection(x[:,:,:,idx],1e16,freq)\n",
    "    Rs.append(R)\n",
    "    Ts.append(T)\n",
    "\n",
    "nidn.plot_spectrum(cfg,Rs,Ts)"
   ]
  },
  {
   "cell_type": "markdown",
   "metadata": {},
   "source": [
    "### Set up VoxelGrid optimisation with NIDN"
   ]
  },
  {
   "cell_type": "code",
   "execution_count": null,
   "metadata": {},
   "outputs": [],
   "source": [
    "cfg.pop(\"model\",None); # Forget the old model\n",
    "\n",
    "cfg.model_type = \"voxel\"\n",
    "cfg.learning_rate = 5e-2 # LR can be much higher here as we directly optimise the permittivity\n",
    "\n",
    "# Define reflection only spectrum\n",
    "cfg.target_reflectance_spectrum = [1]*cfg.N_freq\n",
    "cfg.target_transmittance_spectrum = [0]*cfg.N_freq\n",
    "\n",
    "cfg.type = \"regression\" # Choose type as described above\n",
    "cfg.iterations = 2000 # Set number of training iterations (that is forward model evaluations) to perform\n",
    "nidn.set_log_level(\"INFO\")"
   ]
  },
  {
   "cell_type": "code",
   "execution_count": null,
   "metadata": {},
   "outputs": [],
   "source": [
    "nidn.run_training(cfg);"
   ]
  },
  {
   "cell_type": "markdown",
   "metadata": {},
   "source": [
    "### Plot and save results"
   ]
  },
  {
   "cell_type": "code",
   "execution_count": null,
   "metadata": {},
   "outputs": [],
   "source": [
    "nidn.plot_spectra(cfg)\n",
    "cfg.name = \"voxel_run\"\n",
    "nidn.save_run(cfg)"
   ]
  },
  {
   "cell_type": "markdown",
   "metadata": {},
   "source": [
    "### Now do the same with NIDN Siren"
   ]
  },
  {
   "cell_type": "code",
   "execution_count": null,
   "metadata": {},
   "outputs": [],
   "source": [
    "cfg.pop(\"model\",None); # Forget the old model\n",
    "\n",
    "cfg.model_type = \"siren\"\n",
    "cfg.learning_rate = 8e-5\n",
    "\n",
    "cfg.siren_omega = 1.\n",
    "\n",
    "cfg.type = \"regression\" # Choose type as described above\n",
    "cfg.iterations = 2000 # Set number of training iterations (that is forward model evaluations) to perform\n",
    "nidn.set_log_level(\"INFO\")"
   ]
  },
  {
   "cell_type": "code",
   "execution_count": null,
   "metadata": {},
   "outputs": [],
   "source": [
    "nidn.run_training(cfg);"
   ]
  },
  {
   "cell_type": "code",
   "execution_count": null,
   "metadata": {},
   "outputs": [],
   "source": [
    "nidn.plot_spectra(cfg)\n",
    "cfg.name = \"siren_run\"\n",
    "nidn.save_run(cfg)"
   ]
  }
 ],
 "metadata": {
  "kernelspec": {
   "display_name": "Python 3.9.7 ('nidn')",
   "language": "python",
   "name": "python3"
  },
  "language_info": {
   "codemirror_mode": {
    "name": "ipython",
    "version": 3
   },
   "file_extension": ".py",
   "mimetype": "text/x-python",
   "name": "python",
   "nbconvert_exporter": "python",
   "pygments_lexer": "ipython3",
   "version": "3.9.7"
  },
  "orig_nbformat": 4,
  "vscode": {
   "interpreter": {
    "hash": "1ec5cfae9b828f8ab7e7cdcd8237afffb09b0704a5815a216abf273e6fa91aea"
   }
  }
 },
 "nbformat": 4,
 "nbformat_minor": 2
}
