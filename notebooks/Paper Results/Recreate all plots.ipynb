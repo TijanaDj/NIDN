{
 "cells": [
  {
   "cell_type": "code",
   "execution_count": null,
   "id": "16aae61c",
   "metadata": {},
   "outputs": [],
   "source": [
    "### Imports (TODO remove this when finished)\n",
    "%load_ext autoreload\n",
    "%autoreload 2\n",
    "\n",
    "# Append root folder in case you haven't installed NIDN\n",
    "import sys\n",
    "sys.path.append(\"../..\")\n",
    "\n",
    "import nidn\n",
    "from glob import glob"
   ]
  },
  {
   "cell_type": "code",
   "execution_count": null,
   "id": "a190aadf",
   "metadata": {
    "scrolled": false
   },
   "outputs": [],
   "source": [
    "runs = glob(\"../results/*.pk\")\n",
    "# Iterate over runs\n",
    "for file in runs:\n",
    "    cfg = nidn.load_run(file)\n",
    "    nidn.plot_spectra(cfg)\n",
    "    if (cfg.Nx > 1 or cfg.Ny > 1) or cfg.N_layers > 6 or (cfg.N_layers == 1 and cfg.Nx == 1 and cfg.Ny ==1):\n",
    "        nidn.plot_eps_per_point(cfg,legend=False)\n",
    "    else:\n",
    "        nidn.plot_eps_per_point(cfg)"
   ]
  },
  {
   "cell_type": "code",
   "execution_count": null,
   "id": "c6f50b93",
   "metadata": {},
   "outputs": [],
   "source": []
  }
 ],
 "metadata": {
  "kernelspec": {
   "display_name": "Python 3 (ipykernel)",
   "language": "python",
   "name": "python3"
  },
  "language_info": {
   "codemirror_mode": {
    "name": "ipython",
    "version": 3
   },
   "file_extension": ".py",
   "mimetype": "text/x-python",
   "name": "python",
   "nbconvert_exporter": "python",
   "pygments_lexer": "ipython3",
   "version": "3.9.7"
  }
 },
 "nbformat": 4,
 "nbformat_minor": 5
}
