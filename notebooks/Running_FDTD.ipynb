{
 "cells": [
  {
   "cell_type": "markdown",
   "id": "93c66efa",
   "metadata": {},
   "source": [
    "## FDTD"
   ]
  },
  {
   "cell_type": "code",
   "execution_count": null,
   "id": "58f11ef5",
   "metadata": {},
   "outputs": [],
   "source": [
    "### Imports\n",
    "%load_ext autoreload\n",
    "%autoreload 2\n",
    "\n",
    "# Append main folder\n",
    "import sys\n",
    "sys.path.append(\"..\")\n",
    "\n",
    "import nidn\n",
    "import torch"
   ]
  },
  {
   "cell_type": "markdown",
   "id": "e3b0946e",
   "metadata": {},
   "source": [
    "## Single layer TiO2"
   ]
  },
  {
   "cell_type": "markdown",
   "id": "a267a22a",
   "metadata": {},
   "source": [
    "Configuring the simulation"
   ]
  },
  {
   "cell_type": "code",
   "execution_count": null,
   "id": "15dbc61e",
   "metadata": {},
   "outputs": [],
   "source": [
    "cfg = nidn.load_default_cfg()\n",
    "# Set the number of frequencies to simulate for\n",
    "cfg.N_freq = 12\n",
    "#Number of layers with materials\n",
    "cfg.N_layers = 1\n",
    "# Define the thickness of each layer\n",
    "cfg.PER_LAYER_THICKNESS=[1.0]\n",
    "#Smallest wavelength\n",
    "cfg.physical_wavelength_range[0]=3e-7\n",
    "#Largest wavelength\n",
    "cfg.physical_wavelength_range[1]=1e-6\n",
    "#Convert wavelengths to normalized frequencies used by the layer builder\n",
    "cfg.target_frequencies = nidn.compute_target_frequencies(\n",
    "    cfg.physical_wavelength_range[0],\n",
    "    cfg.physical_wavelength_range[1],\n",
    "    cfg.N_freq,\n",
    "    cfg.freq_distribution,\n",
    ")\n",
    "# Init layer builder\n",
    "layer_builder = nidn.LayerBuilder(cfg)\n",
    "#init epsiln values\n",
    "eps_grid = torch.zeros(1, 1, cfg.N_layers, cfg.N_freq, dtype=torch.cfloat)\n",
    "# Set first layer to titanium oxide\n",
    "eps_grid[:, :, 0, :] = layer_builder.build_uniform_layer(\"titanium_oxide\")\n",
    "\n",
    "# Choose FDTD method, TRCWA other option\n",
    "cfg.solver = \"FDTD\"\n",
    "# Set number of time steps in FDTD\n",
    "cfg.FDTD_niter = 400\n",
    "# Set number of decimal in printing\n",
    "torch.set_printoptions(8)\n",
    "# Choose pulse type (continuous, hanning or ricker)\n",
    "cfg.FDTD_pulse_type = 'continuous'\n",
    "nidn.set_log_level('DEBUG')\n",
    "# Choose source type (line or point)\n",
    "cfg.FDTD_source_type = 'line'\n"
   ]
  },
  {
   "cell_type": "code",
   "execution_count": null,
   "id": "0e34694f",
   "metadata": {
    "scrolled": false
   },
   "outputs": [],
   "source": [
    "# Compute spectrum for this configuration\n",
    "R,T = nidn.compute_spectrum(eps_grid,cfg)"
   ]
  },
  {
   "cell_type": "code",
   "execution_count": null,
   "id": "f14780d9",
   "metadata": {},
   "outputs": [],
   "source": [
    "#Plot the spectrum\n",
    "nidn.plot_spectrum(cfg,R,T)"
   ]
  },
  {
   "cell_type": "markdown",
   "id": "e8cf7428",
   "metadata": {},
   "source": [
    "## Multiple layers"
   ]
  },
  {
   "cell_type": "code",
   "execution_count": null,
   "id": "30e8fc78",
   "metadata": {},
   "outputs": [],
   "source": [
    "cfg = nidn.load_default_cfg()\n",
    "# Set the number of frequencies to simulate for\n",
    "cfg.N_freq = 12\n",
    "#Number of layers with materials\n",
    "cfg.N_layers = 3\n",
    "# Define the thickness of each layer, in default units\n",
    "cfg.PER_LAYER_THICKNESS=[1.0, 1.0, 1.0]\n",
    "#Smallest wavelength\n",
    "cfg.physical_wavelength_range[0]=3e-7\n",
    "#Largest wavelength\n",
    "cfg.physical_wavelength_range[1]=15e-7\n",
    "#init epsiln values\n",
    "eps_grid = torch.zeros(1, 1, cfg.N_layers, cfg.N_freq, dtype=torch.cfloat)\n",
    "#Convert wavelengths to normalized frequencies used by the layer builder\n",
    "cfg.target_frequencies = nidn.compute_target_frequencies(\n",
    "    cfg.physical_wavelength_range[0],\n",
    "    cfg.physical_wavelength_range[1],\n",
    "    cfg.N_freq,\n",
    "    cfg.freq_distribution,\n",
    ")\n",
    "# Choose FDTD method, TRCWA other option\n",
    "cfg.solver = \"FDTD\"\n",
    "# Init layer builder\n",
    "layer_builder = nidn.LayerBuilder(cfg)\n",
    "# Set the three layers to the desired material\n",
    "eps_grid[:, :, 0, :] = layer_builder.build_uniform_layer(\"titanium_oxide\")\n",
    "eps_grid[:, :, 1, :] = layer_builder.build_uniform_layer(\"gallium_arsenide\")\n",
    "eps_grid[:, :, 2, :] = layer_builder.build_uniform_layer(\"silicon_nitride\")\n",
    "# Set number of time steps in FDTD\n",
    "cfg.FDTD_niter = 800\n",
    "# Set number of decimal in printing\n",
    "torch.set_printoptions(8)\n",
    "# Choose pulse type\n",
    "cfg.FDTD_pulse_type = 'continuous'"
   ]
  },
  {
   "cell_type": "code",
   "execution_count": null,
   "id": "72f1cfa7",
   "metadata": {},
   "outputs": [],
   "source": [
    "# Plot the abs values of the produced grid\n",
    "nidn.plot_epsilon_grid(eps_grid,cfg)"
   ]
  },
  {
   "cell_type": "code",
   "execution_count": null,
   "id": "fe10dd44",
   "metadata": {},
   "outputs": [],
   "source": [
    "# Compute spectrum for this configuration\n",
    "R,T = nidn.compute_spectrum(eps_grid,cfg)"
   ]
  },
  {
   "cell_type": "code",
   "execution_count": null,
   "id": "6b29c887",
   "metadata": {},
   "outputs": [],
   "source": [
    "#Plot the spectrum\n",
    "nidn.plot_spectrum(cfg,R,T)"
   ]
  }
 ],
 "metadata": {
  "kernelspec": {
   "display_name": "Python 3 (ipykernel)",
   "language": "python",
   "name": "python3"
  },
  "language_info": {
   "codemirror_mode": {
    "name": "ipython",
    "version": 3
   },
   "file_extension": ".py",
   "mimetype": "text/x-python",
   "name": "python",
   "nbconvert_exporter": "python",
   "pygments_lexer": "ipython3",
   "version": "3.9.10"
  }
 },
 "nbformat": 4,
 "nbformat_minor": 5
}
