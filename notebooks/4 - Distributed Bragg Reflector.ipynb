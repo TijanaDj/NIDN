{
 "cells": [
  {
   "cell_type": "markdown",
   "id": "7a922d82",
   "metadata": {},
   "source": [
    "## Running NIDN\n",
    "\n",
    "We are now ready to get started.\n",
    "Before we go ahead, we must do the imports.\n",
    "\n",
    "### Imports "
   ]
  },
  {
   "cell_type": "code",
   "execution_count": null,
   "id": "e5c11861",
   "metadata": {},
   "outputs": [],
   "source": [
    "### Imports (TODO remove this when finished)\n",
    "%load_ext autoreload\n",
    "%autoreload 2\n",
    "\n",
    "# Append root folder in case you haven't installed NIDN\n",
    "import sys\n",
    "sys.path.append(\"../\")\n",
    "\n",
    "import nidn"
   ]
  },
  {
   "cell_type": "code",
   "execution_count": null,
   "id": "579aae8b",
   "metadata": {
    "scrolled": false
   },
   "outputs": [],
   "source": [
    "# Load default cfg as starting point\n",
    "cfg = nidn.load_default_cfg()\n",
    "\n",
    "# Specify your desired range of wavelengths\n",
    "cfg.physical_wavelength_range[0] = (1.475)*1e-6\n",
    "cfg.physical_wavelength_range[1] = (1.525)*1e-6\n",
    "\n",
    "cfg.N_freq = 32\n",
    "\n",
    "cfg.target_reflectance_spectrum = [0.99802973,0.99778675,0.99748673,0.99711038,0.99662950,0.99600160,0.99516017,0.99399646,0.99232272,0.98979213,0.98570581,0.97848197,0.96390737,0.92765661,0.79774928,0.13013411,0.59555165,0.88765163,0.95092431,0.97282389,0.98276342,0.98807370,0.99123354,0.99326283,0.99464220,0.99562184,0.99634230,0.99688743,0.99730973,0.99764344,0.99791164,0.99813038,]\n",
    "cfg.target_transmittance_spectrum = [0.00176019,0.00199939,0.00229478,0.00266539,0.00313898,0.00375744,0.00458628,0.00573266,0.00738156,0.00987468,0.01390061,0.02101778,0.03537726,0.07109298,0.19908235,0.85683378,0.39828372,0.11050055,0.04816339,0.02658768,0.01679511,0.01156331,0.00845010,0.00645072,0.00509164,0.00412636,0.00341642,0.00287921,0.00246302,0.00213410,0.00186971,0.00165405,]\n",
    "\n",
    "cfg.absorption_loss = True\n",
    "\n",
    "nidn.plot_spectrum(cfg,\n",
    "                   cfg.target_reflectance_spectrum,\n",
    "                   cfg.target_transmittance_spectrum)\n",
    "\n",
    "\n",
    "# Determine target frequencies (in TRCWA units)\n",
    "cfg.target_frequencies = nidn.compute_target_frequencies(\n",
    "    cfg.physical_wavelength_range[0],\n",
    "    cfg.physical_wavelength_range[1],\n",
    "    cfg.N_freq,\n",
    "    cfg.freq_distribution\n",
    ")\n",
    "\n",
    "physical_wls, normalized_freqs = nidn.get_frequency_points(cfg)\n",
    "print(\"Physical wavelengths are (in meters):\")\n",
    "print(physical_wls)"
   ]
  },
  {
   "cell_type": "code",
   "execution_count": null,
   "id": "b055f21f",
   "metadata": {},
   "outputs": [],
   "source": [
    "# Set thicknesses\n",
    "thicknesses = []\n",
    "layers = 13\n",
    "layers_per_part = (layers-1) // 4\n",
    "n_2 = 2.2\n",
    "n_1 = 1.5\n",
    "\n",
    "lam0 = 1.50\n",
    "d_1 = lam0/(4*n_1)\n",
    "d_2 = lam0/(4*n_2)\n",
    "d_defect = lam0/(2*n_1)\n",
    "\n",
    "# Top DBR\n",
    "for i in range(layers_per_part):\n",
    "    thicknesses.append(d_1)\n",
    "    thicknesses.append(d_2)\n",
    "    \n",
    "# Defect \n",
    "thicknesses.append(d_defect)\n",
    "\n",
    "# Bottom DBR\n",
    "for i in range(layers_per_part,2*layers_per_part):\n",
    "    thicknesses.append(d_2)\n",
    "    thicknesses.append(d_1)\n",
    "\n",
    "thicknesses.reverse()\n",
    "cfg.TRCWA_PER_LAYER_THICKNESS = thicknesses"
   ]
  },
  {
   "cell_type": "markdown",
   "id": "8f1dc640",
   "metadata": {},
   "source": [
    "## Regression"
   ]
  },
  {
   "cell_type": "code",
   "execution_count": null,
   "id": "970b965a",
   "metadata": {},
   "outputs": [],
   "source": [
    "cfg.pop(\"model\",None); # Forget the old model\n",
    "# Set grid specifics\n",
    "cfg.Nx = 1\n",
    "cfg.Ny = 1\n",
    "cfg.N_layers = layers\n",
    "cfg.TRCWA_L_grid = [[1.,0.0],[0.0,1.]]\n",
    "cfg.TRCWA_NG = 11\n",
    "\n",
    "# Allowed range of epsilon values\n",
    "cfg.real_min_eps = 0.0\n",
    "cfg.real_max_eps = 10.0\n",
    "cfg.imag_min_eps = 0.0\n",
    "cfg.imag_max_eps = 0.1\n",
    "\n",
    "cfg.type = \"regression\" # Choose type as described above"
   ]
  },
  {
   "cell_type": "code",
   "execution_count": null,
   "id": "3b8c547a",
   "metadata": {},
   "outputs": [],
   "source": [
    "cfg.iterations = 1000\n",
    "nidn.run_training(cfg);"
   ]
  },
  {
   "cell_type": "code",
   "execution_count": null,
   "id": "73799e6d",
   "metadata": {
    "scrolled": false
   },
   "outputs": [],
   "source": [
    "nidn.plot_losses(cfg)\n",
    "nidn.plot_spectra(cfg)\n",
    "nidn.plot_model_grid(cfg)\n",
    "nidn.plot_eps_per_point(cfg,legend=False)"
   ]
  },
  {
   "cell_type": "markdown",
   "id": "6c0b0854",
   "metadata": {},
   "source": [
    "## Classification"
   ]
  },
  {
   "cell_type": "code",
   "execution_count": null,
   "id": "09bb33f5",
   "metadata": {},
   "outputs": [],
   "source": [
    "cfg.pop(\"model\",None); # Forget the old model\n",
    "\n",
    "cfg.type = \"classification\" # Choose type as described above\n",
    "cfg.iterations = 1000 # Set number of training iterations (that is forward model evaluations) to perform"
   ]
  },
  {
   "cell_type": "code",
   "execution_count": null,
   "id": "481b28f2",
   "metadata": {
    "scrolled": false
   },
   "outputs": [],
   "source": [
    "nidn.run_training(cfg);"
   ]
  },
  {
   "cell_type": "code",
   "execution_count": null,
   "id": "0bc16df3",
   "metadata": {
    "scrolled": false
   },
   "outputs": [],
   "source": [
    "nidn.plot_losses(cfg)\n",
    "nidn.plot_spectra(cfg)\n",
    "nidn.plot_model_grid(cfg)\n",
    "nidn.plot_eps_per_point(cfg,legend=False)"
   ]
  },
  {
   "cell_type": "code",
   "execution_count": null,
   "id": "cf0f86a6",
   "metadata": {},
   "outputs": [],
   "source": []
  }
 ],
 "metadata": {
  "kernelspec": {
   "display_name": "Python 3 (ipykernel)",
   "language": "python",
   "name": "python3"
  },
  "language_info": {
   "codemirror_mode": {
    "name": "ipython",
    "version": 3
   },
   "file_extension": ".py",
   "mimetype": "text/x-python",
   "name": "python",
   "nbconvert_exporter": "python",
   "pygments_lexer": "ipython3",
   "version": "3.9.6"
  }
 },
 "nbformat": 4,
 "nbformat_minor": 5
}
