{
 "cells": [
  {
   "cell_type": "code",
   "execution_count": 24,
   "metadata": {},
   "outputs": [
    {
     "name": "stdout",
     "output_type": "stream",
     "text": [
      "The autoreload extension is already loaded. To reload it, use:\n",
      "  %reload_ext autoreload\n"
     ]
    }
   ],
   "source": [
    "### Imports\n",
    "%load_ext autoreload\n",
    "%autoreload 2\n",
    "\n",
    "# Append main folder\n",
    "import sys\n",
    "sys.path.append(\"..\")\n",
    "\n",
    "import nidn\n",
    "import torch\n",
    "from nidn.fdtd_integration.init_fdtd import _add_boundaries, _add_object, _add_source\n",
    "from nidn.fdtd import (\n",
    "    AbsorbingObject,\n",
    "    AnisotropicObject,\n",
    "    set_backend,\n",
    "    Grid,\n",
    "    PML,\n",
    "    PeriodicBoundary,\n",
    "    LineSource,\n",
    "    LineDetector,\n",
    "    PointSource,\n",
    ")\n",
    "from nidn.fdtd_integration.compute_spectrum_fdtd import _get_abs_value_from_3D_signal\n",
    "from nidn.utils.global_constants import SPEED_OF_LIGHT\n",
    "import matplotlib.pyplot as plt"
   ]
  },
  {
   "cell_type": "markdown",
   "metadata": {},
   "source": [
    "### Create simplified FDTD grid and run simulation"
   ]
  },
  {
   "cell_type": "code",
   "execution_count": 29,
   "metadata": {},
   "outputs": [],
   "source": [
    "eps = torch.tensor(2.0 + 0.1j, requires_grad=True)\n",
    "source_pos_x = torch.tensor(5.0, requires_grad=True)\n",
    "grid = Grid((20,5,1),1e-7, permittivity=1.0, permeability=1.0)\n",
    "_add_boundaries(grid, 5)\n",
    "_add_source(int(grid,source_pos_x),2,1e-6/SPEED_OF_LIGHT,False,\"line\" )\n",
    "_add_object(grid,8,12,eps, SPEED_OF_LIGHT/1e-6)\n",
    "detector = LineDetector()\n",
    "grid[13, :, 0] = detector"
   ]
  },
  {
   "cell_type": "markdown",
   "metadata": {},
   "source": [
    "### Visualize grid"
   ]
  },
  {
   "cell_type": "code",
   "execution_count": 30,
   "metadata": {},
   "outputs": [
    {
     "data": {
      "image/png": "[encoded data removed]",
      "text/plain": [
       "<Figure size 432x288 with 1 Axes>"
      ]
     },
     "metadata": {
      "needs_background": "light"
     },
     "output_type": "display_data"
    }
   ],
   "source": [
    "plt.figure()\n",
    "grid.visualize(z=0)"
   ]
  },
  {
   "cell_type": "markdown",
   "metadata": {},
   "source": [
    "### Run grid and get detector values"
   ]
  },
  {
   "cell_type": "code",
   "execution_count": 27,
   "metadata": {},
   "outputs": [
    {
     "name": "stderr",
     "output_type": "stream",
     "text": [
      "  0%|          | 0/2 [00:00<?, ?it/s]\n"
     ]
    },
    {
     "ename": "IndexError",
     "evalue": "index 50000000 is out of bounds for dimension 0 with size 20",
     "output_type": "error",
     "traceback": [
      "\u001b[1;31m---------------------------------------------------------------------------\u001b[0m",
      "\u001b[1;31mIndexError\u001b[0m                                Traceback (most recent call last)",
      "Input \u001b[1;32mIn [27]\u001b[0m, in \u001b[0;36m<module>\u001b[1;34m\u001b[0m\n\u001b[0;32m      1\u001b[0m niter \u001b[39m=\u001b[39m \u001b[39m2\u001b[39m\n\u001b[1;32m----> 2\u001b[0m grid\u001b[39m.\u001b[39;49mrun(niter)\n\u001b[0;32m      4\u001b[0m signal \u001b[39m=\u001b[39m _get_abs_value_from_3D_signal(detector\u001b[39m.\u001b[39mdetector_values()[\u001b[39m\"\u001b[39m\u001b[39mE\u001b[39m\u001b[39m\"\u001b[39m])\n\u001b[0;32m      5\u001b[0m signal\n",
      "File \u001b[1;32mc:\\Users\\to-bo\\OneDrive\\Documents\\ESA\\NIDN\\Developer\\notebooks\\..\\nidn\\fdtd\\grid.py:265\u001b[0m, in \u001b[0;36mGrid.run\u001b[1;34m(self, total_time, progress_bar)\u001b[0m\n\u001b[0;32m    <a href='file:///c%3A/Users/to-bo/OneDrive/Documents/ESA/NIDN/Developer/notebooks/../nidn/fdtd/grid.py?line=262'>263</a>\u001b[0m     time \u001b[39m=\u001b[39m tqdm(time)\n\u001b[0;32m    <a href='file:///c%3A/Users/to-bo/OneDrive/Documents/ESA/NIDN/Developer/notebooks/../nidn/fdtd/grid.py?line=263'>264</a>\u001b[0m \u001b[39mfor\u001b[39;00m _ \u001b[39min\u001b[39;00m time:\n\u001b[1;32m--> <a href='file:///c%3A/Users/to-bo/OneDrive/Documents/ESA/NIDN/Developer/notebooks/../nidn/fdtd/grid.py?line=264'>265</a>\u001b[0m     \u001b[39mself\u001b[39;49m\u001b[39m.\u001b[39;49mstep()\n",
      "File \u001b[1;32mc:\\Users\\to-bo\\OneDrive\\Documents\\ESA\\NIDN\\Developer\\notebooks\\..\\nidn\\fdtd\\grid.py:271\u001b[0m, in \u001b[0;36mGrid.step\u001b[1;34m(self)\u001b[0m\n\u001b[0;32m    <a href='file:///c%3A/Users/to-bo/OneDrive/Documents/ESA/NIDN/Developer/notebooks/../nidn/fdtd/grid.py?line=266'>267</a>\u001b[0m \u001b[39mdef\u001b[39;00m \u001b[39mstep\u001b[39m(\u001b[39mself\u001b[39m):\n\u001b[0;32m    <a href='file:///c%3A/Users/to-bo/OneDrive/Documents/ESA/NIDN/Developer/notebooks/../nidn/fdtd/grid.py?line=267'>268</a>\u001b[0m     \u001b[39m\"\"\"do a single FDTD step by first updating the electric field and then\u001b[39;00m\n\u001b[0;32m    <a href='file:///c%3A/Users/to-bo/OneDrive/Documents/ESA/NIDN/Developer/notebooks/../nidn/fdtd/grid.py?line=268'>269</a>\u001b[0m \u001b[39m    updating the magnetic field\u001b[39;00m\n\u001b[0;32m    <a href='file:///c%3A/Users/to-bo/OneDrive/Documents/ESA/NIDN/Developer/notebooks/../nidn/fdtd/grid.py?line=269'>270</a>\u001b[0m \u001b[39m    \"\"\"\u001b[39;00m\n\u001b[1;32m--> <a href='file:///c%3A/Users/to-bo/OneDrive/Documents/ESA/NIDN/Developer/notebooks/../nidn/fdtd/grid.py?line=270'>271</a>\u001b[0m     \u001b[39mself\u001b[39;49m\u001b[39m.\u001b[39;49mupdate_E()\n\u001b[0;32m    <a href='file:///c%3A/Users/to-bo/OneDrive/Documents/ESA/NIDN/Developer/notebooks/../nidn/fdtd/grid.py?line=271'>272</a>\u001b[0m     \u001b[39mself\u001b[39m\u001b[39m.\u001b[39mupdate_H()\n\u001b[0;32m    <a href='file:///c%3A/Users/to-bo/OneDrive/Documents/ESA/NIDN/Developer/notebooks/../nidn/fdtd/grid.py?line=272'>273</a>\u001b[0m     \u001b[39mself\u001b[39m\u001b[39m.\u001b[39mtime_steps_passed \u001b[39m+\u001b[39m\u001b[39m=\u001b[39m \u001b[39m1\u001b[39m\n",
      "File \u001b[1;32mc:\\Users\\to-bo\\OneDrive\\Documents\\ESA\\NIDN\\Developer\\notebooks\\..\\nidn\\fdtd\\grid.py:295\u001b[0m, in \u001b[0;36mGrid.update_E\u001b[1;34m(self)\u001b[0m\n\u001b[0;32m    <a href='file:///c%3A/Users/to-bo/OneDrive/Documents/ESA/NIDN/Developer/notebooks/../nidn/fdtd/grid.py?line=292'>293</a>\u001b[0m \u001b[39m# add sources to grid:\u001b[39;00m\n\u001b[0;32m    <a href='file:///c%3A/Users/to-bo/OneDrive/Documents/ESA/NIDN/Developer/notebooks/../nidn/fdtd/grid.py?line=293'>294</a>\u001b[0m \u001b[39mfor\u001b[39;00m src \u001b[39min\u001b[39;00m \u001b[39mself\u001b[39m\u001b[39m.\u001b[39msources:\n\u001b[1;32m--> <a href='file:///c%3A/Users/to-bo/OneDrive/Documents/ESA/NIDN/Developer/notebooks/../nidn/fdtd/grid.py?line=294'>295</a>\u001b[0m     src\u001b[39m.\u001b[39;49mupdate_E()\n\u001b[0;32m    <a href='file:///c%3A/Users/to-bo/OneDrive/Documents/ESA/NIDN/Developer/notebooks/../nidn/fdtd/grid.py?line=296'>297</a>\u001b[0m \u001b[39m# detect electric field\u001b[39;00m\n\u001b[0;32m    <a href='file:///c%3A/Users/to-bo/OneDrive/Documents/ESA/NIDN/Developer/notebooks/../nidn/fdtd/grid.py?line=297'>298</a>\u001b[0m \u001b[39mfor\u001b[39;00m det \u001b[39min\u001b[39;00m \u001b[39mself\u001b[39m\u001b[39m.\u001b[39mdetectors:\n",
      "File \u001b[1;32mc:\\Users\\to-bo\\OneDrive\\Documents\\ESA\\NIDN\\Developer\\notebooks\\..\\nidn\\fdtd\\sources.py:293\u001b[0m, in \u001b[0;36mLineSource.update_E\u001b[1;34m(self)\u001b[0m\n\u001b[0;32m    <a href='file:///c%3A/Users/to-bo/OneDrive/Documents/ESA/NIDN/Developer/notebooks/../nidn/fdtd/sources.py?line=289'>290</a>\u001b[0m \u001b[39m# do not use list indexing here, as this is much slower especially for torch backend\u001b[39;00m\n\u001b[0;32m    <a href='file:///c%3A/Users/to-bo/OneDrive/Documents/ESA/NIDN/Developer/notebooks/../nidn/fdtd/sources.py?line=290'>291</a>\u001b[0m \u001b[39m# DISABLED: self.grid.E[self.x, self.y, self.z, 2] = vect\u001b[39;00m\n\u001b[0;32m    <a href='file:///c%3A/Users/to-bo/OneDrive/Documents/ESA/NIDN/Developer/notebooks/../nidn/fdtd/sources.py?line=291'>292</a>\u001b[0m \u001b[39mfor\u001b[39;00m x, y, z, value \u001b[39min\u001b[39;00m \u001b[39mzip\u001b[39m(\u001b[39mself\u001b[39m\u001b[39m.\u001b[39mx, \u001b[39mself\u001b[39m\u001b[39m.\u001b[39my, \u001b[39mself\u001b[39m\u001b[39m.\u001b[39mz, vect):\n\u001b[1;32m--> <a href='file:///c%3A/Users/to-bo/OneDrive/Documents/ESA/NIDN/Developer/notebooks/../nidn/fdtd/sources.py?line=292'>293</a>\u001b[0m     \u001b[39mself\u001b[39m\u001b[39m.\u001b[39mgrid\u001b[39m.\u001b[39mE[x, y, z, \u001b[39m2\u001b[39m] \u001b[39m+\u001b[39m\u001b[39m=\u001b[39m value\n",
      "\u001b[1;31mIndexError\u001b[0m: index 50000000 is out of bounds for dimension 0 with size 20"
     ]
    }
   ],
   "source": [
    "niter = 2\n",
    "grid.run(niter)\n",
    "\n",
    "signal = _get_abs_value_from_3D_signal(detector.detector_values()[\"E\"])\n",
    "signal\n"
   ]
  },
  {
   "cell_type": "markdown",
   "metadata": {},
   "source": [
    "### Create loss function"
   ]
  },
  {
   "cell_type": "code",
   "execution_count": null,
   "metadata": {},
   "outputs": [
    {
     "data": {
      "text/plain": [
       "tensor(0., grad_fn=<AddBackward0>)"
      ]
     },
     "execution_count": 19,
     "metadata": {},
     "output_type": "execute_result"
    }
   ],
   "source": [
    "loss = sum(signal)\n",
    "loss"
   ]
  },
  {
   "cell_type": "markdown",
   "metadata": {},
   "source": [
    "### Run backwards and find gradient of eps"
   ]
  },
  {
   "cell_type": "code",
   "execution_count": null,
   "metadata": {},
   "outputs": [],
   "source": [
    "loss.backward()"
   ]
  },
  {
   "cell_type": "code",
   "execution_count": null,
   "metadata": {},
   "outputs": [
    {
     "data": {
      "text/plain": [
       "tensor(0.+0.j)"
      ]
     },
     "execution_count": 21,
     "metadata": {},
     "output_type": "execute_result"
    }
   ],
   "source": [
    "source_pos_x.grad"
   ]
  }
 ],
 "metadata": {
  "interpreter": {
   "hash": "cd0991b29d7d690bc5e205a01d9268c3e1c540c626acb4d966155a50f21eac25"
  },
  "kernelspec": {
   "display_name": "Python 3.9.10 ('nidn')",
   "language": "python",
   "name": "python3"
  },
  "language_info": {
   "codemirror_mode": {
    "name": "ipython",
    "version": 3
   },
   "file_extension": ".py",
   "mimetype": "text/x-python",
   "name": "python",
   "nbconvert_exporter": "python",
   "pygments_lexer": "ipython3",
   "version": "3.9.10"
  },
  "orig_nbformat": 4
 },
 "nbformat": 4,
 "nbformat_minor": 2
}
