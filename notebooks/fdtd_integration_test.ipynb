{
 "cells": [
  {
   "cell_type": "code",
   "execution_count": null,
   "metadata": {},
   "outputs": [],
   "source": [
    "### Imports\n",
    "%load_ext autoreload\n",
    "%autoreload 2\n",
    "\n",
    "import sys\n",
    "sys.path.append(\"../\")\n",
    "import nidn"
   ]
  },
  {
   "cell_type": "code",
   "execution_count": null,
   "metadata": {},
   "outputs": [],
   "source": []
  },
  {
   "cell_type": "code",
   "execution_count": null,
   "metadata": {},
   "outputs": [],
   "source": [
    "cfg = nidn.load_default_cfg()\n",
    "cfg.N_layers = 1\n",
    "t,r = nidn.FDTD_compute_spectrum(cfg,[5.1984,2,3,4,5,6,7,8])"
   ]
  },
  {
   "cell_type": "code",
   "execution_count": null,
   "metadata": {},
   "outputs": [],
   "source": [
    "from nidn.scripts.compute_fdtd_spectrum import plot_fdtd_spectrum\n"
   ]
  },
  {
   "cell_type": "code",
   "execution_count": null,
   "metadata": {},
   "outputs": [],
   "source": [
    "# The spectrum from the script implementation\n",
    "plot_fdtd_spectrum(cfg)"
   ]
  },
  {
   "cell_type": "code",
   "execution_count": null,
   "metadata": {},
   "outputs": [],
   "source": [
    "#The spectrum from the fdtd_int implementation\n",
    "nidn.plot_spectra(cfg,prod_R_spectrum=r, prod_T_spectrum=t)"
   ]
  },
  {
   "cell_type": "code",
   "execution_count": null,
   "metadata": {},
   "outputs": [],
   "source": [
    "nidn.plot_spectrum(cfg,r,t)"
   ]
  }
 ],
 "metadata": {
  "interpreter": {
   "hash": "cd0991b29d7d690bc5e205a01d9268c3e1c540c626acb4d966155a50f21eac25"
  },
  "kernelspec": {
   "display_name": "Python 3.9.10 ('nidn')",
   "language": "python",
   "name": "python3"
  },
  "language_info": {
   "codemirror_mode": {
    "name": "ipython",
    "version": 3
   },
   "file_extension": ".py",
   "mimetype": "text/x-python",
   "name": "python",
   "nbconvert_exporter": "python",
   "pygments_lexer": "ipython3",
   "version": "3.9.10"
  },
  "orig_nbformat": 4
 },
 "nbformat": 4,
 "nbformat_minor": 2
}
