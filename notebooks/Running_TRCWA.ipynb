{
 "cells": [
  {
   "cell_type": "code",
   "execution_count": null,
   "id": "772b89b8",
   "metadata": {},
   "outputs": [],
   "source": [
    "### Imports\n",
    "%load_ext autoreload\n",
    "%autoreload 2\n",
    "\n",
    "# Append main folder\n",
    "import sys\n",
    "sys.path.append(\"..\")\n",
    "\n",
    "import nidn\n",
    "import torch"
   ]
  },
  {
   "cell_type": "code",
   "execution_count": null,
   "id": "75162c2a",
   "metadata": {},
   "outputs": [],
   "source": [
    "# Start with the default config\n",
    "cfg = nidn.load_default_cfg()"
   ]
  },
  {
   "cell_type": "code",
   "execution_count": null,
   "id": "b25a26a4",
   "metadata": {},
   "outputs": [],
   "source": [
    "# Set grid specifics\n",
    "cfg.Nx = 9\n",
    "cfg.Ny = 9\n",
    "cfg.N_layers = 3\n",
    "\n",
    "# Specify your desired range of wavelengths\n",
    "cfg.physical_wavelength_range[0] = 2.5e-6\n",
    "cfg.physical_wavelength_range[1] = 1e-5\n",
    "\n",
    "# Determine target frequencies (in TRCWA units)\n",
    "cfg.target_frequencies = nidn.compute_target_frequencies(\n",
    "    cfg.physical_wavelength_range[0],\n",
    "    cfg.physical_wavelength_range[1],\n",
    "    cfg.N_freq,\n",
    ")"
   ]
  },
  {
   "cell_type": "code",
   "execution_count": null,
   "id": "21acf8bd",
   "metadata": {},
   "outputs": [],
   "source": [
    "# Init eps_grid\n",
    "eps_grid = torch.zeros(cfg.Nx,cfg.Ny,cfg.N_layers,cfg.N_freq,dtype=torch.cfloat)\n",
    "\n",
    "# Create a uniform layer, one with a circle, one with a hole\n",
    "layer_builder = nidn.LayerBuilder(cfg)\n",
    "eps_grid[:,:,0,:] = layer_builder.build_circle_layer(\"germanium\",\"aluminium_oxide\")\n",
    "eps_grid[:,:,1,:] = layer_builder.build_uniform_layer(\"silicon_nitride\")\n",
    "eps_grid[:,:,2,:] = layer_builder.build_squared_layer(\"titanium_oxide\",\"germanium\")"
   ]
  },
  {
   "cell_type": "code",
   "execution_count": null,
   "id": "fecd1026",
   "metadata": {},
   "outputs": [],
   "source": [
    "nidn.plot_epsilon_grid(eps_grid,cfg)"
   ]
  },
  {
   "cell_type": "code",
   "execution_count": null,
   "id": "50a8916e",
   "metadata": {},
   "outputs": [],
   "source": [
    "nidn.print_cfg(cfg)"
   ]
  },
  {
   "cell_type": "code",
   "execution_count": null,
   "id": "0e34694f",
   "metadata": {},
   "outputs": [],
   "source": [
    "R,T = nidn.compute_spectrum(eps_grid,cfg)"
   ]
  },
  {
   "cell_type": "code",
   "execution_count": null,
   "id": "85d7a697",
   "metadata": {},
   "outputs": [],
   "source": [
    "physical_freqs, normalized_freqs = nidn.get_frequency_points(cfg)"
   ]
  },
  {
   "cell_type": "code",
   "execution_count": null,
   "id": "a66090ac",
   "metadata": {},
   "outputs": [],
   "source": [
    "nidn.plot_spectrum(cfg,R,T)"
   ]
  },
  {
   "cell_type": "code",
   "execution_count": null,
   "id": "076e6a33",
   "metadata": {},
   "outputs": [],
   "source": []
  }
 ],
 "metadata": {
  "kernelspec": {
   "display_name": "Python 3 (ipykernel)",
   "language": "python",
   "name": "python3"
  },
  "language_info": {
   "codemirror_mode": {
    "name": "ipython",
    "version": 3
   },
   "file_extension": ".py",
   "mimetype": "text/x-python",
   "name": "python",
   "nbconvert_exporter": "python",
   "pygments_lexer": "ipython3",
   "version": "3.9.6"
  }
 },
 "nbformat": 4,
 "nbformat_minor": 5
}
