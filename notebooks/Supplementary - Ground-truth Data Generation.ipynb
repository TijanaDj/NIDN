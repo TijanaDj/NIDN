{
 "cells": [
  {
   "cell_type": "code",
   "execution_count": null,
   "id": "58f11ef5",
   "metadata": {},
   "outputs": [],
   "source": [
    "### Imports\n",
    "%load_ext autoreload\n",
    "%autoreload 2\n",
    "\n",
    "# Append main folder\n",
    "import sys\n",
    "sys.path.append(\"..\")\n",
    "\n",
    "import nidn\n",
    "import torch"
   ]
  },
  {
   "cell_type": "code",
   "execution_count": null,
   "id": "d9aa62c8",
   "metadata": {},
   "outputs": [],
   "source": [
    "# Start with the default config\n",
    "cfg = nidn.load_default_cfg()"
   ]
  },
  {
   "cell_type": "markdown",
   "id": "4b9f830a",
   "metadata": {},
   "source": [
    "## Uniform Titanium-Oxide Ground Truth"
   ]
  },
  {
   "cell_type": "code",
   "execution_count": null,
   "id": "15dbc61e",
   "metadata": {},
   "outputs": [],
   "source": [
    "# Titanium Oxide Uniform\n",
    "# Set grid specifics\n",
    "cfg.Nx = 1\n",
    "cfg.Ny = 1\n",
    "cfg.N_layers = 1\n",
    "cfg.N_freq = 50\n",
    "cfg.TRCWA_L_grid = [[1.0,0.0],[0.0,1.0]]\n",
    "cfg.TRCWA_NG = 11\n",
    "cfg.TRCWA_PER_LAYER_THICKNESS = [1.0]\n",
    "cfg.freq_distribution = \"log\"\n",
    "\n",
    "# Specify your desired range of wavelengths\n",
    "cfg.physical_wavelength_range[0] = 2e-6\n",
    "cfg.physical_wavelength_range[1] = 1e-5\n",
    "\n",
    "# Determine target frequencies (in TRCWA units)\n",
    "cfg.target_frequencies = nidn.compute_target_frequencies(\n",
    "    cfg.physical_wavelength_range[0],\n",
    "    cfg.physical_wavelength_range[1],\n",
    "    cfg.N_freq,\n",
    "    cfg.freq_distribution\n",
    ")"
   ]
  },
  {
   "cell_type": "code",
   "execution_count": null,
   "id": "dea2d797",
   "metadata": {},
   "outputs": [],
   "source": [
    "# Init eps_grid\n",
    "eps_grid = torch.zeros(cfg.Nx,cfg.Ny,cfg.N_layers,cfg.N_freq,dtype=torch.cfloat)\n",
    "\n",
    "layer_builder = nidn.LayerBuilder(cfg)\n",
    "eps_grid[:,:,0,:] = layer_builder.build_uniform_layer(\"titanium_oxide\")"
   ]
  },
  {
   "cell_type": "code",
   "execution_count": null,
   "id": "0e34694f",
   "metadata": {},
   "outputs": [],
   "source": [
    "# Compute spectrum for this configuration\n",
    "R,T = nidn.compute_spectrum(eps_grid,cfg)\n",
    "nidn.plot_spectrum(cfg,R,T)"
   ]
  },
  {
   "cell_type": "code",
   "execution_count": null,
   "id": "c6201787",
   "metadata": {},
   "outputs": [],
   "source": [
    "print(\"cfg.target_reflectance_spectrum = [\", end=\"\")\n",
    "[print(f\"{r.item():.8f}\",end=\",\") for r in R]\n",
    "print(\"]\")\n",
    "print(\"cfg.target_transmittance_spectrum = [\",end=\"\")\n",
    "[print(f\"{t.item():.8f}\",end=\",\") for t in T]\n",
    "print(\"]\")"
   ]
  },
  {
   "cell_type": "markdown",
   "id": "51c6fb7a",
   "metadata": {},
   "source": [
    "## Uniform 3-Layer Ground-truth "
   ]
  },
  {
   "cell_type": "code",
   "execution_count": null,
   "id": "0d3f9ca5",
   "metadata": {},
   "outputs": [],
   "source": [
    "# Start with the default config\n",
    "cfg = nidn.load_default_cfg()\n",
    "\n",
    "# Set grid specifics\n",
    "cfg.Nx = 1\n",
    "cfg.Ny = 1\n",
    "cfg.N_layers = 3\n",
    "cfg.N_freq = 32\n",
    "cfg.TRCWA_L_grid = [[1.0,0.0],[0.0,1.0]]\n",
    "cfg.TRCWA_NG = 11\n",
    "cfg.TRCWA_PER_LAYER_THICKNESS = [1.0]\n",
    "cfg.freq_distribution = \"linear\"\n",
    "\n",
    "# Specify your desired range of wavelengths\n",
    "cfg.physical_wavelength_range[0] = 1e-5\n",
    "cfg.physical_wavelength_range[1] = 4e-5\n",
    "\n",
    "# Determine target frequencies (in TRCWA units)\n",
    "cfg.target_frequencies = nidn.compute_target_frequencies(\n",
    "    cfg.physical_wavelength_range[0],\n",
    "    cfg.physical_wavelength_range[1],\n",
    "    cfg.N_freq,\n",
    "    cfg.freq_distribution\n",
    ")"
   ]
  },
  {
   "cell_type": "code",
   "execution_count": null,
   "id": "cbd0e2b9",
   "metadata": {},
   "outputs": [],
   "source": [
    "# Init eps_grid\n",
    "eps_grid = torch.zeros(cfg.Nx,cfg.Ny,cfg.N_layers,cfg.N_freq,dtype=torch.cfloat)\n",
    "\n",
    "layer_builder = nidn.LayerBuilder(cfg)\n",
    "eps_grid[:,:,0,:] = layer_builder.build_uniform_layer(\"titanium_oxide\")\n",
    "eps_grid[:,:,1,:] = layer_builder.build_uniform_layer(\"germanium\")\n",
    "eps_grid[:,:,2,:] = layer_builder.build_uniform_layer(\"tantalum_pentoxide\")"
   ]
  },
  {
   "cell_type": "code",
   "execution_count": null,
   "id": "2228a416",
   "metadata": {},
   "outputs": [],
   "source": [
    "# Compute spectrum for this configuration\n",
    "R,T = nidn.compute_spectrum(eps_grid,cfg)\n",
    "nidn.plot_spectrum(cfg,R,T)"
   ]
  },
  {
   "cell_type": "code",
   "execution_count": null,
   "id": "bfccb990",
   "metadata": {},
   "outputs": [],
   "source": [
    "print(\"cfg.target_reflectance_spectrum = [\", end=\"\")\n",
    "[print(f\"{r.item():.8f}\",end=\",\") for r in R]\n",
    "print(\"]\")\n",
    "print(\"cfg.target_transmittance_spectrum = [\",end=\"\")\n",
    "[print(f\"{t.item():.8f}\",end=\",\") for t in T]\n",
    "print(\"]\")"
   ]
  },
  {
   "cell_type": "markdown",
   "id": "15fc8fbe",
   "metadata": {},
   "source": [
    "## Patterned 2-Layer Ground-truth "
   ]
  },
  {
   "cell_type": "code",
   "execution_count": null,
   "id": "a8b4408b",
   "metadata": {},
   "outputs": [],
   "source": [
    "# Start with the default config\n",
    "cfg = nidn.load_default_cfg()\n",
    "\n",
    "# Set grid specifics\n",
    "cfg.Nx = 9\n",
    "cfg.Ny = 9\n",
    "cfg.N_layers = 2\n",
    "cfg.N_freq = 32\n",
    "cfg.TRCWA_L_grid = [[1.0,0.0],[0.0,1.0]]\n",
    "cfg.TRCWA_NG = 11\n",
    "cfg.TRCWA_PER_LAYER_THICKNESS = [1.0]\n",
    "cfg.freq_distribution = \"linear\"\n",
    "\n",
    "# Specify your desired range of wavelengths\n",
    "cfg.physical_wavelength_range[0] = 1e-5\n",
    "cfg.physical_wavelength_range[1] = 4e-5\n",
    "\n",
    "# Determine target frequencies (in TRCWA units)\n",
    "cfg.target_frequencies = nidn.compute_target_frequencies(\n",
    "    cfg.physical_wavelength_range[0],\n",
    "    cfg.physical_wavelength_range[1],\n",
    "    cfg.N_freq,\n",
    "    cfg.freq_distribution\n",
    ")"
   ]
  },
  {
   "cell_type": "code",
   "execution_count": null,
   "id": "e7a51359",
   "metadata": {},
   "outputs": [],
   "source": [
    "# Init eps_grid\n",
    "eps_grid = torch.zeros(cfg.Nx,cfg.Ny,cfg.N_layers,cfg.N_freq,dtype=torch.cfloat)\n",
    "\n",
    "layer_builder = nidn.LayerBuilder(cfg)\n",
    "eps_grid[:,:,0,:] = layer_builder.build_squared_layer(\"titanium_oxide\",\"germanium\")\n",
    "eps_grid[:,:,1,:] = layer_builder.build_squared_layer(\"germanium\",\"titanium_oxide\")"
   ]
  },
  {
   "cell_type": "code",
   "execution_count": null,
   "id": "ef2353cc",
   "metadata": {},
   "outputs": [],
   "source": [
    "nidn.plot_epsilon_grid(eps_grid,cfg)"
   ]
  },
  {
   "cell_type": "code",
   "execution_count": null,
   "id": "0364bf85",
   "metadata": {},
   "outputs": [],
   "source": [
    "# Compute spectrum for this configuration\n",
    "R,T = nidn.compute_spectrum(eps_grid,cfg)\n",
    "nidn.plot_spectrum(cfg,R,T)"
   ]
  },
  {
   "cell_type": "code",
   "execution_count": null,
   "id": "1c228dfb",
   "metadata": {},
   "outputs": [],
   "source": [
    "print(\"cfg.target_reflectance_spectrum = [\", end=\"\")\n",
    "[print(f\"{r.item():.8f}\",end=\",\") for r in R]\n",
    "print(\"]\")\n",
    "print(\"cfg.target_transmittance_spectrum = [\",end=\"\")\n",
    "[print(f\"{t.item():.8f}\",end=\",\") for t in T]\n",
    "print(\"]\")"
   ]
  },
  {
   "cell_type": "markdown",
   "id": "ca07fa0c",
   "metadata": {},
   "source": [
    "## DBR Ground Truth"
   ]
  },
  {
   "cell_type": "code",
   "execution_count": null,
   "id": "869e0698",
   "metadata": {},
   "outputs": [],
   "source": [
    "# Set grid specifics\n",
    "cfg.Nx = 1\n",
    "cfg.Ny = 1\n",
    "cfg.N_layers = 33\n",
    "layers_per_part = (cfg.N_layers - 1) // 4\n",
    "cfg.N_freq = 32\n",
    "cfg.TRCWA_L_grid = [[1.,0.0],[0.0,1.]]\n",
    "cfg.TRCWA_NG = 11\n",
    "\n",
    "# Specify your desired range of wavelengths\n",
    "cfg.physical_wavelength_range[0] = (1.475)*1e-6\n",
    "cfg.physical_wavelength_range[1] = (1.525)*1e-6\n",
    "\n",
    "# Determine target frequencies (in TRCWA units)\n",
    "cfg.target_frequencies = nidn.compute_target_frequencies(\n",
    "    cfg.physical_wavelength_range[0],\n",
    "    cfg.physical_wavelength_range[1],\n",
    "    cfg.N_freq,\n",
    "    cfg.freq_distribution\n",
    ")"
   ]
  },
  {
   "cell_type": "code",
   "execution_count": null,
   "id": "d27c70c7",
   "metadata": {},
   "outputs": [],
   "source": [
    "# Init eps_grid\n",
    "eps_grid = torch.zeros(cfg.Nx,cfg.Ny,cfg.N_layers,cfg.N_freq,dtype=torch.cfloat)\n",
    "\n",
    "layer_builder = nidn.LayerBuilder(cfg)\n",
    "\n",
    "thicknesses = []\n",
    "\n",
    "n_2 = 2.2\n",
    "n_1 = 1.5\n",
    "eps_1 = n_1**2\n",
    "eps_2 = n_2**2\n",
    "\n",
    "lam0 = 1.50\n",
    "d_1 = lam0/(4*n_1)\n",
    "d_2 = lam0/(4*n_2)\n",
    "d_defect = lam0/(2*n_1)\n",
    "\n",
    "# Top DBR\n",
    "for i in range(layers_per_part):\n",
    "    eps_grid[:,:,2*i,:] = eps_1\n",
    "    thicknesses.append(d_1)\n",
    "    eps_grid[:,:,2*i+1,:] = eps_2\n",
    "    thicknesses.append(d_2)\n",
    "    \n",
    "# Defect \n",
    "eps_grid[:,:,layers_per_part*2,:] = eps_1\n",
    "thicknesses.append(d_defect)\n",
    "\n",
    "# Bottom DBR\n",
    "for i in range(layers_per_part,layers_per_part*2):\n",
    "    eps_grid[:,:,2*i+1,:] = eps_2\n",
    "    thicknesses.append(d_2)\n",
    "    eps_grid[:,:,2*i+2,:] = eps_1\n",
    "    thicknesses.append(d_1)\n",
    "\n",
    "thicknesses.reverse()\n",
    "cfg.TRCWA_PER_LAYER_THICKNESS = thicknesses"
   ]
  },
  {
   "cell_type": "code",
   "execution_count": null,
   "id": "297808ca",
   "metadata": {},
   "outputs": [],
   "source": [
    "# Plot the abs values of the produced grid\n",
    "nidn.plot_epsilon_grid(eps_grid,cfg)"
   ]
  },
  {
   "cell_type": "code",
   "execution_count": null,
   "id": "60ba7918",
   "metadata": {},
   "outputs": [],
   "source": [
    "# Compute spectrum for this configuration\n",
    "R,T = nidn.compute_spectrum(eps_grid,cfg)"
   ]
  },
  {
   "cell_type": "code",
   "execution_count": null,
   "id": "6f6de4f0",
   "metadata": {},
   "outputs": [],
   "source": [
    "nidn.plot_spectrum(cfg,R,T)"
   ]
  },
  {
   "cell_type": "code",
   "execution_count": null,
   "id": "a0f0b074",
   "metadata": {},
   "outputs": [],
   "source": [
    "print(\"cfg.target_reflectance_spectrum = [\", end=\"\")\n",
    "[print(f\"{r.item():.8f}\",end=\",\") for r in R]\n",
    "print(\"]\")\n",
    "print(\"cfg.target_transmittance_spectrum = [\",end=\"\")\n",
    "[print(f\"{t.item():.8f}\",end=\",\") for t in T]\n",
    "print(\"]\")"
   ]
  },
  {
   "cell_type": "code",
   "execution_count": null,
   "id": "da72f123",
   "metadata": {},
   "outputs": [],
   "source": []
  }
 ],
 "metadata": {
  "kernelspec": {
   "display_name": "Python 3 (ipykernel)",
   "language": "python",
   "name": "python3"
  },
  "language_info": {
   "codemirror_mode": {
    "name": "ipython",
    "version": 3
   },
   "file_extension": ".py",
   "mimetype": "text/x-python",
   "name": "python",
   "nbconvert_exporter": "python",
   "pygments_lexer": "ipython3",
   "version": "3.9.6"
  }
 },
 "nbformat": 4,
 "nbformat_minor": 5
}
