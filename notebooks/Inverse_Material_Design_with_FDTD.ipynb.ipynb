{
 "cells": [
  {
   "cell_type": "markdown",
   "id": "54d4c801",
   "metadata": {},
   "source": [
    "# Using NIDN with a finite-difference time-domain (FDTD) solver \n",
    "\n",
    "This notebook gives explanatory examples on how to use NIDN with FDTD simulations. For more on how FDTD simulations work, see Running_FDTD notebook or the FDTD section in the NIDN docs. "
   ]
  },
  {
   "cell_type": "markdown",
   "id": "2f4a6009",
   "metadata": {},
   "source": [
    "We start by importing the nidn, or if nidn is not installed append the root module folder to get access to nidn "
   ]
  },
  {
   "cell_type": "code",
   "execution_count": null,
   "id": "40007a5d",
   "metadata": {},
   "outputs": [],
   "source": [
    "# Append root folder in case you haven't installed NIDN\n",
    "import sys\n",
    "sys.path.append(\"../\")\n",
    "\n",
    "import nidn\n",
    "import torch\n",
    "nidn.set_log_level(\"INFO\")"
   ]
  },
  {
   "cell_type": "markdown",
   "id": "9bd3165d",
   "metadata": {},
   "source": [
    "# Inverse Design of a uniform Titanium Dioxide Layer\n",
    "\n",
    "Here, we define the target spectrum as a spectrum from a uniform TiO2 layer which we compute, and test if NIDN is able to reconstruct the permittivity of the TiO2 layer."
   ]
  },
  {
   "cell_type": "code",
   "execution_count": null,
   "id": "579aae8b",
   "metadata": {
    "scrolled": false
   },
   "outputs": [],
   "source": [
    "# Load default cfg as starting point\n",
    "\n",
    "cfg = nidn.load_default_cfg()\n",
    "\n",
    "# Specify grid setup\n",
    "cfg.Nx = 1 # Set layer size  to 1x1 (interpreted as uniform)\n",
    "cfg.Ny = 1\n",
    "cfg.N_layers = 1 # Choose number of layers\n",
    "\n",
    "# Specify your desired range of wavelengths\n",
    "cfg.physical_wavelength_range[0] = 3e-7\n",
    "cfg.physical_wavelength_range[1] = 9e-7\n",
    "cfg.PER_LAYER_THICKNESS = [0.38]\n",
    "\n",
    "# Let's investigate 16 frequency points\n",
    "cfg.N_freq = 16\n",
    "\n",
    "# use FDTD\n",
    "cfg.solver = \"FDTD\"\n",
    "\n",
    "# Some FDTD specific settings, see docs for details\n",
    "cfg.FDTD_min_gridpoints_per_unit_magnitude = 32\n",
    "cfg.FDTD_niter = int(800 *  cfg.FDTD_min_gridpoints_per_unit_magnitude / 50)\n",
    "cfg.FDTD_pulse_type = 'continuous'\n",
    "cfg.FDTD_source_type = 'line'\n",
    "\n",
    "cfg.target_frequencies = nidn.compute_target_frequencies(\n",
    "    cfg.physical_wavelength_range[0],\n",
    "    cfg.physical_wavelength_range[1],\n",
    "    cfg.N_freq,\n",
    "    cfg.freq_distribution\n",
    ")\n",
    "\n",
    "# We Compute ground truth\n",
    "eps_grid = torch.zeros(cfg.Nx,cfg.Ny,cfg.N_layers,cfg.N_freq,dtype=torch.cfloat)\n",
    "layer_builder = nidn.LayerBuilder(cfg)\n",
    "eps_grid[:,:,0,:] = layer_builder.build_uniform_layer(\"titanium_oxide\")\n",
    "# Compute spectrum for this configuration\n",
    "R,T = nidn.compute_spectrum(eps_grid,cfg)\n",
    "nidn.plot_spectrum(cfg,R,T,show_absorption=True)\n",
    "\n",
    "cfg.target_reflectance_spectrum = R\n",
    "cfg.target_transmittance_spectrum = T\n",
    "\n",
    "physical_wls, normalized_freqs = nidn.get_frequency_points(cfg)\n",
    "print(\"Physical wavelengths are (in meters):\")\n",
    "print(physical_wls)"
   ]
  },
  {
   "cell_type": "markdown",
   "id": "8f1dc640",
   "metadata": {},
   "source": [
    "## Example 1 - Uniform single-layer with restricted epsilon\n",
    "\n",
    "Let's start with a uniform single-layer and see if NIDN can get sufficiently close to the ground truth."
   ]
  },
  {
   "cell_type": "code",
   "execution_count": null,
   "id": "970b965a",
   "metadata": {},
   "outputs": [],
   "source": [
    "cfg.pop(\"model\",None); # Forget any old model\n",
    "\n",
    "# Allowed range of epsilon values\n",
    "cfg.real_min_eps = 0.0\n",
    "cfg.real_max_eps = 20.0\n",
    "cfg.imag_min_eps = 0.0\n",
    "cfg.imag_max_eps = 6.0\n",
    "\n",
    "# Choose model type, regression or classification\n",
    "cfg.type = \"regression\" "
   ]
  },
  {
   "cell_type": "code",
   "execution_count": null,
   "id": "898462e4",
   "metadata": {},
   "outputs": [],
   "source": [
    "#Show all used settings\n",
    "nidn.print_cfg(cfg)"
   ]
  },
  {
   "cell_type": "markdown",
   "id": "0f313423",
   "metadata": {},
   "source": [
    "`print_cfg(cfg)` shows you more or less everything you want to know about the config.\n",
    "Using `run_training(cfg)`, we run the network until it reaches the number of iterations set above (or until you interrupt it)."
   ]
  },
  {
   "cell_type": "code",
   "execution_count": null,
   "id": "3b8c547a",
   "metadata": {
    "scrolled": false
   },
   "outputs": [],
   "source": [
    "# Set number of training iterations (that is forward model evaluations) to perform\n",
    "# Note that this will be pretty slow for now, 200 iterations lead to a good result\n",
    "# but that requires hours\n",
    "cfg.iterations = 10  \n",
    "nidn.run_training(cfg);"
   ]
  },
  {
   "cell_type": "markdown",
   "id": "e238f525",
   "metadata": {},
   "source": [
    "### Interpretation of results\n",
    "\n",
    "#### Loss plot\n",
    "\n",
    "The loss as a function of model evaluations is presented below. As the training evolves, the three losses here, [L1](https://afteracademy.com/blog/what-are-l1-and-l2-loss-functions), Loss, and Weighted Average Loss, can be seen to decrease. For this regression case, the L1 and Loss are the same."
   ]
  },
  {
   "cell_type": "code",
   "execution_count": null,
   "id": "73799e6d",
   "metadata": {},
   "outputs": [],
   "source": [
    "nidn.plot_losses(cfg)"
   ]
  },
  {
   "cell_type": "markdown",
   "id": "d36f34ee",
   "metadata": {},
   "source": [
    "#### Spectrum plots\n",
    "\n",
    "The produced RTA spectra are plotted together with the target spectra in the figure below."
   ]
  },
  {
   "cell_type": "code",
   "execution_count": null,
   "id": "578b6bdc",
   "metadata": {},
   "outputs": [],
   "source": [
    "nidn.plot_spectra(cfg)"
   ]
  },
  {
   "cell_type": "markdown",
   "id": "93afdb24",
   "metadata": {},
   "source": [
    "#### Absolute grid values plot\n",
    "\n",
    "The complex absolute value of the epsilon over all frequencies is presented here. This plot is in general more useful for patterned multilayers."
   ]
  },
  {
   "cell_type": "code",
   "execution_count": null,
   "id": "7abcbe69",
   "metadata": {},
   "outputs": [],
   "source": [
    "nidn.plot_model_grid(cfg)"
   ]
  },
  {
   "cell_type": "markdown",
   "id": "38124f29",
   "metadata": {},
   "source": [
    "#### Epsilon vs frequency and real materials\n",
    "\n",
    "The following function plots the epsilon values vs. frequency of grid points against real materials in our library. This plot is in general more useful for patterned multilayers."
   ]
  },
  {
   "cell_type": "code",
   "execution_count": null,
   "id": "66748550",
   "metadata": {},
   "outputs": [],
   "source": [
    "nidn.plot_eps_per_point(cfg)"
   ]
  },
  {
   "cell_type": "markdown",
   "id": "6c0b0854",
   "metadata": {},
   "source": [
    "## Example 2 - Uniform single-layer with materials classification\n",
    "\n",
    "Next up is the same example, a uniform single-layer of titanium oxide, but this time we check if NIDN can predict the correct material."
   ]
  },
  {
   "cell_type": "code",
   "execution_count": null,
   "id": "09bb33f5",
   "metadata": {},
   "outputs": [],
   "source": [
    "cfg.pop(\"model\",None); # Forget the old model\n",
    "cfg.Nx = 1 # Set layer size  to 1x1 (interpreted as uniform)\n",
    "cfg.Ny = 1\n",
    "cfg.N_layers = 1 # Choose number of layers\n",
    "\n",
    "cfg.type = \"classification\" # Choose type as described above\n",
    "cfg.iterations = 20 # Set number of training iterations (that is forward model evaluations) to perform"
   ]
  },
  {
   "cell_type": "code",
   "execution_count": null,
   "id": "481b28f2",
   "metadata": {},
   "outputs": [],
   "source": [
    "nidn.run_training(cfg);"
   ]
  },
  {
   "cell_type": "code",
   "execution_count": null,
   "id": "0bc16df3",
   "metadata": {
    "scrolled": false
   },
   "outputs": [],
   "source": [
    "nidn.plot_losses(cfg)\n",
    "nidn.plot_spectra(cfg)\n",
    "nidn.plot_model_grid(cfg)\n",
    "nidn.plot_eps_per_point(cfg)"
   ]
  }
 ],
 "metadata": {
  "kernelspec": {
   "display_name": "Python 3.9.7 ('nidn')",
   "language": "python",
   "name": "python3"
  },
  "language_info": {
   "codemirror_mode": {
    "name": "ipython",
    "version": 3
   },
   "file_extension": ".py",
   "mimetype": "text/x-python",
   "name": "python",
   "nbconvert_exporter": "python",
   "pygments_lexer": "ipython3",
   "version": "3.9.7"
  },
  "vscode": {
   "interpreter": {
    "hash": "1ec5cfae9b828f8ab7e7cdcd8237afffb09b0704a5815a216abf273e6fa91aea"
   }
  }
 },
 "nbformat": 4,
 "nbformat_minor": 5
}
