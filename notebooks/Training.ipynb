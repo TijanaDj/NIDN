{
 "cells": [
  {
   "cell_type": "code",
   "execution_count": null,
   "id": "398a1de0",
   "metadata": {},
   "outputs": [],
   "source": [
    "### Imports\n",
    "%load_ext autoreload\n",
    "%autoreload 2\n",
    "\n",
    "# Append main folder\n",
    "import sys\n",
    "sys.path.append(\"../\")\n",
    "\n",
    "import nidn\n",
    "\n",
    "# Set precision (and potentially GPU)\n",
    "import torch\n",
    "torch.set_default_tensor_type(torch.DoubleTensor)\n",
    "\n",
    "# Set up some logging\n",
    "from loguru import logger\n",
    "logger.remove()\n",
    "logger.add(sys.stderr, format=\"{level} {message}\", level=\"INFO\");"
   ]
  },
  {
   "cell_type": "code",
   "execution_count": null,
   "id": "ed2b0c03",
   "metadata": {},
   "outputs": [],
   "source": [
    "cfg = nidn.load_default_cfg()\n",
    "cfg.Nx = 5\n",
    "cfg.Ny = 5\n",
    "cfg.N_layers = 2\n",
    "cfg.iterations = 50\n",
    "print(cfg)"
   ]
  },
  {
   "cell_type": "code",
   "execution_count": null,
   "id": "9775789f",
   "metadata": {},
   "outputs": [],
   "source": [
    "target_R_spectrum =  [1.0]*6+[0.0]*14\n",
    "target_T_spectrum =  [0.0]*6+[0.0]*14"
   ]
  },
  {
   "cell_type": "code",
   "execution_count": null,
   "id": "697a168d",
   "metadata": {
    "scrolled": false
   },
   "outputs": [],
   "source": [
    "model, results = nidn.run_training(cfg,target_R_spectrum,target_T_spectrum)"
   ]
  },
  {
   "cell_type": "code",
   "execution_count": null,
   "id": "46d17145",
   "metadata": {},
   "outputs": [],
   "source": [
    "nidn.plot_spectra(model,cfg,target_R_spectrum,target_T_spectrum)"
   ]
  },
  {
   "cell_type": "code",
   "execution_count": null,
   "id": "45ace898",
   "metadata": {},
   "outputs": [],
   "source": [
    "nidn.plot_model_grid_per_freq(model,cfg)"
   ]
  },
  {
   "cell_type": "code",
   "execution_count": null,
   "id": "3f505e4c",
   "metadata": {},
   "outputs": [],
   "source": [
    "nidn.plot_model_grid(model,cfg)"
   ]
  }
 ],
 "metadata": {
  "kernelspec": {
   "display_name": "Python 3 (ipykernel)",
   "language": "python",
   "name": "python3"
  },
  "language_info": {
   "codemirror_mode": {
    "name": "ipython",
    "version": 3
   },
   "file_extension": ".py",
   "mimetype": "text/x-python",
   "name": "python",
   "nbconvert_exporter": "python",
   "pygments_lexer": "ipython3",
   "version": "3.9.6"
  }
 },
 "nbformat": 4,
 "nbformat_minor": 5
}
