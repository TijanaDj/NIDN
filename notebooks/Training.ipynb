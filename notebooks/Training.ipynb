{
 "cells": [
  {
   "cell_type": "code",
   "execution_count": null,
   "id": "dd0c102f",
   "metadata": {},
   "outputs": [],
   "source": [
    "### Imports\n",
    "%load_ext autoreload\n",
    "%autoreload 2\n",
    "\n",
    "# Append main folder\n",
    "import sys\n",
    "sys.path.append(\"../\")\n",
    "\n",
    "import nidn"
   ]
  },
  {
   "cell_type": "code",
   "execution_count": null,
   "id": "c4e7ae8b",
   "metadata": {},
   "outputs": [],
   "source": [
    "cfg = nidn.load_default_cfg()"
   ]
  },
  {
   "cell_type": "code",
   "execution_count": null,
   "id": "26ccf8c2",
   "metadata": {},
   "outputs": [],
   "source": [
    "cfg.Nx = 9\n",
    "cfg.Ny = 9\n",
    "cfg.N_layers = 2\n",
    "cfg.L = 0.5\n",
    "cfg.eps_oversampling = 3\n",
    "cfg.iterations = 100\n",
    "cfg.type = \"classification\"\n",
    "nidn.print_cfg(cfg)\n",
    "physical_freqs, normalized_freqs = nidn.get_frequency_points(cfg)\n",
    "print(\"Physical frequencies are:\")\n",
    "print(physical_freqs)"
   ]
  },
  {
   "cell_type": "code",
   "execution_count": null,
   "id": "8e92c124",
   "metadata": {
    "scrolled": false
   },
   "outputs": [],
   "source": [
    "nidn.run_training(cfg)"
   ]
  },
  {
   "cell_type": "code",
   "execution_count": null,
   "id": "e36e6250",
   "metadata": {},
   "outputs": [],
   "source": [
    "nidn.plot_spectra(cfg.model,cfg)"
   ]
  },
  {
   "cell_type": "code",
   "execution_count": null,
   "id": "0e7363a7",
   "metadata": {},
   "outputs": [],
   "source": [
    "nidn.plot_model_grid_per_freq(cfg.model,cfg)"
   ]
  },
  {
   "cell_type": "code",
   "execution_count": null,
   "id": "1a628937",
   "metadata": {},
   "outputs": [],
   "source": [
    "nidn.plot_model_grid(cfg.model,cfg)"
   ]
  },
  {
   "cell_type": "code",
   "execution_count": null,
   "id": "c9188a5e",
   "metadata": {},
   "outputs": [],
   "source": [
    "nidn.plot_eps_per_point(cfg.model,cfg)"
   ]
  },
  {
   "cell_type": "code",
   "execution_count": null,
   "id": "d29d4b07",
   "metadata": {},
   "outputs": [],
   "source": [
    "nidn.plot_material_grid(model,cfg)"
   ]
  },
  {
   "cell_type": "code",
   "execution_count": null,
   "id": "222cc2c5",
   "metadata": {},
   "outputs": [],
   "source": []
  }
 ],
 "metadata": {
  "kernelspec": {
   "display_name": "Python 3 (ipykernel)",
   "language": "python",
   "name": "python3"
  },
  "language_info": {
   "codemirror_mode": {
    "name": "ipython",
    "version": 3
   },
   "file_extension": ".py",
   "mimetype": "text/x-python",
   "name": "python",
   "nbconvert_exporter": "python",
   "pygments_lexer": "ipython3",
   "version": "3.9.6"
  }
 },
 "nbformat": 4,
 "nbformat_minor": 5
}
