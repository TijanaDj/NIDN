{
 "cells": [
  {
   "cell_type": "code",
   "execution_count": null,
   "id": "dd0c102f",
   "metadata": {},
   "outputs": [],
   "source": [
    "### Imports\n",
    "%load_ext autoreload\n",
    "%autoreload 2\n",
    "\n",
    "# Append main folder\n",
    "import sys\n",
    "sys.path.append(\"../\")\n",
    "\n",
    "import nidn\n",
    "\n",
    "# Set precision (and potentially GPU)\n",
    "import torch\n",
    "torch.set_default_tensor_type(torch.DoubleTensor)\n",
    "\n",
    "# Set up some logging\n",
    "from loguru import logger\n",
    "logger.remove()\n",
    "logger.add(sys.stderr, format=\"{level} {message}\", level=\"INFO\");"
   ]
  },
  {
   "cell_type": "code",
   "execution_count": null,
   "id": "c4e7ae8b",
   "metadata": {},
   "outputs": [],
   "source": [
    "cfg = nidn.load_default_cfg()"
   ]
  },
  {
   "cell_type": "code",
   "execution_count": null,
   "id": "26ccf8c2",
   "metadata": {},
   "outputs": [],
   "source": [
    "cfg.Nx = 9\n",
    "cfg.Ny = 9\n",
    "cfg.N_layers = 3\n",
    "cfg.eps_oversampling = 3\n",
    "cfg.iterations = 100\n",
    "nidn.print_cfg(cfg)\n",
    "physical_freqs, normalized_freqs = nidn.get_frequency_points(cfg)\n",
    "print(\"Physical frequencies are:\")\n",
    "print(physical_freqs)"
   ]
  },
  {
   "cell_type": "code",
   "execution_count": null,
   "id": "dc935c7a",
   "metadata": {},
   "outputs": [],
   "source": [
    "target_R_spectrum =  [1.0]*6+[0.0]*14\n",
    "target_T_spectrum =  [0.0]*6+[0.0]*14\n",
    "model = None # initialized just to pass"
   ]
  },
  {
   "cell_type": "code",
   "execution_count": null,
   "id": "8e92c124",
   "metadata": {
    "scrolled": false
   },
   "outputs": [],
   "source": [
    "model, results = nidn.run_training(cfg,target_R_spectrum,target_T_spectrum, model=model)"
   ]
  },
  {
   "cell_type": "code",
   "execution_count": null,
   "id": "e36e6250",
   "metadata": {},
   "outputs": [],
   "source": [
    "nidn.plot_spectra(model,cfg,target_R_spectrum,target_T_spectrum)"
   ]
  },
  {
   "cell_type": "code",
   "execution_count": null,
   "id": "0e7363a7",
   "metadata": {},
   "outputs": [],
   "source": [
    "nidn.plot_model_grid_per_freq(model,cfg)"
   ]
  },
  {
   "cell_type": "code",
   "execution_count": null,
   "id": "1a628937",
   "metadata": {},
   "outputs": [],
   "source": [
    "nidn.plot_model_grid(model,cfg)"
   ]
  },
  {
   "cell_type": "code",
   "execution_count": null,
   "id": "c9188a5e",
   "metadata": {},
   "outputs": [],
   "source": []
  }
 ],
 "metadata": {
  "kernelspec": {
   "display_name": "Python 3 (ipykernel)",
   "language": "python",
   "name": "python3"
  },
  "language_info": {
   "codemirror_mode": {
    "name": "ipython",
    "version": 3
   },
   "file_extension": ".py",
   "mimetype": "text/x-python",
   "name": "python",
   "nbconvert_exporter": "python",
   "pygments_lexer": "ipython3",
   "version": "3.9.6"
  }
 },
 "nbformat": 4,
 "nbformat_minor": 5
}
