{
 "cells": [
  {
   "cell_type": "markdown",
   "id": "93c66efa",
   "metadata": {},
   "source": [
    "# Using FDTD for optical simulations\n",
    "\n",
    "Finite Differences Time-Domain (FDTD) is a numerical simulation technique for electromagnetic field-propagation. A Yee grid is used, where the magnetic field value in each direction is half a grid point away from the electromagnetic field points. This makes the curl-calculations easy to calculate for both the magnetic field and electric field at each grid point. The electric and magnetic field values of the grid is sequentially updated by the use of Maxwell's equations for each time step in the simulation. "
   ]
  },
  {
   "cell_type": "markdown",
   "id": "11cb54bb",
   "metadata": {},
   "source": [
    "To be able to use different materials in FDTD, each grid point has a correlated permittivity value and a conductivity value. The permittivity is the real part of the complex permittivity, while the conductivity is calculated by the imaginary part of the complex permittivity, multiplied with the free space permittivity and the angular frequency of the electromagnetic wave. "
   ]
  },
  {
   "cell_type": "code",
   "execution_count": null,
   "id": "58f11ef5",
   "metadata": {},
   "outputs": [],
   "source": [
    "# Append main folder\n",
    "import sys\n",
    "sys.path.append(\"..\")\n",
    "\n",
    "import nidn\n",
    "import torch"
   ]
  },
  {
   "cell_type": "markdown",
   "id": "e3b0946e",
   "metadata": {},
   "source": [
    "## Single layer TiO2"
   ]
  },
  {
   "cell_type": "markdown",
   "id": "a267a22a",
   "metadata": {},
   "source": [
    "Configuring the simulation"
   ]
  },
  {
   "cell_type": "code",
   "execution_count": null,
   "id": "15dbc61e",
   "metadata": {},
   "outputs": [],
   "source": [
    "cfg = nidn.load_default_cfg()\n",
    "# Set the number of frequencies to simulate for\n",
    "cfg.N_freq = 12\n",
    "#Number of layers with materials\n",
    "cfg.N_layers = 1\n",
    "# Define the thickness of each layer\n",
    "cfg.PER_LAYER_THICKNESS=[1.0]\n",
    "#Smallest wavelength\n",
    "cfg.physical_wavelength_range[0]=3e-7\n",
    "#Largest wavelength\n",
    "cfg.physical_wavelength_range[1]=1e-6\n",
    "# Choose FDTD method, TRCWA other option\n",
    "cfg.solver = \"FDTD\"\n",
    "# Set number of time steps in FDTD\n",
    "cfg.FDTD_niter = 600\n",
    "# Choose pulse type (continuous, hanning or ricker)\n",
    "cfg.FDTD_pulse_type = 'continuous'\n",
    "# Choose source type (line or point)\n",
    "cfg.FDTD_source_type = 'line'\n"
   ]
  },
  {
   "cell_type": "markdown",
   "id": "02263062",
   "metadata": {},
   "source": [
    "### Specifiyng the materials\n",
    "\n",
    "If no material is specified, the grid is assumed to be pure vacuum. By using experimental data, the material properties are calculated for each frequency used in the simulation, by the LayerBuilder"
   ]
  },
  {
   "cell_type": "code",
   "execution_count": null,
   "id": "efc2736c",
   "metadata": {},
   "outputs": [],
   "source": [
    "# Convert wavelengths to normalized frequencies used by the layer builder\n",
    "cfg.target_frequencies = nidn.compute_target_frequencies(\n",
    "    cfg.physical_wavelength_range[0],\n",
    "    cfg.physical_wavelength_range[1],\n",
    "    cfg.N_freq,\n",
    "    cfg.freq_distribution,\n",
    ")\n",
    "# Init layer builder\n",
    "layer_builder = nidn.LayerBuilder(cfg)\n",
    "#init epsilon values\n",
    "eps_grid = torch.zeros(1, 1, cfg.N_layers, cfg.N_freq, dtype=torch.cfloat)\n",
    "# Set layer to be titanium oxide\n",
    "eps_grid[:, :, 0, :] = layer_builder.build_uniform_layer(\"titanium_oxide\")\n"
   ]
  },
  {
   "cell_type": "code",
   "execution_count": null,
   "id": "0e34694f",
   "metadata": {
    "scrolled": false
   },
   "outputs": [],
   "source": [
    "# Compute spectrum for this configuration\n",
    "R,T = nidn.compute_spectrum(eps_grid,cfg)"
   ]
  },
  {
   "cell_type": "code",
   "execution_count": null,
   "id": "f14780d9",
   "metadata": {},
   "outputs": [],
   "source": [
    "#Plot the spectrum\n",
    "nidn.plot_spectrum(cfg,R,T)"
   ]
  },
  {
   "cell_type": "markdown",
   "id": "e8cf7428",
   "metadata": {},
   "source": [
    "## Multiple layers"
   ]
  },
  {
   "cell_type": "code",
   "execution_count": null,
   "id": "30e8fc78",
   "metadata": {},
   "outputs": [],
   "source": [
    "cfg = nidn.load_default_cfg()\n",
    "# Set the number of frequencies to simulate for\n",
    "cfg.N_freq = 12\n",
    "#Number of layers with materials\n",
    "cfg.N_layers = 3\n",
    "# Define the thickness of each layer, in default units\n",
    "cfg.PER_LAYER_THICKNESS=[1.0, 1.0, 1.0]\n",
    "#Smallest wavelength\n",
    "cfg.physical_wavelength_range[0]=3e-7\n",
    "#Largest wavelength\n",
    "cfg.physical_wavelength_range[1]=15e-7\n",
    "# Set number of time steps in FDTD\n",
    "cfg.FDTD_niter = 2400\n",
    "# Choose pulse type\n",
    "cfg.FDTD_pulse_type = 'continuous'"
   ]
  },
  {
   "cell_type": "code",
   "execution_count": null,
   "id": "db77f2b1",
   "metadata": {},
   "outputs": [],
   "source": [
    "\n",
    "#init epsilon values\n",
    "eps_grid = torch.zeros(1, 1, cfg.N_layers, cfg.N_freq, dtype=torch.cfloat)\n",
    "#Convert wavelengths to normalized frequencies used by the layer builder\n",
    "cfg.target_frequencies = nidn.compute_target_frequencies(\n",
    "    cfg.physical_wavelength_range[0],\n",
    "    cfg.physical_wavelength_range[1],\n",
    "    cfg.N_freq,\n",
    "    cfg.freq_distribution,\n",
    ")\n",
    "# Choose FDTD method, TRCWA other option\n",
    "cfg.solver = \"FDTD\"\n",
    "# Init layer builder\n",
    "layer_builder = nidn.LayerBuilder(cfg)\n",
    "# Set the three layers to the desired material\n",
    "eps_grid[:, :, 0, :] = layer_builder.build_uniform_layer(\"titanium_oxide\")\n",
    "eps_grid[:, :, 1, :] = layer_builder.build_uniform_layer(\"gallium_arsenide\")\n",
    "eps_grid[:, :, 2, :] = layer_builder.build_uniform_layer(\"silicon_nitride\")"
   ]
  },
  {
   "cell_type": "code",
   "execution_count": null,
   "id": "fe10dd44",
   "metadata": {},
   "outputs": [],
   "source": [
    "# Compute spectrum for this configuration\n",
    "R,T = nidn.compute_spectrum(eps_grid,cfg)"
   ]
  },
  {
   "cell_type": "code",
   "execution_count": null,
   "id": "6b29c887",
   "metadata": {},
   "outputs": [],
   "source": [
    "#Plot the spectrum\n",
    "nidn.plot_spectrum(cfg,R,T)"
   ]
  }
 ],
 "metadata": {
  "kernelspec": {
   "display_name": "Python 3.9.7 ('nidn')",
   "language": "python",
   "name": "python3"
  },
  "language_info": {
   "codemirror_mode": {
    "name": "ipython",
    "version": 3
   },
   "file_extension": ".py",
   "mimetype": "text/x-python",
   "name": "python",
   "nbconvert_exporter": "python",
   "pygments_lexer": "ipython3",
   "version": "3.9.7"
  },
  "vscode": {
   "interpreter": {
    "hash": "1ec5cfae9b828f8ab7e7cdcd8237afffb09b0704a5815a216abf273e6fa91aea"
   }
  }
 },
 "nbformat": 4,
 "nbformat_minor": 5
}
