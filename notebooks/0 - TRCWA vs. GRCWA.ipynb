{
 "cells": [
  {
   "cell_type": "markdown",
   "id": "93c66efa",
   "metadata": {},
   "source": [
    "## TRCWA\n",
    "\n",
    "TODO explain what this is and where it comes from"
   ]
  },
  {
   "cell_type": "code",
   "execution_count": null,
   "id": "58f11ef5",
   "metadata": {},
   "outputs": [],
   "source": [
    "### Imports\n",
    "%load_ext autoreload\n",
    "%autoreload 2\n",
    "\n",
    "# Append main folder\n",
    "import sys\n",
    "sys.path.append(\"..\")\n",
    "\n",
    "import nidn\n",
    "import grcwa\n",
    "import torch\n",
    "import numpy as npf\n",
    "import autograd.numpy as np\n",
    "from autograd import grad"
   ]
  },
  {
   "cell_type": "code",
   "execution_count": null,
   "id": "d9aa62c8",
   "metadata": {},
   "outputs": [],
   "source": [
    "# Start with the default config\n",
    "cfg = nidn.load_default_cfg()"
   ]
  },
  {
   "cell_type": "markdown",
   "id": "4d1176e5",
   "metadata": {},
   "source": [
    "## Three Layer Uniform\n",
    "\n",
    "### TRCWA"
   ]
  },
  {
   "cell_type": "code",
   "execution_count": null,
   "id": "3c58fd4b",
   "metadata": {
    "scrolled": false
   },
   "outputs": [],
   "source": [
    "# Titanium Oxide Uniform\n",
    "# Set grid specifics\n",
    "cfg.Nx = 15\n",
    "cfg.Ny = 15\n",
    "cfg.N_layers = 3\n",
    "cfg.N_freq = 500\n",
    "cfg.TRCWA_L_grid = [[0.1,0.0],[0.0,0.1]]\n",
    "cfg.TRCWA_NG = 11\n",
    "cfg.TRCWA_PER_LAYER_THICKNESS = [1.0]\n",
    "cfg.freq_distribution = \"log\"\n",
    "\n",
    "# Specify your desired range of wavelengths\n",
    "cfg.physical_wavelength_range[0] = 1e-6\n",
    "cfg.physical_wavelength_range[1] = 5e-5\n",
    "\n",
    "# Determine target frequencies (in TRCWA units)\n",
    "cfg.target_frequencies = nidn.compute_target_frequencies(\n",
    "    cfg.physical_wavelength_range[0],\n",
    "    cfg.physical_wavelength_range[1],\n",
    "    cfg.N_freq,\n",
    "    cfg.freq_distribution\n",
    ")\n",
    "\n",
    "# Print run config\n",
    "# nidn.print_cfg(cfg)\n",
    "\n",
    "# Init eps_grid\n",
    "eps_grid = torch.zeros(cfg.Nx,cfg.Ny,cfg.N_layers,cfg.N_freq,dtype=torch.cfloat)\n",
    "\n",
    "layer_builder = nidn.LayerBuilder(cfg)\n",
    "\n",
    "# Uniform Titanium oxide\n",
    "eps_grid[:,:,0,:] = layer_builder.build_uniform_layer(\"titanium_oxide\")\n",
    "eps_grid[:,:,1,:] = layer_builder.build_uniform_layer(\"tantalum_pentoxide\")\n",
    "eps_grid[:,:,2,:] = layer_builder.build_uniform_layer(\"zirconium\")\n",
    "# eps_grid[:,:,0,:] = layer_builder.build_circle_layer(\"tantalum_pentoxide\",\"titanium_oxide\")\n",
    "\n",
    "nidn.plot_material_grid(cfg,eps=eps_grid,save_path=\"../results/\")\n",
    "\n",
    "# Compute spectrum for this configuration\n",
    "# R_nidn,T_nidn = nidn.compute_spectrum(eps_grid,cfg)\n",
    "\n",
    "nidn.plot_spectrum(cfg,R_nidn,T_nidn)"
   ]
  },
  {
   "cell_type": "markdown",
   "id": "9de77f97",
   "metadata": {},
   "source": [
    "### GRCWA"
   ]
  },
  {
   "cell_type": "code",
   "execution_count": null,
   "id": "e41ebced",
   "metadata": {},
   "outputs": [],
   "source": [
    "# Truncation order (actual number might be smaller)\n",
    "nG = 11\n",
    "# lattice constants\n",
    "L1 = [0.1,0]\n",
    "L2 = [0,0.1]\n",
    "# frequency and angles\n",
    "\n",
    "theta = 0.\n",
    "phi = 0.\n",
    "\n",
    "# now consider 3 layers: vacuum + patterned + vacuum\n",
    "ep0 = 1. # dielectric for layer 1 (uniform)\n",
    "epN = 1.  # dielectric for layer N (uniform)\n",
    "\n",
    "thick0 = 1. # thickness for vacuum layer 1\n",
    "thickN = 1.\n",
    "\n",
    "# planewave excitation\n",
    "planewave={'p_amp':0,'s_amp':1,'p_phase':0,'s_phase':0}\n",
    "\n",
    "\n",
    "def fun_reflection(x,Qabs,freq):\n",
    "    freqcmp = freq*(1+1j/2/Qabs)\n",
    "    ######### setting up RCWA\n",
    "    obj = grcwa.obj(nG,L1,L2,freqcmp,theta,phi,verbose=0)\n",
    "    # input layer information\n",
    "    obj.Add_LayerUniform(thick0,ep0)\n",
    "    obj.Add_LayerUniform(thick0,x[:,:,0][0])\n",
    "    obj.Add_LayerUniform(thick0,x[:,:,1][0])\n",
    "    obj.Add_LayerUniform(thick0,x[:,:,2][0])\n",
    "    obj.Add_LayerUniform(thickN,epN)\n",
    "    obj.Init_Setup()\n",
    "\n",
    "    obj.MakeExcitationPlanewave(planewave['p_amp'],planewave['p_phase'],planewave['s_amp'],planewave['s_phase'],order = 0)    \n",
    "#     x = np.concatenate((x[:,:,0].flatten(),x[:,:,1].flatten(),x[:,:,2].flatten()))\n",
    "#     obj.GridLayer_geteps(x)\n",
    "    R,T= obj.RT_Solve(normalize=1)\n",
    "    return R,T\n",
    "\n",
    "Rs,Ts = [],[]\n",
    "\n",
    "\n",
    "for idx,freq in enumerate(cfg.target_frequencies):\n",
    "    R,T = fun_reflection(eps_grid[:,:,:,idx].numpy(),1e16,freq)\n",
    "    Rs.append(R)\n",
    "    Ts.append(T)\n",
    "    \n",
    "nidn.plot_spectrum(cfg,Rs,Ts)"
   ]
  },
  {
   "cell_type": "code",
   "execution_count": null,
   "id": "6e630a64",
   "metadata": {},
   "outputs": [],
   "source": [
    "cfg.target_reflectance_spectrum = Rs\n",
    "cfg.target_transmittance_spectrum = Ts\n",
    "nidn.plot_spectra(cfg,prod_R_spectrum=R_nidn,prod_T_spectrum=T_nidn,save_path=\"../results/\",filename=\"trcwa_vs_grcwa_uniform\")"
   ]
  },
  {
   "cell_type": "markdown",
   "id": "4be8800d",
   "metadata": {},
   "source": [
    "## Two Layer Patterned"
   ]
  },
  {
   "cell_type": "code",
   "execution_count": null,
   "id": "15dbc61e",
   "metadata": {},
   "outputs": [],
   "source": [
    "# Titanium Oxide Uniform\n",
    "# Set grid specifics\n",
    "cfg.Nx = 15\n",
    "cfg.Ny = 15\n",
    "cfg.N_layers = 2\n",
    "cfg.N_freq = 500\n",
    "cfg.TRCWA_L_grid = [[0.1,0.0],[0.0,0.1]]\n",
    "cfg.TRCWA_NG = 11\n",
    "cfg.TRCWA_PER_LAYER_THICKNESS = [1.0]\n",
    "cfg.freq_distribution = \"log\"\n",
    "\n",
    "# Specify your desired range of wavelengths\n",
    "cfg.physical_wavelength_range[0] = 1e-6\n",
    "cfg.physical_wavelength_range[1] = 1e-5\n",
    "\n",
    "# Determine target frequencies (in TRCWA units)\n",
    "cfg.target_frequencies = nidn.compute_target_frequencies(\n",
    "    cfg.physical_wavelength_range[0],\n",
    "    cfg.physical_wavelength_range[1],\n",
    "    cfg.N_freq,\n",
    "    cfg.freq_distribution\n",
    ")\n",
    "\n",
    "\n",
    "# Init eps_grid\n",
    "eps_grid = torch.zeros(cfg.Nx,cfg.Ny,cfg.N_layers,cfg.N_freq,dtype=torch.cfloat)\n",
    "\n",
    "layer_builder = nidn.LayerBuilder(cfg)\n",
    "\n",
    "# Uniform Titanium oxide\n",
    "eps_grid[:,:,0,:] = layer_builder.build_circle_layer(\"tantalum_pentoxide\",\"titanium_oxide\")\n",
    "eps_grid[:,:,1,:] = layer_builder.build_squared_layer(\"tantalum_pentoxide\",\"zinc_oxide\")\n",
    "\n",
    "# Plot the abs values of the produced grid\n",
    "nidn.plot_epsilon_grid(eps_grid,cfg)\n",
    "nidn.plot_material_grid(cfg,eps=eps_grid,save_path=\"../results/\")\n",
    "\n",
    "# Compute spectrum for this configuration\n",
    "R_nidn,T_nidn = nidn.compute_spectrum(eps_grid,cfg)\n",
    "\n",
    "nidn.plot_spectrum(cfg,R_nidn,T_nidn)"
   ]
  },
  {
   "cell_type": "markdown",
   "id": "452bc228",
   "metadata": {},
   "source": [
    "### GRCWA"
   ]
  },
  {
   "cell_type": "code",
   "execution_count": null,
   "id": "dea2d797",
   "metadata": {},
   "outputs": [],
   "source": [
    "def fun_reflection(x,Qabs,freq):\n",
    "    freqcmp = freq*(1+1j/2/Qabs)\n",
    "    ######### setting up RCWA\n",
    "    obj = grcwa.obj(nG,L1,L2,freqcmp,theta,phi,verbose=0)\n",
    "    # input layer information\n",
    "    obj.Add_LayerUniform(thick0,ep0)\n",
    "    obj.Add_LayerGrid(thick0,cfg.Nx,cfg.Ny)\n",
    "    obj.Add_LayerGrid(thick0,cfg.Nx,cfg.Ny)\n",
    "    obj.Add_LayerUniform(thickN,epN)\n",
    "    obj.Init_Setup()\n",
    "\n",
    "    obj.MakeExcitationPlanewave(planewave['p_amp'],planewave['p_phase'],planewave['s_amp'],planewave['s_phase'],order = 0)    \n",
    "    x = np.concatenate((x[:,:,0].flatten(),x[:,:,1].flatten()))\n",
    "    obj.GridLayer_geteps(x)\n",
    "    R,T= obj.RT_Solve(normalize=1)\n",
    "    return R,T\n",
    "\n",
    "Rs,Ts = [],[]\n",
    "\n",
    "\n",
    "for idx,freq in enumerate(cfg.target_frequencies):\n",
    "    R,T = fun_reflection(eps_grid[:,:,:,idx].numpy(),1e16,freq)\n",
    "    Rs.append(R)\n",
    "    Ts.append(T)\n",
    "    \n",
    "nidn.plot_spectrum(cfg,Rs,Ts)"
   ]
  },
  {
   "cell_type": "code",
   "execution_count": null,
   "id": "24209303",
   "metadata": {},
   "outputs": [],
   "source": [
    "cfg.target_reflectance_spectrum = Rs\n",
    "cfg.target_transmittance_spectrum = Ts\n",
    "nidn.plot_spectra(cfg,prod_R_spectrum=R_nidn,prod_T_spectrum=T_nidn,save_path=\"../results/\",filename=\"trcwa_vs_grcwa_grid\")"
   ]
  }
 ],
 "metadata": {
  "kernelspec": {
   "display_name": "Python 3 (ipykernel)",
   "language": "python",
   "name": "python3"
  },
  "language_info": {
   "codemirror_mode": {
    "name": "ipython",
    "version": 3
   },
   "file_extension": ".py",
   "mimetype": "text/x-python",
   "name": "python",
   "nbconvert_exporter": "python",
   "pygments_lexer": "ipython3",
   "version": "3.9.6"
  }
 },
 "nbformat": 4,
 "nbformat_minor": 5
}
