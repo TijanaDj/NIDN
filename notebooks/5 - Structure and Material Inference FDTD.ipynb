{
 "cells": [
  {
   "cell_type": "code",
   "execution_count": null,
   "id": "e5c11861",
   "metadata": {},
   "outputs": [],
   "source": [
    "# Append root folder in case you haven't installed NIDN\n",
    "import sys\n",
    "sys.path.append(\"../\")\n",
    "\n",
    "import nidn"
   ]
  },
  {
   "cell_type": "markdown",
   "id": "9afe0a85",
   "metadata": {},
   "source": [
    "# Single layer , uniform, regression"
   ]
  },
  {
   "cell_type": "code",
   "execution_count": null,
   "id": "579aae8b",
   "metadata": {
    "scrolled": false
   },
   "outputs": [],
   "source": [
    "# Load default cfg as starting point\n",
    "cfg = nidn.load_default_cfg()\n",
    "\n",
    "# Specify your desired range of wavelengths\n",
    "cfg.physical_wavelength_range[0] = 3e-7\n",
    "cfg.physical_wavelength_range[1] = 9e-7\n",
    "cfg.TRCWA_PER_LAYER_THICKNESS = [0.38]\n",
    "\n",
    "# Let's investigate 50 frequency points\n",
    "cfg.N_freq = 20\n",
    "cfg.solver = \"FDTD\"\n",
    "cfg.FDTD_niter = 400\n",
    "cfg.N_layers = 1\n",
    "cfg.FDTD_pulse_type = 'continuous'\n",
    "cfg.FDTD_source_type = 'line'\n",
    "\n",
    "# Currently, the target spectra is set manually as a list of numbers \n",
    "cfg.target_reflectance_spectrum = [0.04456351,0.28328905,0.45250883,0.34657576,0.04740237,0.34852490,0.47670861,0.30220670,0.26120020,0.53949559,0.30762644,0.30512395,0.52884576,0.46949997,0.32203643,0.46334506,0.55127182,0.65766650,0.63170587,0.64911847,]\n",
    "cfg.target_transmittance_spectrum =[0.87536937,0.68090010,0.53769196,0.63237215,0.86072526,0.61871883,0.50285459,0.64983030,0.66815533,0.43865581,0.61020793,0.59131226,0.41434850,0.39104167,0.24624941,0.04440032,0.00035235,0.00000520,0.00000060,0.00000019,]\n",
    "\n",
    "nidn.plot_spectrum(cfg,\n",
    "                   cfg.target_reflectance_spectrum,\n",
    "                   cfg.target_transmittance_spectrum)\n",
    "\n",
    "physical_wls, normalized_freqs = nidn.get_frequency_points(cfg)\n",
    "print(\"Physical wavelengths are (in meters):\")\n",
    "print(physical_wls)"
   ]
  },
  {
   "cell_type": "code",
   "execution_count": null,
   "id": "970b965a",
   "metadata": {},
   "outputs": [],
   "source": [
    "cfg.pop(\"model\",None); # Forget the old model\n",
    "\n",
    "# Allowed range of epsilon values\n",
    "cfg.real_min_eps = 0.00\n",
    "cfg.real_max_eps = 20.0\n",
    "cfg.imag_min_eps = 0.0\n",
    "cfg.imag_max_eps = 6.0\n",
    "\n",
    "cfg.type = \"regression\" # Choose type as described above\n",
    "cfg.iterations = 100 # Set number of training iterations (that is forward model evaluations) to perform"
   ]
  },
  {
   "cell_type": "code",
   "execution_count": null,
   "id": "367463dd",
   "metadata": {},
   "outputs": [],
   "source": [
    "nidn.print_cfg(cfg)"
   ]
  },
  {
   "cell_type": "code",
   "execution_count": null,
   "id": "3b8c547a",
   "metadata": {
    "scrolled": true
   },
   "outputs": [],
   "source": [
    "nidn.run_training(cfg);"
   ]
  },
  {
   "cell_type": "code",
   "execution_count": null,
   "id": "578b6bdc",
   "metadata": {},
   "outputs": [],
   "source": [
    "nidn.plot_spectra(cfg)"
   ]
  },
  {
   "cell_type": "code",
   "execution_count": null,
   "id": "66748550",
   "metadata": {},
   "outputs": [],
   "source": [
    "nidn.plot_eps_per_point(cfg,compare_to_material=\"titanium_oxide\")"
   ]
  },
  {
   "cell_type": "markdown",
   "id": "6c0b0854",
   "metadata": {},
   "source": [
    "# Single layer , uniform, classification"
   ]
  },
  {
   "cell_type": "code",
   "execution_count": null,
   "id": "09bb33f5",
   "metadata": {},
   "outputs": [],
   "source": [
    "cfg.pop(\"model\",None); # Forget the old model\n",
    "\n",
    "# Allowed range of epsilon values\n",
    "cfg.real_min_eps = 0.0\n",
    "cfg.real_max_eps = 20.0\n",
    "cfg.imag_min_eps = 0.0\n",
    "cfg.imag_max_eps = 6.0\n",
    "\n",
    "cfg.type = \"classification\" # Choose type as described above\n",
    "cfg.iterations = 100 # Set number of training iterations (that is forward model evaluations) to perform"
   ]
  },
  {
   "cell_type": "code",
   "execution_count": null,
   "id": "481b28f2",
   "metadata": {
    "scrolled": true
   },
   "outputs": [],
   "source": [
    "nidn.run_training(cfg);"
   ]
  },
  {
   "cell_type": "code",
   "execution_count": null,
   "id": "0bc16df3",
   "metadata": {
    "scrolled": false
   },
   "outputs": [],
   "source": [
    "nidn.plot_spectra(cfg)\n",
    "nidn.plot_eps_per_point(cfg)"
   ]
  },
  {
   "cell_type": "markdown",
   "id": "f2b7bf18",
   "metadata": {},
   "source": [
    "## Uniform Three-Layer Ground Truth "
   ]
  },
  {
   "cell_type": "code",
   "execution_count": null,
   "id": "b601e1b4",
   "metadata": {},
   "outputs": [],
   "source": [
    "# Load default cfg as starting point\n",
    "cfg = nidn.load_default_cfg()\n",
    "\n",
    "# Set grid specifics\n",
    "cfg.Nx = 1\n",
    "cfg.Ny = 1\n",
    "cfg.N_layers = 3\n",
    "cfg.N_freq = 20\n",
    "cfg.PER_LAYER_THICKNESS = [1.0]\n",
    "cfg.FDTD_pulse_type = 'continuous'\n",
    "cfg.FDTD_source_type = 'line'\n",
    "\n",
    "# Specify your desired range of wavelengths\n",
    "cfg.physical_wavelength_range[0] = 6e-7 \n",
    "cfg.physical_wavelength_range[1] = 3e-6\n",
    "\n",
    "cfg.target_reflectance_spectrum =[0.14366185,0.27504679,0.17564494,0.20414668,0.40380960,0.30072133,0.26199707,0.38340070,0.36834200,0.23065582,0.55063775,0.15905333,0.63662124,0.08958707,0.64845886,0.13649373,0.70790738,0.71218611,0.68279302,0.58548506,]\n",
    "cfg.target_transmittance_spectrum =[0.79465473,0.64171370,0.60055604,0.62438044,0.52177391,0.56217832,0.53327435,0.41774403,0.48310163,0.17431544,0.00010415,0.00000067,0.00000009,0.00000003,0.00000001,0.00000000,0.00000000,0.00000000,0.00000000,0.00000000,]\n",
    "\n",
    "cfg.FDTD_niter = 800\n",
    "cfg.solver =\"FDTD\"\n",
    "\n",
    "nidn.plot_spectrum(cfg,\n",
    "                   cfg.target_reflectance_spectrum,\n",
    "                   cfg.target_transmittance_spectrum)"
   ]
  },
  {
   "cell_type": "code",
   "execution_count": null,
   "id": "579f8ada",
   "metadata": {},
   "outputs": [],
   "source": [
    "# Allowed range of epsilon values\n",
    "cfg.pop(\"model\",None); # Forget the old model\n",
    "cfg.real_min_eps = 0.0\n",
    "cfg.real_max_eps = 20.0\n",
    "cfg.imag_min_eps = 0.0\n",
    "cfg.imag_max_eps = 10.0\n",
    "\n",
    "cfg.type = \"regression\" # Choose type as described above (for now still regression)\n",
    "cfg.iterations = 100 # Set number of training iterations (that is forward model evaluations) to perform"
   ]
  },
  {
   "cell_type": "code",
   "execution_count": null,
   "id": "7a834af6",
   "metadata": {
    "scrolled": false
   },
   "outputs": [],
   "source": [
    "nidn.run_training(cfg);"
   ]
  },
  {
   "cell_type": "code",
   "execution_count": null,
   "id": "a647a1ae",
   "metadata": {
    "scrolled": false
   },
   "outputs": [],
   "source": [
    "# The other plots\n",
    "nidn.plot_spectra(cfg)\n",
    "nidn.plot_eps_per_point(cfg,compare_to_material=[\"titanium_oxide\",\"germanium\",\"tantalum_pentoxide\"])"
   ]
  },
  {
   "cell_type": "code",
   "execution_count": null,
   "id": "3e086e94",
   "metadata": {},
   "outputs": [],
   "source": [
    "# Allowed range of epsilon values\n",
    "cfg.pop(\"model\",None); # Forget the old model\n",
    "\n",
    "cfg.type = \"classification\" # Choose type as described above (for now still regression)\n",
    "cfg.iterations = 100 # Set number of training iterations (that is forward model evaluations) to perform"
   ]
  },
  {
   "cell_type": "code",
   "execution_count": null,
   "id": "0eddee6e",
   "metadata": {},
   "outputs": [],
   "source": [
    "nidn.run_training(cfg);"
   ]
  },
  {
   "cell_type": "code",
   "execution_count": null,
   "id": "68cbb987",
   "metadata": {
    "scrolled": false
   },
   "outputs": [],
   "source": [
    "# The other plots\n",
    "nidn.plot_spectra(cfg)\n",
    "nidn.plot_eps_per_point(cfg,compare_to_material=[\"titanium_oxide\",\"germanium\",\"tantalum_pentoxide\"])"
   ]
  }
 ],
 "metadata": {
  "kernelspec": {
   "display_name": "Python 3 (ipykernel)",
   "language": "python",
   "name": "python3"
  },
  "language_info": {
   "codemirror_mode": {
    "name": "ipython",
    "version": 3
   },
   "file_extension": ".py",
   "mimetype": "text/x-python",
   "name": "python",
   "nbconvert_exporter": "python",
   "pygments_lexer": "ipython3",
   "version": "3.9.10"
  }
 },
 "nbformat": 4,
 "nbformat_minor": 5
}
