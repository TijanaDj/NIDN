{
 "cells": [
  {
   "cell_type": "code",
   "execution_count": null,
   "id": "e5c11861",
   "metadata": {},
   "outputs": [],
   "source": [
    "# Append root folder in case you haven't installed NIDN\n",
    "import sys\n",
    "sys.path.append(\"../\")\n",
    "\n",
    "import nidn"
   ]
  },
  {
   "cell_type": "markdown",
   "id": "9afe0a85",
   "metadata": {},
   "source": [
    "# Single layer , uniform, regression"
   ]
  },
  {
   "cell_type": "code",
   "execution_count": null,
   "id": "579aae8b",
   "metadata": {
    "scrolled": false
   },
   "outputs": [],
   "source": [
    "# Load default cfg as starting point\n",
    "cfg = nidn.load_default_cfg()\n",
    "\n",
    "# Specify your desired range of wavelengths\n",
    "cfg.physical_wavelength_range[0] = 3e-7\n",
    "cfg.physical_wavelength_range[1] = 9e-7\n",
    "cfg.TRCWA_PER_LAYER_THICKNESS = [0.38]\n",
    "\n",
    "# Let's investigate 50 frequency points\n",
    "cfg.N_freq = 50\n",
    "cfg.solver = \"FDTD\"\n",
    "cfg.FDTD_niter = 400\n",
    "cfg.N_layers = 1\n",
    "cfg.FDTD_pulse_type = 'continuous'\n",
    "cfg.FDTD_source_type = 'line'\n",
    "\n",
    "# Currently, the target spectra is set manually as a list of numbers \n",
    "cfg.target_reflectance_spectrum = [0.04456351,0.12983103,0.20803709,0.34838794,0.40374041,0.43852469,0.42395525,0.35184451,0.23594347,0.09928435,0.04685543,0.05025798,0.16480385,0.34852490,0.47360640,0.48079059,0.47393927,0.32548627,0.30220670,0.06996665,0.06193323,0.28238744,0.32690241,0.53719555,0.54476352,0.35588386,0.29008964,0.18691291,0.27902207,0.35943538,0.57196896,0.52884206,0.44624134,0.36921438,0.51291333,0.59620698,0.26694859,0.44032823,0.49345384,0.45239907,0.51884675,0.54193479,0.56739480,0.57878280,0.65530901,0.64809091,0.63580893,0.62772046,0.66017392,0.64911847,]\n",
    "cfg.target_transmittance_spectrum = [0.87536937,0.81306321,0.74871316,0.62422039,0.57356001,0.53846150,0.56318135,0.62822533,0.72190201,0.82619426,0.85741193,0.85703549,0.76844363,0.61871883,0.51589117,0.50911674,0.50488436,0.63344725,0.64983030,0.81641020,0.81593769,0.65369392,0.61752693,0.44001045,0.43281800,0.57915879,0.62005311,0.67163461,0.60661098,0.55207187,0.38364619,0.41434421,0.46167013,0.46081770,0.35550359,0.27089712,0.29259524,0.16057913,0.07927199,0.03085298,0.00631297,0.00077767,0.00006669,0.00001933,0.00000349,0.00000169,0.00000075,0.00000048,0.00000030,0.00000019,]\n",
    "\n",
    "nidn.plot_spectrum(cfg,\n",
    "                   cfg.target_reflectance_spectrum,\n",
    "                   cfg.target_transmittance_spectrum)\n",
    "\n",
    "physical_wls, normalized_freqs = nidn.get_frequency_points(cfg)\n",
    "print(\"Physical wavelengths are (in meters):\")\n",
    "print(physical_wls)"
   ]
  },
  {
   "cell_type": "code",
   "execution_count": null,
   "id": "970b965a",
   "metadata": {},
   "outputs": [],
   "source": [
    "cfg.pop(\"model\",None); # Forget the old model\n",
    "\n",
    "# Allowed range of epsilon values\n",
    "cfg.real_min_eps = 0.01\n",
    "cfg.real_max_eps = 20.0\n",
    "cfg.imag_min_eps = 0.0\n",
    "cfg.imag_max_eps = 6.0\n",
    "\n",
    "cfg.type = \"regression\" # Choose type as described above\n",
    "cfg.iterations = 3000 # Set number of training iterations (that is forward model evaluations) to perform"
   ]
  },
  {
   "cell_type": "code",
   "execution_count": null,
   "id": "367463dd",
   "metadata": {},
   "outputs": [],
   "source": [
    "nidn.print_cfg(cfg)"
   ]
  },
  {
   "cell_type": "code",
   "execution_count": null,
   "id": "3b8c547a",
   "metadata": {
    "scrolled": true
   },
   "outputs": [],
   "source": [
    "nidn.run_training(cfg);"
   ]
  },
  {
   "cell_type": "code",
   "execution_count": null,
   "id": "578b6bdc",
   "metadata": {},
   "outputs": [],
   "source": [
    "nidn.plot_spectra(cfg)"
   ]
  },
  {
   "cell_type": "code",
   "execution_count": null,
   "id": "66748550",
   "metadata": {},
   "outputs": [],
   "source": [
    "nidn.plot_eps_per_point(cfg,compare_to_material=\"titanium_oxide\")"
   ]
  },
  {
   "cell_type": "markdown",
   "id": "6c0b0854",
   "metadata": {},
   "source": [
    "# Single layer , uniform, classification"
   ]
  },
  {
   "cell_type": "code",
   "execution_count": null,
   "id": "09bb33f5",
   "metadata": {},
   "outputs": [],
   "source": [
    "cfg.pop(\"model\",None); # Forget the old model\n",
    "\n",
    "# Allowed range of epsilon values\n",
    "cfg.real_min_eps = 0.0\n",
    "cfg.real_max_eps = 20.0\n",
    "cfg.imag_min_eps = 0.0\n",
    "cfg.imag_max_eps = 6.0\n",
    "\n",
    "cfg.type = \"classification\" # Choose type as described above\n",
    "cfg.iterations = 1000 # Set number of training iterations (that is forward model evaluations) to perform"
   ]
  },
  {
   "cell_type": "code",
   "execution_count": null,
   "id": "481b28f2",
   "metadata": {
    "scrolled": true
   },
   "outputs": [],
   "source": [
    "nidn.run_training(cfg);"
   ]
  },
  {
   "cell_type": "code",
   "execution_count": null,
   "id": "0bc16df3",
   "metadata": {
    "scrolled": false
   },
   "outputs": [],
   "source": [
    "nidn.plot_spectra(cfg)\n",
    "nidn.plot_eps_per_point(cfg)"
   ]
  },
  {
   "cell_type": "markdown",
   "id": "f2b7bf18",
   "metadata": {},
   "source": [
    "## Uniform 3-Layer Ground Truth "
   ]
  },
  {
   "cell_type": "code",
   "execution_count": null,
   "id": "b601e1b4",
   "metadata": {},
   "outputs": [],
   "source": [
    "# Load default cfg as starting point\n",
    "cfg = nidn.load_default_cfg()\n",
    "\n",
    "# Set grid specifics\n",
    "cfg.Nx = 1\n",
    "cfg.Ny = 1\n",
    "cfg.N_layers = 3\n",
    "cfg.N_freq = 32\n",
    "cfg.PER_LAYER_THICKNESS = [1.0]\n",
    "cfg.FDTD_pulse_type = 'continuous'\n",
    "cfg.FDTD_source_type = 'line'\n",
    "\n",
    "# Specify your desired range of wavelengths\n",
    "cfg.physical_wavelength_range[0] = 6e-7 \n",
    "cfg.physical_wavelength_range[1] = 3e-6\n",
    "\n",
    "cfg.target_reflectance_spectrum = [0.14366185,0.18082630,0.44159215,0.13900707,0.42354783,0.24970388,0.30973613,0.47214355,0.30011608,0.15332924,0.09055452,0.60143572,0.51474908,0.37658953,0.27063780,0.45364774,0.55430213,0.21988917,0.32426597,0.39211774,0.63102091,0.10027350,0.06674312,0.65084378,0.16552294,0.11849790,0.70735398,0.70993483,0.61116687,0.66113145,0.70942884,0.58548506,]\n",
    "cfg.target_transmittance_spectrum = [0.79465473,0.77935693,0.49396852,0.59691749,0.46510639,0.66354500,0.57803518,0.47349583,0.56241237,0.47413405,0.50198955,0.29456976,0.43202764,0.49411406,0.26503634,0.04106800,0.00099033,0.00000326,0.00000060,0.00000012,0.00000007,0.00000003,0.00000002,0.00000001,0.00000000,0.00000000,0.00000000,0.00000000,0.00000000,0.00000000,0.00000000,0.00000000,]\n",
    "\n",
    "cfg.FDTD_niter = 800\n",
    "cfg.solver =\"FDTD\"\n",
    "\n",
    "nidn.plot_spectrum(cfg,\n",
    "                   cfg.target_reflectance_spectrum,\n",
    "                   cfg.target_transmittance_spectrum)"
   ]
  },
  {
   "cell_type": "code",
   "execution_count": null,
   "id": "579f8ada",
   "metadata": {},
   "outputs": [],
   "source": [
    "# Allowed range of epsilon values\n",
    "cfg.pop(\"model\",None); # Forget the old model\n",
    "cfg.real_min_eps = -15.0\n",
    "cfg.real_max_eps = 30.0\n",
    "cfg.imag_min_eps = 0.0\n",
    "cfg.imag_max_eps = 50.0\n",
    "\n",
    "cfg.type = \"regression\" # Choose type as described above (for now still regression)\n",
    "cfg.iterations = 2000 # Set number of training iterations (that is forward model evaluations) to perform"
   ]
  },
  {
   "cell_type": "code",
   "execution_count": null,
   "id": "7a834af6",
   "metadata": {
    "scrolled": false
   },
   "outputs": [],
   "source": [
    "nidn.run_training(cfg);"
   ]
  },
  {
   "cell_type": "code",
   "execution_count": null,
   "id": "a647a1ae",
   "metadata": {
    "scrolled": false
   },
   "outputs": [],
   "source": [
    "# The other plots\n",
    "nidn.plot_spectra(cfg)\n",
    "nidn.plot_eps_per_point(cfg,compare_to_material=[\"titanium_oxide\",\"germanium\",\"tantalum_pentoxide\"])"
   ]
  },
  {
   "cell_type": "code",
   "execution_count": null,
   "id": "3e086e94",
   "metadata": {},
   "outputs": [],
   "source": [
    "# Allowed range of epsilon values\n",
    "cfg.pop(\"model\",None); # Forget the old model\n",
    "\n",
    "cfg.type = \"classification\" # Choose type as described above (for now still regression)\n",
    "cfg.iterations = 2000 # Set number of training iterations (that is forward model evaluations) to perform"
   ]
  },
  {
   "cell_type": "code",
   "execution_count": null,
   "id": "0eddee6e",
   "metadata": {},
   "outputs": [],
   "source": [
    "nidn.run_training(cfg);"
   ]
  },
  {
   "cell_type": "code",
   "execution_count": null,
   "id": "68cbb987",
   "metadata": {
    "scrolled": false
   },
   "outputs": [],
   "source": [
    "# The other plots\n",
    "nidn.plot_spectra(cfg)\n",
    "nidn.plot_eps_per_point(cfg,compare_to_material=[\"titanium_oxide\",\"germanium\",\"tantalum_pentoxide\"])"
   ]
  }
 ],
 "metadata": {
  "kernelspec": {
   "display_name": "Python 3 (ipykernel)",
   "language": "python",
   "name": "python3"
  },
  "language_info": {
   "codemirror_mode": {
    "name": "ipython",
    "version": 3
   },
   "file_extension": ".py",
   "mimetype": "text/x-python",
   "name": "python",
   "nbconvert_exporter": "python",
   "pygments_lexer": "ipython3",
   "version": "3.9.7"
  }
 },
 "nbformat": 4,
 "nbformat_minor": 5
}
